{
 "cells": [
  {
   "cell_type": "code",
   "execution_count": 9,
   "metadata": {},
   "outputs": [
    {
     "name": "stdout",
     "output_type": "stream",
     "text": [
      "something\n"
     ]
    }
   ],
   "source": [
    "# %%capture --no-stderr cap\n",
    "\n",
    "def printing():\n",
    "    print(\"something\")\n",
    "printing()\n",
    "\n",
    "# with open('capture.txt', \"w\") as f:\n",
    "#     f.write(cap.stdout)\n",
    "\n",
    "# import glob\n",
    "# glob.glob('**/capture.txt', recursive = True)"
   ]
  },
  {
   "cell_type": "code",
   "execution_count": null,
   "metadata": {},
   "outputs": [],
   "source": []
  },
  {
   "cell_type": "code",
   "execution_count": 10,
   "metadata": {},
   "outputs": [
    {
     "data": {
      "text/plain": [
       "['capture.txt']"
      ]
     },
     "execution_count": 10,
     "metadata": {},
     "output_type": "execute_result"
    }
   ],
   "source": [
    "import glob\n",
    "glob.glob('**/capture.txt', recursive = True)"
   ]
  },
  {
   "cell_type": "code",
   "execution_count": 1,
   "metadata": {},
   "outputs": [],
   "source": [
    "import numpy as np "
   ]
  },
  {
   "cell_type": "code",
   "execution_count": 5,
   "metadata": {},
   "outputs": [
    {
     "name": "stdout",
     "output_type": "stream",
     "text": [
      "Unexpected exception formatting exception. Falling back to standard exception\n"
     ]
    },
    {
     "name": "stderr",
     "output_type": "stream",
     "text": [
      "Traceback (most recent call last):\n",
      "  File \"/Users/bhanukedhar/Library/Python/3.10/lib/python/site-packages/IPython/core/interactiveshell.py\", line 3378, in run_code\n",
      "    exec(code_obj, self.user_global_ns, self.user_ns)\n",
      "  File \"/var/folders/cd/60bgrl6d57gcpppm6fn4m4780000gn/T/ipykernel_97122/2723252975.py\", line 2, in <module>\n",
      "    eval(st)\n",
      "  File \"<string>\", line 1, in <module>\n",
      "NameError: name 'vals' is not defined\n",
      "\n",
      "During handling of the above exception, another exception occurred:\n",
      "\n",
      "Traceback (most recent call last):\n",
      "  File \"/Users/bhanukedhar/Library/Python/3.10/lib/python/site-packages/IPython/core/interactiveshell.py\", line 1997, in showtraceback\n",
      "    stb = self.InteractiveTB.structured_traceback(\n",
      "  File \"/Users/bhanukedhar/Library/Python/3.10/lib/python/site-packages/IPython/core/ultratb.py\", line 1112, in structured_traceback\n",
      "    return FormattedTB.structured_traceback(\n",
      "  File \"/Users/bhanukedhar/Library/Python/3.10/lib/python/site-packages/IPython/core/ultratb.py\", line 1006, in structured_traceback\n",
      "    return VerboseTB.structured_traceback(\n",
      "  File \"/Users/bhanukedhar/Library/Python/3.10/lib/python/site-packages/IPython/core/ultratb.py\", line 859, in structured_traceback\n",
      "    formatted_exception = self.format_exception_as_a_whole(etype, evalue, etb, number_of_lines_of_context,\n",
      "  File \"/Users/bhanukedhar/Library/Python/3.10/lib/python/site-packages/IPython/core/ultratb.py\", line 793, in format_exception_as_a_whole\n",
      "    self.get_records(etb, number_of_lines_of_context, tb_offset) if etb else []\n",
      "  File \"/Users/bhanukedhar/Library/Python/3.10/lib/python/site-packages/IPython/core/ultratb.py\", line 848, in get_records\n",
      "    return list(stack_data.FrameInfo.stack_data(etb, options=options))[tb_offset:]\n",
      "  File \"/Users/bhanukedhar/Library/Python/3.10/lib/python/site-packages/stack_data/core.py\", line 597, in stack_data\n",
      "    yield from collapse_repeated(\n",
      "  File \"/Users/bhanukedhar/Library/Python/3.10/lib/python/site-packages/stack_data/utils.py\", line 84, in collapse_repeated\n",
      "    yield from map(mapper, original_group)\n",
      "  File \"/Users/bhanukedhar/Library/Python/3.10/lib/python/site-packages/stack_data/core.py\", line 587, in mapper\n",
      "    return cls(f, options)\n",
      "  File \"/Users/bhanukedhar/Library/Python/3.10/lib/python/site-packages/stack_data/core.py\", line 551, in __init__\n",
      "    self.executing = Source.executing(frame_or_tb)\n",
      "  File \"/Users/bhanukedhar/Library/Python/3.10/lib/python/site-packages/executing/executing.py\", line 323, in executing\n",
      "    source = cls.for_frame(frame)\n",
      "  File \"/Users/bhanukedhar/Library/Python/3.10/lib/python/site-packages/executing/executing.py\", line 247, in for_frame\n",
      "    return cls.for_filename(frame.f_code.co_filename, frame.f_globals or {}, use_cache)\n",
      "  File \"/Users/bhanukedhar/Library/Python/3.10/lib/python/site-packages/executing/executing.py\", line 275, in for_filename\n",
      "    return cls._for_filename_and_lines(filename, lines)\n",
      "  File \"/Users/bhanukedhar/Library/Python/3.10/lib/python/site-packages/executing/executing.py\", line 285, in _for_filename_and_lines\n",
      "    result = source_cache[(filename, lines)] = cls(filename, lines)\n",
      "  File \"/Users/bhanukedhar/Library/Python/3.10/lib/python/site-packages/stack_data/core.py\", line 97, in __init__\n",
      "    self.asttokens()\n",
      "  File \"/Users/bhanukedhar/Library/Python/3.10/lib/python/site-packages/executing/executing.py\", line 387, in asttokens\n",
      "    return ASTTokens(\n",
      "  File \"/Users/bhanukedhar/Library/Python/3.10/lib/python/site-packages/asttokens/asttokens.py\", line 61, in __init__\n",
      "    source_text = six.ensure_text(source_text)\n",
      "AttributeError: module 'six' has no attribute 'ensure_text'\n"
     ]
    }
   ],
   "source": [
    "\n",
    "st = '(vals[0] + (np.arange(len(vals)) % 10) / 11).reshape((16,2333))'\n",
    "eval(st)"
   ]
  },
  {
   "cell_type": "code",
   "execution_count": null,
   "metadata": {},
   "outputs": [],
   "source": []
  }
 ],
 "metadata": {
  "kernelspec": {
   "display_name": "Python 3.10.0 64-bit",
   "language": "python",
   "name": "python3"
  },
  "language_info": {
   "codemirror_mode": {
    "name": "ipython",
    "version": 3
   },
   "file_extension": ".py",
   "mimetype": "text/x-python",
   "name": "python",
   "nbconvert_exporter": "python",
   "pygments_lexer": "ipython3",
   "version": "3.10.0"
  },
  "orig_nbformat": 4,
  "vscode": {
   "interpreter": {
    "hash": "aee8b7b246df8f9039afb4144a1f6fd8d2ca17a180786b69acc140d282b71a49"
   }
  }
 },
 "nbformat": 4,
 "nbformat_minor": 2
}
