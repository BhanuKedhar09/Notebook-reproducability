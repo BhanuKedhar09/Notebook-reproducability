{
 "cells": [
  {
   "cell_type": "code",
   "execution_count": 1,
   "id": "203b87e4",
   "metadata": {
    "execution": {
     "iopub.execute_input": "2023-04-17T16:40:32.569988Z",
     "iopub.status.busy": "2023-04-17T16:40:32.569534Z",
     "iopub.status.idle": "2023-04-17T16:40:32.582317Z",
     "shell.execute_reply": "2023-04-17T16:40:32.581787Z"
    }
   },
   "outputs": [],
   "source": [
    "\n",
    "types = dict()\n",
    "def get_types(obj):\n",
    "    if isinstance(obj, dict):\n",
    "        return {type(obj).__name__: {k: get_types(v) for k, v in obj.items()}}\n",
    "    elif isinstance(obj, (list, tuple, set)):\n",
    "        return {type(obj).__name__: [get_types(item) for item in obj]}\n",
    "    else:\n",
    "        return type(obj).__name__\n"
   ]
  },
  {
   "cell_type": "code",
   "execution_count": 2,
   "metadata": {
    "execution": {
     "iopub.execute_input": "2023-04-17T16:40:32.585367Z",
     "iopub.status.busy": "2023-04-17T16:40:32.584949Z",
     "iopub.status.idle": "2023-04-17T16:40:32.593537Z",
     "shell.execute_reply": "2023-04-17T16:40:32.593097Z"
    }
   },
   "outputs": [
    {
     "data": {
      "text/plain": [
       "({'a', 'a', 'b'}, {'a', 'b', 'c', 'c'})"
      ]
     },
     "execution_count": 2,
     "metadata": {},
     "output_type": "execute_result"
    }
   ],
   "source": [
    "from multiset import Multiset\n",
    "\n",
    "class MyMultiset(Multiset):\n",
    "    def __repr__(self):\n",
    "        return '{%s}' % ', '.join(map(repr, self.__iter__()))\n",
    "\n",
    "set1 = MyMultiset('aab')\n",
    "set2 = MyMultiset('abcc')\n",
    "(set1, set2)"
   ]
  },
  {
   "cell_type": "code",
   "execution_count": 3,
   "id": "0d0358f0",
   "metadata": {
    "execution": {
     "iopub.execute_input": "2023-04-17T16:40:32.628166Z",
     "iopub.status.busy": "2023-04-17T16:40:32.627990Z",
     "iopub.status.idle": "2023-04-17T16:40:32.630219Z",
     "shell.execute_reply": "2023-04-17T16:40:32.629931Z"
    }
   },
   "outputs": [],
   "source": [
    "types[0] = get_types(((set1, set2)))"
   ]
  },
  {
   "cell_type": "code",
   "execution_count": null,
   "metadata": {},
   "outputs": [],
   "source": []
  },
  {
   "cell_type": "code",
   "execution_count": null,
   "metadata": {},
   "outputs": [],
   "source": []
  },
  {
   "cell_type": "code",
   "execution_count": null,
   "metadata": {},
   "outputs": [],
   "source": []
  }
 ],
 "metadata": {
  "kernelspec": {
   "display_name": "Python 3 (ipykernel)",
   "language": "python",
   "name": "python3"
  },
  "language_info": {
   "codemirror_mode": {
    "name": "ipython",
    "version": 3
   },
   "file_extension": ".py",
   "mimetype": "text/x-python",
   "name": "python",
   "nbconvert_exporter": "python",
   "pygments_lexer": "ipython3",
   "version": "3.11.3"
  },
  "vscode": {
   "interpreter": {
    "hash": "b0fa6594d8f4cbf19f97940f81e996739fb7646882a419484c72d19e05852a7e"
   }
  }
 },
 "nbformat": 4,
 "nbformat_minor": 2
}
