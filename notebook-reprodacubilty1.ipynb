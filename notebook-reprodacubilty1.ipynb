{
 "cells": [
  {
   "cell_type": "code",
   "execution_count": 1,
   "id": "a2bf83e9",
   "metadata": {},
   "outputs": [
    {
     "name": "stdout",
     "output_type": "stream",
     "text": [
      "\n"
     ]
    }
   ],
   "source": [
    "import nbformat\n",
    "from nbformat.v4 import new_code_cell, new_markdown_cell, new_output\n",
    "from nbclient import NotebookClient\n",
    "from nbformat.v4 import new_notebook, new_code_cell\n",
    "\n",
    "# Load the notebook\n",
    "with open('reproduce-cases-testing.ipynb') as f:\n",
    "    nb = nbformat.read(f, as_version=4)\n",
    "\n",
    "new_indexes = []\n",
    "for i, cell in enumerate(nb.cells):\n",
    "    if cell.get('outputs'):\n",
    "        cell = nb.cells[i]\n",
    "        source = cell.source.splitlines()\n",
    "        source = [line+\"\\n\" for line in source if line.strip() != '']\n",
    "        source = [s.replace('\\\\n', '\\n') for s in source]\n",
    "        s1 = []\n",
    "        for line in source:\n",
    "            if line.lstrip()[0] != \"#\":\n",
    "                s1.append(line)\n",
    "        if s1[-1][0] != \" \":\n",
    "            new_cell = new_code_cell()\n",
    "            new_cell.source = \"type((\"+s1[-1].rstrip()+\"))\\n\"\n",
    "            nb.cells.insert(i+1, new_cell)\n",
    "            new_indexes.append(i+1)\n",
    "print()\n",
    "# Save the modified notebook\n",
    "with open('new_notebook.ipynb', 'w') as f:\n",
    "    nbformat.write(nb, f)\n"
   ]
  },
  {
   "cell_type": "code",
   "execution_count": 2,
   "id": "6f3b1b19",
   "metadata": {},
   "outputs": [
    {
     "name": "stdout",
     "output_type": "stream",
     "text": [
      "[NbConvertApp] Converting notebook new_notebook.ipynb to notebook\n",
      "0.00s - Debugger warning: It seems that frozen modules are being used, which may\n",
      "0.00s - make the debugger miss breakpoints. Please pass -Xfrozen_modules=off\n",
      "0.00s - to python to disable frozen modules.\n",
      "0.00s - Note: Debugging will proceed. Set PYDEVD_DISABLE_FILE_VALIDATION=1 to disable this validation.\n",
      "0.00s - Debugger warning: It seems that frozen modules are being used, which may\n",
      "0.00s - make the debugger miss breakpoints. Please pass -Xfrozen_modules=off\n",
      "0.00s - to python to disable frozen modules.\n",
      "0.00s - Note: Debugging will proceed. Set PYDEVD_DISABLE_FILE_VALIDATION=1 to disable this validation.\n",
      "[NbConvertApp] Writing 17872 bytes to new_notebook.ipynb\n"
     ]
    }
   ],
   "source": [
    "!jupyter nbconvert --execute --to notebook --inplace new_notebook.ipynb"
   ]
  },
  {
   "cell_type": "code",
   "execution_count": 3,
   "id": "e2491f16",
   "metadata": {},
   "outputs": [],
   "source": [
    "import json\n",
    "with open(\"new_notebook.ipynb\", \"r\") as f:\n",
    "    nb1 = nbformat.read(f, as_version=4)"
   ]
  },
  {
   "cell_type": "code",
   "execution_count": 4,
   "id": "170b78e5",
   "metadata": {},
   "outputs": [],
   "source": [
    "import json \n",
    "with open(\"reproduce-cases.ipynb\", mode = \"r\", encoding= \"utf-8\") as f:\n",
    "    fist = nbformat.read(f, as_version=4)"
   ]
  },
  {
   "cell_type": "code",
   "execution_count": 5,
   "id": "6e02df15",
   "metadata": {},
   "outputs": [
    {
     "data": {
      "text/plain": [
       "[2, 5, 7, 9, 11, 13, 15, 18, 21, 23]"
      ]
     },
     "execution_count": 5,
     "metadata": {},
     "output_type": "execute_result"
    }
   ],
   "source": [
    "new_indexes"
   ]
  },
  {
   "cell_type": "code",
   "execution_count": 6,
   "id": "5754d047",
   "metadata": {},
   "outputs": [],
   "source": [
    "types = []\n",
    "testing_outputs = []\n",
    "for i, ce in enumerate(nb1.cells):\n",
    "    if i in new_indexes and ce[\"cell_type\"] == \"code\":\n",
    "        types.append(ce[\"outputs\"][0][\"data\"][\"text/plain\"])\n",
    "    elif ce[\"cell_type\"] == \"code\" and ce.get(\"outputs\"):\n",
    "        testing_outputs.append(ce[\"outputs\"][0][\"data\"][\"text/plain\"])"
   ]
  },
  {
   "cell_type": "code",
   "execution_count": 7,
   "id": "453f9457",
   "metadata": {},
   "outputs": [
    {
     "data": {
      "text/plain": [
       "[\"('weather-buoy-data.txt.gz', <http.client.HTTPMessage at 0x1054bea90>)\",\n",
       " 'array([[88.        , 88.09090909, 88.18181818, ..., 88.        ,\\n        88.09090909, 88.18181818],\\n       [88.27272727, 88.36363636, 88.45454545, ..., 88.27272727,\\n        88.36363636, 88.45454545],\\n       [88.54545455, 88.63636364, 88.72727273, ..., 88.54545455,\\n        88.63636364, 88.72727273],\\n       ...,\\n       [88.81818182, 88.        , 88.09090909, ..., 88.81818182,\\n        88.        , 88.09090909],\\n       [88.18181818, 88.27272727, 88.36363636, ..., 88.18181818,\\n        88.27272727, 88.36363636],\\n       [88.45454545, 88.54545455, 88.63636364, ..., 88.45454545,\\n        88.54545455, 88.63636364]])',\n",
       " 'array([[88.  , 88.09, 88.18, ..., 88.  , 88.09, 88.18],\\n       [88.27, 88.36, 88.45, ..., 88.27, 88.36, 88.45],\\n       [88.55, 88.64, 88.73, ..., 88.55, 88.64, 88.73],\\n       ...,\\n       [88.82, 88.  , 88.09, ..., 88.82, 88.  , 88.09],\\n       [88.18, 88.27, 88.36, ..., 88.18, 88.27, 88.36],\\n       [88.45, 88.55, 88.64, ..., 88.45, 88.55, 88.64]])',\n",
       " 'array([[88.  , 88.09, 88.18, ..., 88.  , 88.09, 88.18],\\n       [88.27, 88.36, 88.45, ..., 88.27, 88.36, 88.45],\\n       [88.54, 88.63, 88.72, ..., 88.54, 88.63, 88.72],\\n       ...,\\n       [88.81, 88.  , 88.09, ..., 88.81, 88.  , 88.09],\\n       [88.18, 88.27, 88.36, ..., 88.18, 88.27, 88.36],\\n       [88.45, 88.54, 88.63, ..., 88.45, 88.54, 88.63]])',\n",
       " 'array([[88.  , 88.09, 88.18, ..., 88.  , 88.09, 88.18],\\n       [88.27, 88.36, 88.45, ..., 88.27, 88.36, 88.45],\\n       [88.55, 88.64, 88.73, ..., 88.55, 88.64, 88.73],\\n       ...,\\n       [88.82, 88.  , 88.09, ..., 88.82, 88.  , 88.09],\\n       [88.18, 88.27, 88.36, ..., 88.18, 88.27, 88.36],\\n       [88.45, 88.55, 88.64, ..., 88.45, 88.55, 88.64]])',\n",
       " 'False',\n",
       " '((16, 2333), (16, 2333), (16, 2332))',\n",
       " \"('fl-weather-alerts.json', <http.client.HTTPMessage at 0x105fc6590>)\",\n",
       " '2',\n",
       " \"['Beach Hazards Statement issued April 17 at 4:58AM EDT until April 18 at 4:00AM EDT by NWS Melbourne FL',\\n 'Rip Current Statement issued April 17 at 2:21AM EDT until April 17 at 8:00PM EDT by NWS Tallahassee FL']\"]"
      ]
     },
     "execution_count": 7,
     "metadata": {},
     "output_type": "execute_result"
    }
   ],
   "source": [
    "testing_outputs"
   ]
  },
  {
   "cell_type": "code",
   "execution_count": 7,
   "id": "f7f7911e",
   "metadata": {},
   "outputs": [],
   "source": [
    "original_outputs = []\n",
    "\n",
    "for i, ce in enumerate(fist.cells):\n",
    "    if ce.get('outputs'):\n",
    "        original_outputs.append((ce[\"outputs\"][0][\"data\"][\"text/plain\"], i))"
   ]
  },
  {
   "cell_type": "code",
   "execution_count": null,
   "id": "432ebcd1",
   "metadata": {},
   "outputs": [],
   "source": []
  },
  {
   "cell_type": "code",
   "execution_count": 8,
   "id": "d8fa2dc0",
   "metadata": {},
   "outputs": [
    {
     "data": {
      "text/plain": [
       "True"
      ]
     },
     "execution_count": 8,
     "metadata": {},
     "output_type": "execute_result"
    }
   ],
   "source": [
    "len(types) == len(original_outputs) == len(testing_outputs)"
   ]
  },
  {
   "cell_type": "code",
   "execution_count": 9,
   "id": "81010417",
   "metadata": {},
   "outputs": [
    {
     "data": {
      "text/plain": [
       "['tuple',\n",
       " 'numpy.ndarray',\n",
       " 'numpy.ndarray',\n",
       " 'numpy.ndarray',\n",
       " 'numpy.ndarray',\n",
       " 'bool',\n",
       " 'tuple',\n",
       " 'tuple',\n",
       " 'int',\n",
       " 'list']"
      ]
     },
     "execution_count": 9,
     "metadata": {},
     "output_type": "execute_result"
    }
   ],
   "source": [
    "types"
   ]
  },
  {
   "cell_type": "code",
   "execution_count": 10,
   "id": "a50eaf7d",
   "metadata": {},
   "outputs": [],
   "source": [
    "new_list = list()\n",
    "\n",
    "def compare_numpy_arrays(arr1, arr2):\n",
    "    d= {}\n",
    "    try:\n",
    "        if arr1[0][0:5] == \"array\" and arr2[0][0:5] == \"array\":\n",
    "            for u in range(len(arr1)):\n",
    "                arr1[u] = arr1[u].replace(\"...,\", \"\").strip()\n",
    "            un = \"\".join(arr1)\n",
    "#             print(un)\n",
    "            lst_arr = np.array(eval(\"np.\" + un))\n",
    "            new_arr = np.delete(np.delete(lst_arr,3,axis =0), -4, axis =0)\n",
    "            new_arr = np.delete(np.delete(new_arr,3, axis = 1), -4, axis=1)\n",
    "            for u in range(len(arr2)):\n",
    "                arr2[u] = arr2[u].replace(\"...,\", \"\").strip()\n",
    "            un = \"\".join(arr2)\n",
    "            lst_arr1 = np.array(eval(\"np.\" + un))\n",
    "            mae = mean_absolute_error(new_arr, lst_arr1)\n",
    "            return f\"{mae} mae value\"\n",
    "\n",
    "        else:\n",
    "            return \"Not an numpy array\"\n",
    "    except Exception as e:\n",
    "        print(e)\n",
    "        return e"
   ]
  },
  {
   "cell_type": "code",
   "execution_count": 11,
   "id": "b65ae12b",
   "metadata": {},
   "outputs": [],
   "source": [
    "def compare_tuples(t1, t2):\n",
    "    score = 0\n",
    "    for i in range(len(t1)):\n",
    "        print(type(t1[i]), t1[i])\n",
    "        if isinstance(t1[i], str) and isinstance(t2[i], str):\n",
    "            if t1[i] == t2[i]:\n",
    "                score += 1\n",
    "        elif isinstance(t1[i], (list, tuple)) and isinstance(t2[i], (list, tuple)):\n",
    "            score += compare_tuples(t1[i], t2[i])\n",
    "        elif isinstance(t1[i], (int, float)) and isinstance(t2[i], (int, float)):\n",
    "            if abs(t1[i] - t2[i]) < 0.0001:\n",
    "                score += 1\n",
    "    return score / len(t1)"
   ]
  },
  {
   "cell_type": "code",
   "execution_count": 12,
   "id": "1cb47829",
   "metadata": {},
   "outputs": [],
   "source": [
    "def compare_strings(s, s1,i,j):\n",
    "    # s = first_dict[13][1][:i+1]\n",
    "    # s1 = second_dict[13][1][:j+1]\n",
    "    # s1 = [i.replace(\"\\\\n\", \"\\n\").replace(\"[\", \"\").replace(\"]\", \"\").replace(\"'\", \"\").replace(\",\", \"\").strip() for i in s1]\n",
    "    # s = [i.replace(\"\\n\", \"\").replace(\"[\", \"\").replace(\"]\", \"\").replace(\"'\", \"\").replace(\",\", \"\").strip() for i in s]\n",
    "    li = []\n",
    "    for line in s:\n",
    "        d = dict()\n",
    "        le = 0\n",
    "        # li.append(Counter(line.split()))\n",
    "        for count, word in enumerate(line.split()):\n",
    "            le = le + len(word)\n",
    "            if word in d.keys():\n",
    "                # d[word][0] += 1\n",
    "                # d[word][1].add(count+1)\n",
    "                d[word][1].append((le-len(word), le))\n",
    "            else:\n",
    "                # d[word] = [1, {count+1}]\n",
    "                d[word] = [1,[(le-len(word),le)]]\n",
    "            \n",
    "            le = le+1\n",
    "        li.append(d)\n",
    "    # print(li)\n",
    "    cw = set(li[0].keys())\n",
    "    for i in li[1:]:\n",
    "        cw = cw.intersection(set(i.keys()))\n",
    "    mcw = dict()\n",
    "    for i in li:\n",
    "        for k in i:\n",
    "            if k in mcw.keys():\n",
    "                mcw[k][0] += i[k][0]\n",
    "                mcw[k][1].append(i[k][1])\n",
    "            else:\n",
    "                mcw[k] = [i[k][0], [i[k][1]]]\n",
    "    # print(mcw[\"Tropical\"])\n",
    "    for k in mcw:\n",
    "        ol = mcw[k]\n",
    "        nl = [ol[0]]\n",
    "        tl = []\n",
    "        for sublist in ol[1]:\n",
    "            tl += sublist\n",
    "        nl.append(tl)\n",
    "        nl[1] = list(set(nl[1]))\n",
    "        mcw[k] = nl\n",
    "    import re\n",
    "    cwd = dict()\n",
    "    for word in cw:\n",
    "        cwd[word] = mcw[word]\n",
    "    whole_percentage = []\n",
    "    for count, st in enumerate(s1):\n",
    "        # print(st)\n",
    "        percentage = 0\n",
    "        for word in cwd:\n",
    "            strr = r\"\" + word\n",
    "            reg = r\"\\b\" + strr + r\"\\b\"\n",
    "            indexes = re.search(reg, st)\n",
    "            # print(word, indexes)\n",
    "            if cwd[word] is not None and indexes is not None:\n",
    "                if  (indexes.start(), indexes.end()) in cwd[word][1]:\n",
    "                    percentage +=1\n",
    "        whole_percentage.append(percentage/len(cwd))\n",
    "    return sum(whole_percentage) / len(whole_percentage)\n",
    "    "
   ]
  },
  {
   "cell_type": "code",
   "execution_count": 13,
   "id": "01fffd37",
   "metadata": {},
   "outputs": [
    {
     "name": "stdout",
     "output_type": "stream",
     "text": [
      "<class 'str'> weather-buoy-data.txt.gz\n",
      "<class 'str'> http.client.HTTPMessage\n",
      "<class 'tuple'> (16, 2333)\n",
      "<class 'int'> 16\n",
      "<class 'int'> 2333\n",
      "<class 'tuple'> (16, 2333)\n",
      "<class 'int'> 16\n",
      "<class 'int'> 2333\n",
      "<class 'tuple'> (16, 2332)\n",
      "<class 'int'> 16\n",
      "<class 'int'> 2332\n",
      "<class 'str'> fl-weather-alerts.json\n",
      "<class 'str'> http.client.HTTPMessage\n"
     ]
    }
   ],
   "source": [
    "import ast\n",
    "import re\n",
    "import numpy as np\n",
    "import numpy as np\n",
    "from sklearn.metrics import mean_absolute_error\n",
    "res_dict = dict()\n",
    "\n",
    "for i, (ty, out1, out2) in enumerate(zip(types, original_outputs, testing_outputs)):\n",
    "    if ty == \"tuple\":\n",
    "        y = out1[0]\n",
    "        x = out2\n",
    "        pattern = r'<.*?>'\n",
    "        match = re.search(pattern, x)\n",
    "        match1 = re.search(pattern, y)\n",
    "        if match and match1:\n",
    "            obj_str = match.group(0)\n",
    "            obj_str1 = match1.group(0)\n",
    "            x = x.replace(obj_str, str(\"'\" + obj_str.split(\" \")[0][1:]+ \"'\"))\n",
    "            y = y.replace(obj_str1, str(\"'\" + obj_str1.split(\" \")[0][1:] + \"'\"))            \n",
    "        first_output = ast.literal_eval(x)\n",
    "        second_output = ast.literal_eval(y)\n",
    "        ret = compare_tuples(first_output,second_output)\n",
    "        res_dict[(out1[1], out1[1])] = ret\n",
    "    elif ty == \"int\":\n",
    "        ii = out1[0]\n",
    "        jj = out2\n",
    "        if int(ii) == int(jj):\n",
    "            res_dict[(out1[1], out1[1])] = 1\n",
    "        else:\n",
    "            res_dict[(out1[1],out1[1])] = 0 \n",
    "    elif ty == \"list\":\n",
    "        s = out1[0]\n",
    "        s1 = out2\n",
    "        oi =  ast.literal_eval(s)\n",
    "        oi2 = ast.literal_eval(s1)\n",
    "        list_types_s = []\n",
    "        list_types_s1 = []\n",
    "        list1_str_index = 0\n",
    "        list2_str_index = 0\n",
    "        for t in oi:\n",
    "            if isinstance(t, str):\n",
    "                list1_str_index += 1\n",
    "            else:\n",
    "                break\n",
    "        for t in oi2:\n",
    "            if isinstance(t, str):\n",
    "                list2_str_index +=1\n",
    "            else:\n",
    "                break\n",
    "        res2 = compare_strings(oi[:list1_str_index], oi2[:list2_str_index], list1_str_index, list2_str_index)\n",
    "        res_dict[(out1[1], out1[1])] = res2\n",
    "    elif ty  == \"numpy.ndarray\":\n",
    "        arr1 = out1[0].strip().split(\"\\n\")\n",
    "        arr2 = out2.strip().split(\"\\n\")\n",
    "        res_dict[(out1[1], out1[1])] = compare_numpy_arrays(arr1, arr2)\n",
    "    elif ty is bool:\n",
    "        if first_dict[du][1] == second_dict[du1][1]:\n",
    "             res_dict[(out1[1], out1[1])] = 0\n",
    "        else:\n",
    "            res_dict[(out1[1], out1[1])] = 1\n",
    "        "
   ]
  },
  {
   "cell_type": "code",
   "execution_count": 14,
   "id": "74d43ffc",
   "metadata": {},
   "outputs": [
    {
     "data": {
      "text/plain": [
       "{(1, 1): 1.0,\n",
       " (3, 3): '2.6794444446901857e-06 mae value',\n",
       " (4, 4): '0.0 mae value',\n",
       " (5, 5): '0.0 mae value',\n",
       " (6, 6): '0.0 mae value',\n",
       " (8, 8): 1.0,\n",
       " (10, 10): 1.0,\n",
       " (12, 12): 0,\n",
       " (13, 13): 0.5809523809523811}"
      ]
     },
     "execution_count": 14,
     "metadata": {},
     "output_type": "execute_result"
    }
   ],
   "source": [
    "res_dict"
   ]
  },
  {
   "cell_type": "code",
   "execution_count": null,
   "id": "df196d53",
   "metadata": {},
   "outputs": [],
   "source": []
  },
  {
   "cell_type": "code",
   "execution_count": null,
   "id": "814f17dd",
   "metadata": {},
   "outputs": [],
   "source": []
  }
 ],
 "metadata": {
  "kernelspec": {
   "display_name": "Python 3 (ipykernel)",
   "language": "python",
   "name": "python3"
  },
  "language_info": {
   "codemirror_mode": {
    "name": "ipython",
    "version": 3
   },
   "file_extension": ".py",
   "mimetype": "text/x-python",
   "name": "python",
   "nbconvert_exporter": "python",
   "pygments_lexer": "ipython3",
   "version": "3.11.3"
  }
 },
 "nbformat": 4,
 "nbformat_minor": 5
}
