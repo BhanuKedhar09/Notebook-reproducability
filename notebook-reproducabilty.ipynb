{
 "cells": [
  {
   "cell_type": "code",
   "execution_count": 1,
   "metadata": {},
   "outputs": [],
   "source": [
    "# loading the files\n",
    "\n",
    "import json \n",
    "with open(\"reproduce-cases.ipynb\", mode = \"r\", encoding= \"utf-8\") as f:\n",
    "    fileoutput = json.loads(f.read())\n",
    "# fileoutput\n",
    "\n",
    "with open(\"reproduce-cases-testing.ipynb\", mode = \"r\", encoding= \"utf-8\") as f:\n",
    "    fileoutput1 = json.loads(f.read())\n"
   ]
  },
  {
   "cell_type": "code",
   "execution_count": 2,
   "metadata": {},
   "outputs": [],
   "source": [
    "# putting both the files in the format that i want\n",
    "# in the first dict and second dict first is source code as a list of strings\n",
    "# second is output as a list of strings\n",
    "# thrid is what kind of output it is for example ['data', 'text/plain']\n",
    "# fourth is output type\n",
    "\n",
    "\n",
    "first_dict = dict()\n",
    "second_dict = dict()\n",
    "for cell_count,d in enumerate(fileoutput[\"cells\"]):\n",
    "    # print(d)\n",
    "    if d[\"cell_type\"] == \"code\":\n",
    "        # print(d[\"cell_type\"].keys())\n",
    "        if d[\"outputs\"] != []:\n",
    "            for o in d[\"outputs\"]:\n",
    "                # print(o.keys())\n",
    "                first_dict[cell_count] = (d[\"source\"],o[list(o.keys())[0]][list(o[list(o.keys())[0]].keys())[0]], [list(o.keys())[0], list(o[list(o.keys())[0]].keys())[0]],d[\"outputs\"][0][\"output_type\"])\n",
    "        else:\n",
    "            first_dict[cell_count] = (d[\"source\"], [], [], \"\")\n",
    "        # break\n",
    "\n",
    "\n",
    "for cell_count, d in enumerate(fileoutput1[\"cells\"]):\n",
    "    if d[\"cell_type\"] == \"code\":\n",
    "        # print(d)\n",
    "        if d[\"outputs\"] != []:\n",
    "            for o in d[\"outputs\"]:\n",
    "                # print(o)\n",
    "                second_dict[cell_count] = (d[\"source\"],o[list(o.keys())[0]][list(o[list(o.keys())[0]].keys())[0]], [list(o.keys())[0], list(o[list(o.keys())[0]].keys())[0]],d[\"outputs\"][0][\"output_type\"])\n",
    "                # second_dict[d[\"id\"]] = (d[\"source\"],o[\"data\"][\"text/plain\"])\n",
    "        else:\n",
    "            second_dict[cell_count] = (d[\"source\"], [], [],\"\")\n"
   ]
  },
  {
   "cell_type": "code",
   "execution_count": 3,
   "metadata": {},
   "outputs": [
    {
     "data": {
      "text/plain": [
       "(['import urllib\\n',\n",
       "  '\\n',\n",
       "  \"local_fname = 'weather-buoy-data.txt.gz'\\n\",\n",
       "  \"urllib.request.urlretrieve('https://www.ndbc.noaa.gov/data/historical/stdmet/42040h2021.txt.gz', local_fname)\\n\",\n",
       "  '\\n',\n",
       "  '# np.__version__\\n',\n",
       "  '# !python -V\\n',\n",
       "  '# iii\\n',\n",
       "  '# !python4 -V'],\n",
       " [\"('weather-buoy-data.txt.gz', <http.client.HTTPMessage at 0x1077d5270>)\"],\n",
       " ['data', 'text/plain'],\n",
       " 'execute_result')"
      ]
     },
     "execution_count": 3,
     "metadata": {},
     "output_type": "execute_result"
    }
   ],
   "source": [
    "second_dict[1]"
   ]
  },
  {
   "cell_type": "code",
   "execution_count": 4,
   "metadata": {},
   "outputs": [
    {
     "data": {
      "text/plain": [
       "[tuple,\n",
       " 'No output',\n",
       " numpy.ndarray,\n",
       " numpy.ndarray,\n",
       " numpy.ndarray,\n",
       " numpy.ndarray,\n",
       " bool,\n",
       " tuple,\n",
       " tuple,\n",
       " 'No output',\n",
       " int,\n",
       " list,\n",
       " 'No output']"
      ]
     },
     "execution_count": 4,
     "metadata": {},
     "output_type": "execute_result"
    }
   ],
   "source": [
    "import ast\n",
    "types = []\n",
    "for du, d1 in zip(first_dict, second_dict):\n",
    "    # print(first_dict[d][2] != [])\n",
    "    if first_dict[du][3] == second_dict[d1][3] and first_dict[du][2] != []:\n",
    "        try:\n",
    "            s = second_dict[du][0]\n",
    "            source = []\n",
    "            source = [line for line in s if line.strip() != '']\n",
    "            source = [s.replace('\\\\n', '\\n') for s in source]\n",
    "            s1 = []\n",
    "            for line in source:\n",
    "                if line.lstrip()[0] != \"#\":\n",
    "                    s1.append(line)\n",
    "            if s1[-1][0] != \" \":\n",
    "                s1[-1] = s1[-1]+'\\n'\n",
    "                s1 = s1 + [\"variable_that_has_type = type((\"+s1[-1].rstrip()+\"))\\n\", \"outputt = \"+s1[-1].rstrip()+\"\\n\"]\n",
    "                s1 = \"\".join(s1)\n",
    "                # print(s1)\n",
    "                exec(\"\".join(s1))\n",
    "                # print(outputt)\n",
    "                # break\n",
    "                types.append(variable_that_has_type)\n",
    "            else:\n",
    "                exec(\"\".join(s1))\n",
    "                types.append(\"No output\")\n",
    "        except Exception as e:\n",
    "            types.append(e)\n",
    "            try:\n",
    "                liter = ast.literal_eval(outputt)\n",
    "                # print(liter)\n",
    "            except Exception as ea:\n",
    "                pass\n",
    "                # print(ea)\n",
    "    else:\n",
    "        # print(second_dict[du][0])\n",
    "        s = second_dict[du][0]\n",
    "        source = []\n",
    "        source = [line for line in s if line.strip() != '']\n",
    "        source = [s.replace('\\\\n', '\\n') for s in source]\n",
    "        s1 = []\n",
    "        for line in source:\n",
    "            if line.lstrip()[0] != \"#\":\n",
    "                s1.append(line)\n",
    "        \n",
    "        if (s1 != []) and (s1[-1][0] != \" \"):\n",
    "            s1[-1] = s1[-1]+'\\n'\n",
    "        s1 = \"\".join(s1)\n",
    "        # print(s1)\n",
    "        exec(\"\".join(s1))\n",
    "        # print(outputt)\n",
    "        # break\n",
    "        types.append(\"No output\")\n",
    "                \n",
    "types "
   ]
  },
  {
   "cell_type": "code",
   "execution_count": 5,
   "metadata": {},
   "outputs": [],
   "source": [
    "def compare_strings(s, s1,i,j):\n",
    "    # s = first_dict[13][1][:i+1]\n",
    "    # s1 = second_dict[13][1][:j+1]\n",
    "    # s1 = [i.replace(\"\\\\n\", \"\\n\").replace(\"[\", \"\").replace(\"]\", \"\").replace(\"'\", \"\").replace(\",\", \"\").strip() for i in s1]\n",
    "    # s = [i.replace(\"\\n\", \"\").replace(\"[\", \"\").replace(\"]\", \"\").replace(\"'\", \"\").replace(\",\", \"\").strip() for i in s]\n",
    "    li = []\n",
    "    for line in s:\n",
    "        d = dict()\n",
    "        le = 0\n",
    "        # li.append(Counter(line.split()))\n",
    "        for count, word in enumerate(line.split()):\n",
    "            le = le + len(word)\n",
    "            if word in d.keys():\n",
    "                # d[word][0] += 1\n",
    "                # d[word][1].add(count+1)\n",
    "                d[word][1].append((le-len(word), le))\n",
    "            else:\n",
    "                # d[word] = [1, {count+1}]\n",
    "                d[word] = [1,[(le-len(word),le)]]\n",
    "            \n",
    "            le = le+1\n",
    "        li.append(d)\n",
    "    # print(li)\n",
    "    cw = set(li[0].keys())\n",
    "    for i in li[1:]:\n",
    "        cw = cw.intersection(set(i.keys()))\n",
    "    mcw = dict()\n",
    "    for i in li:\n",
    "        for k in i:\n",
    "            if k in mcw.keys():\n",
    "                mcw[k][0] += i[k][0]\n",
    "                mcw[k][1].append(i[k][1])\n",
    "            else:\n",
    "                mcw[k] = [i[k][0], [i[k][1]]]\n",
    "    # print(mcw[\"Tropical\"])\n",
    "    for k in mcw:\n",
    "        ol = mcw[k]\n",
    "        nl = [ol[0]]\n",
    "        tl = []\n",
    "        for sublist in ol[1]:\n",
    "            tl += sublist\n",
    "        nl.append(tl)\n",
    "        nl[1] = list(set(nl[1]))\n",
    "        mcw[k] = nl\n",
    "    import re\n",
    "    cwd = dict()\n",
    "    for word in cw:\n",
    "        cwd[word] = mcw[word]\n",
    "    whole_percentage = []\n",
    "    for count, st in enumerate(s1):\n",
    "        # print(st)\n",
    "        percentage = 0\n",
    "        for word in cwd:\n",
    "            strr = r\"\" + word\n",
    "            reg = r\"\\b\" + strr + r\"\\b\"\n",
    "            indexes = re.search(reg, st)\n",
    "            # print(word, indexes)\n",
    "            if cwd[word] is not None and indexes is not None:\n",
    "                if  (indexes.start(), indexes.end()) in cwd[word][1]:\n",
    "                    percentage +=1\n",
    "        whole_percentage.append(percentage/len(cwd))\n",
    "    return sum(whole_percentage) / len(whole_percentage)\n",
    "    "
   ]
  },
  {
   "cell_type": "code",
   "execution_count": 6,
   "metadata": {},
   "outputs": [],
   "source": [
    "def compare_tuples(t1, t2):\n",
    "    score = 0\n",
    "    for i in range(len(t1)):\n",
    "        if isinstance(t1[i], str) and isinstance(t2[i], str):\n",
    "            if t1[i] == t2[i]:\n",
    "                score += 1\n",
    "        elif isinstance(t1[i], (list, tuple)) and isinstance(t2[i], (list, tuple)):\n",
    "            score += compare_tuples(t1[i], t2[i])\n",
    "        elif isinstance(t1[i], (int, float)) and isinstance(t2[i], (int, float)):\n",
    "            if abs(t1[i] - t2[i]) < 0.0001:\n",
    "                score += 1\n",
    "    return score / len(t1)"
   ]
  },
  {
   "cell_type": "code",
   "execution_count": 7,
   "metadata": {},
   "outputs": [
    {
     "name": "stdout",
     "output_type": "stream",
     "text": [
      "Requirement already satisfied: numpy in /opt/homebrew/Cellar/jupyterlab/3.6.3/libexec/lib/python3.11/site-packages (1.24.2)\n",
      "\n",
      "\u001b[1m[\u001b[0m\u001b[34;49mnotice\u001b[0m\u001b[1;39;49m]\u001b[0m\u001b[39;49m A new release of pip available: \u001b[0m\u001b[31;49m22.3.1\u001b[0m\u001b[39;49m -> \u001b[0m\u001b[32;49m23.0.1\u001b[0m\n",
      "\u001b[1m[\u001b[0m\u001b[34;49mnotice\u001b[0m\u001b[1;39;49m]\u001b[0m\u001b[39;49m To update, run: \u001b[0m\u001b[32;49mpython3.11 -m pip install --upgrade pip\u001b[0m\n",
      "Note: you may need to restart the kernel to use updated packages.\n"
     ]
    }
   ],
   "source": [
    "pip install numpy"
   ]
  },
  {
   "cell_type": "code",
   "execution_count": 8,
   "metadata": {},
   "outputs": [
    {
     "name": "stdout",
     "output_type": "stream",
     "text": [
      "Requirement already satisfied: scikit-learn in /opt/homebrew/Cellar/jupyterlab/3.6.3/libexec/lib/python3.11/site-packages (1.2.2)\n",
      "Requirement already satisfied: numpy>=1.17.3 in /opt/homebrew/Cellar/jupyterlab/3.6.3/libexec/lib/python3.11/site-packages (from scikit-learn) (1.24.2)\n",
      "Requirement already satisfied: scipy>=1.3.2 in /opt/homebrew/Cellar/jupyterlab/3.6.3/libexec/lib/python3.11/site-packages (from scikit-learn) (1.10.1)\n",
      "Requirement already satisfied: joblib>=1.1.1 in /opt/homebrew/Cellar/jupyterlab/3.6.3/libexec/lib/python3.11/site-packages (from scikit-learn) (1.2.0)\n",
      "Requirement already satisfied: threadpoolctl>=2.0.0 in /opt/homebrew/Cellar/jupyterlab/3.6.3/libexec/lib/python3.11/site-packages (from scikit-learn) (3.1.0)\n",
      "\n",
      "\u001b[1m[\u001b[0m\u001b[34;49mnotice\u001b[0m\u001b[1;39;49m]\u001b[0m\u001b[39;49m A new release of pip available: \u001b[0m\u001b[31;49m22.3.1\u001b[0m\u001b[39;49m -> \u001b[0m\u001b[32;49m23.0.1\u001b[0m\n",
      "\u001b[1m[\u001b[0m\u001b[34;49mnotice\u001b[0m\u001b[1;39;49m]\u001b[0m\u001b[39;49m To update, run: \u001b[0m\u001b[32;49mpython3.11 -m pip install --upgrade pip\u001b[0m\n",
      "Note: you may need to restart the kernel to use updated packages.\n"
     ]
    }
   ],
   "source": [
    "pip install scikit-learn"
   ]
  },
  {
   "cell_type": "code",
   "execution_count": 9,
   "metadata": {},
   "outputs": [],
   "source": [
    "import numpy as np\n",
    "from sklearn.metrics import mean_absolute_error\n"
   ]
  },
  {
   "cell_type": "code",
   "execution_count": null,
   "metadata": {},
   "outputs": [],
   "source": []
  },
  {
   "cell_type": "code",
   "execution_count": 10,
   "metadata": {},
   "outputs": [
    {
     "name": "stdout",
     "output_type": "stream",
     "text": [
      "Cell Num: (1, 1)\n",
      "Reproducability Rate: 1.0,\n",
      "Type : <class 'tuple'>\n",
      "\n",
      "Cell Num: (2, 2)\n",
      "Reproducability Rate: 1,\n",
      "Type : No output\n",
      "\n",
      "Cell Num: (3, 3)\n",
      "Reproducability Rate: invalid syntax (<string>, line 1),\n",
      "Type : <class 'numpy.ndarray'>\n",
      "\n",
      "Cell Num: (4, 4)\n",
      "Reproducability Rate: invalid syntax (<string>, line 1),\n",
      "Type : <class 'numpy.ndarray'>\n",
      "\n",
      "Cell Num: (5, 5)\n",
      "Reproducability Rate: invalid syntax (<string>, line 1),\n",
      "Type : <class 'numpy.ndarray'>\n",
      "\n",
      "Cell Num: (6, 6)\n",
      "Reproducability Rate: invalid syntax (<string>, line 1),\n",
      "Type : <class 'numpy.ndarray'>\n",
      "\n",
      "Cell Num: (7, 7)\n",
      "Reproducability Rate: 1,\n",
      "Type : <class 'bool'>\n",
      "\n",
      "Cell Num: (8, 8)\n",
      "Reproducability Rate: 1.0,\n",
      "Type : <class 'tuple'>\n",
      "\n",
      "Cell Num: (10, 10)\n",
      "Reproducability Rate: 1.0,\n",
      "Type : <class 'tuple'>\n",
      "\n",
      "Cell Num: (11, 11)\n",
      "Reproducability Rate: 1,\n",
      "Type : No output\n",
      "\n",
      "Cell Num: (12, 12)\n",
      "Reproducability Rate: 1,\n",
      "Type : <class 'int'>\n",
      "\n",
      "Cell Num: (13, 13)\n",
      "Reproducability Rate: 0.8,\n",
      "Type : <class 'list'>\n",
      "\n",
      "Cell Num: (14, 14)\n",
      "Reproducability Rate: 1,\n",
      "Type : No output\n",
      "\n"
     ]
    }
   ],
   "source": [
    "import re\n",
    "res = []\n",
    "res_dict = dict()\n",
    "for du, du1, ty in zip(first_dict, second_dict, types):\n",
    "    # print(first_dict[du][1], second_dict[du1][1])\n",
    "    # try:\n",
    "        if ty == \"No output\":\n",
    "            res_dict[(du, du1)] = 1\n",
    "        res = []\n",
    "        if ty is tuple:\n",
    "            y = \" \".join(second_dict[du1][1])\n",
    "            x = \" \".join(first_dict[du][1])\n",
    "            pattern = r'<.*?>'\n",
    "            match = re.search(pattern, x)\n",
    "            match1 = re.search(pattern, y)\n",
    "            if match and match1:\n",
    "                obj_str = match.group(0)\n",
    "                obj_str1 = match1.group(0)\n",
    "                # print(type(obj_str[1:-1]))\n",
    "                x = x.replace(obj_str, str(\"'\" + obj_str.split(\" \")[0][1:]+ \"'\"))\n",
    "                y = y.replace(obj_str1, str(\"'\" + obj_str1.split(\" \")[0][1:] + \"'\"))            \n",
    "            first_output = ast.literal_eval(x)\n",
    "            second_output = ast.literal_eval(y)\n",
    "            # print(first_output, second_output)\n",
    "            # if first_output == second_output:\n",
    "            # print(first_output, second_output, \"same\")\n",
    "            ret = compare_tuples(first_output,second_output)\n",
    "            res_dict[(du, du1)] = ret\n",
    "            # print(f\"{ret} reproducabilty for this tuple {du},{du1}, {first_output}\", )\n",
    "            res.append(ret)\n",
    "            # print(sum(res)/len(res), \"reproducabilty rate for tuples\")\n",
    "        elif ty is int:\n",
    "            ii = \"\".join(second_dict[du1][1])\n",
    "            jj = \"\".join(first_dict[du][1])\n",
    "            if int(ii) == int(jj):\n",
    "                res_dict[(du, du1)] = 0\n",
    "            else:\n",
    "                res_dict[(du,du1)] = 1\n",
    "        elif ty is list:\n",
    "            s = first_dict[du][1]\n",
    "            s1 = second_dict[du1][1]\n",
    "            oi = ast.literal_eval(\" \".join(s))\n",
    "            oi2 = ast.literal_eval(\" \".join(s1))\n",
    "            list_types_s = []\n",
    "            list_types_s1 = []\n",
    "            # for i in oi:\n",
    "            #     list_types_s.append(type(i))\n",
    "            # for i in oi2:\n",
    "            #     list_types_s1.append(type(i))\n",
    "            list1_str_index = 0\n",
    "            list2_str_index = 0\n",
    "            for t in oi:\n",
    "                if isinstance(t, str):\n",
    "                    list1_str_index += 1\n",
    "                else:\n",
    "                    break\n",
    "            for t in oi2:\n",
    "                if isinstance(t, str):\n",
    "                    list2_str_index +=1\n",
    "                else:\n",
    "                    break\n",
    "            # print(list1_str_index, list2_str_index)\n",
    "            res2 = compare_strings(oi[:list1_str_index], oi2[:list2_str_index], list1_str_index, list2_str_index)\n",
    "            res_dict[(du, du1)] = res2\n",
    "        elif ty is np.ndarray:\n",
    "            arr2 = second_dict[du1][1]\n",
    "            arr1 = first_dict[du][1]\n",
    "            res_dict[(du, du1)] = compare_numpy_arrays(arr1, arr2)\n",
    "        elif ty is bool:\n",
    "            if first_dict[du][1] == second_dict[du1][1]:\n",
    "                 res_dict[(du, du1)] = 1\n",
    "            else:\n",
    "                res_dict[(du, du1)] = 0\n",
    "\n",
    "for d, ty in zip(res_dict, types):\n",
    "    print(f\"Cell Num: {d}\\nReproducability Rate: {res_dict[d]},\\nType : {ty}\")\n",
    "    print()"
   ]
  },
  {
   "cell_type": "code",
   "execution_count": 11,
   "metadata": {},
   "outputs": [
    {
     "name": "stdout",
     "output_type": "stream",
     "text": [
      "Requirement already satisfied: nbformat in /Users/bhanukedhar/Library/Python/3.10/lib/python/site-packages (5.4.0)\n",
      "Requirement already satisfied: jsonschema>=2.6 in /Users/bhanukedhar/Library/Python/3.10/lib/python/site-packages (from nbformat) (4.15.0)\n",
      "Requirement already satisfied: jupyter-core in /Users/bhanukedhar/Library/Python/3.10/lib/python/site-packages (from nbformat) (4.11.1)\n",
      "Requirement already satisfied: traitlets>=5.1 in /Users/bhanukedhar/Library/Python/3.10/lib/python/site-packages (from nbformat) (5.3.0)\n",
      "Requirement already satisfied: fastjsonschema in /Users/bhanukedhar/Library/Python/3.10/lib/python/site-packages (from nbformat) (2.16.1)\n",
      "Requirement already satisfied: attrs>=17.4.0 in /Users/bhanukedhar/Library/Python/3.10/lib/python/site-packages (from jsonschema>=2.6->nbformat) (22.1.0)\n",
      "Requirement already satisfied: pyrsistent!=0.17.0,!=0.17.1,!=0.17.2,>=0.14.0 in /Users/bhanukedhar/Library/Python/3.10/lib/python/site-packages (from jsonschema>=2.6->nbformat) (0.18.1)\n"
     ]
    }
   ],
   "source": [
    "!pip install nbformat"
   ]
  },
  {
   "cell_type": "markdown",
   "metadata": {},
   "source": [
    "## Adding new cell"
   ]
  },
  {
   "cell_type": "code",
   "execution_count": 12,
   "metadata": {},
   "outputs": [
    {
     "name": "stdout",
     "output_type": "stream",
     "text": [
      "\n"
     ]
    }
   ],
   "source": [
    "import nbformat\n",
    "from nbformat.v4 import new_code_cell, new_markdown_cell, new_output\n",
    "from nbclient import NotebookClient\n",
    "from nbformat.v4 import new_notebook, new_code_cell\n",
    "\n",
    "# Load the notebook\n",
    "with open('reproduce-cases-testing.ipynb') as f:\n",
    "    nb = nbformat.read(f, as_version=4)\n",
    "\n",
    "new_indexes = []\n",
    "for i, cell in enumerate(nb.cells):\n",
    "    if cell.get('outputs'):\n",
    "        cell = nb.cells[i]\n",
    "        source = cell.source.splitlines()\n",
    "        source = [line+\"\\n\" for line in source if line.strip() != '']\n",
    "        source = [s.replace('\\\\n', '\\n') for s in source]\n",
    "        s1 = []\n",
    "        for line in source:\n",
    "            if line.lstrip()[0] != \"#\":\n",
    "                s1.append(line)\n",
    "        if s1[-1][0] != \" \":\n",
    "            new_cell = new_code_cell()\n",
    "            new_cell.source = \"type((\"+s1[-1].rstrip()+\"))\\n\"\n",
    "            nb.cells.insert(i+1, new_cell)\n",
    "            new_indexes.append(i+1)\n",
    "print()\n",
    "# Save the modified notebook\n",
    "with open('new_notebook.ipynb', 'w') as f:\n",
    "    nbformat.write(nb, f)\n"
   ]
  },
  {
   "cell_type": "code",
   "execution_count": null,
   "metadata": {},
   "outputs": [],
   "source": []
  },
  {
   "cell_type": "code",
   "execution_count": null,
   "metadata": {},
   "outputs": [],
   "source": []
  },
  {
   "cell_type": "code",
   "execution_count": 13,
   "metadata": {},
   "outputs": [
    {
     "name": "stdout",
     "output_type": "stream",
     "text": [
      "[NbConvertApp] Converting notebook new_notebook.ipynb to notebook\n",
      "0.00s - Debugger warning: It seems that frozen modules are being used, which may\n",
      "0.00s - make the debugger miss breakpoints. Please pass -Xfrozen_modules=off\n",
      "0.00s - to python to disable frozen modules.\n",
      "0.00s - Note: Debugging will proceed. Set PYDEVD_DISABLE_FILE_VALIDATION=1 to disable this validation.\n",
      "0.00s - Debugger warning: It seems that frozen modules are being used, which may\n",
      "0.00s - make the debugger miss breakpoints. Please pass -Xfrozen_modules=off\n",
      "0.00s - to python to disable frozen modules.\n",
      "0.00s - Note: Debugging will proceed. Set PYDEVD_DISABLE_FILE_VALIDATION=1 to disable this validation.\n",
      "[NbConvertApp] Writing 19701 bytes to new_notebook.ipynb\n"
     ]
    }
   ],
   "source": [
    "!jupyter nbconvert --execute --to notebook --inplace new_notebook.ipynb"
   ]
  },
  {
   "cell_type": "code",
   "execution_count": 14,
   "metadata": {},
   "outputs": [],
   "source": [
    "import json\n",
    "with open(\"new_notebook.ipynb\", \"r\") as f:\n",
    "    nb1 = nbformat.read(f, as_version=4)\n",
    "\n",
    "\n"
   ]
  },
  {
   "cell_type": "code",
   "execution_count": 15,
   "metadata": {},
   "outputs": [],
   "source": [
    "import json \n",
    "with open(\"reproduce-cases.ipynb\", mode = \"r\", encoding= \"utf-8\") as f:\n",
    "    fist = nbformat.read(f, as_version=4)"
   ]
  },
  {
   "cell_type": "code",
   "execution_count": 16,
   "metadata": {},
   "outputs": [
    {
     "data": {
      "text/plain": [
       "[2, 5, 7, 9, 11, 13, 15, 18, 21, 23]"
      ]
     },
     "execution_count": 16,
     "metadata": {},
     "output_type": "execute_result"
    }
   ],
   "source": [
    "new_indexes"
   ]
  },
  {
   "cell_type": "code",
   "execution_count": 17,
   "metadata": {},
   "outputs": [],
   "source": [
    "types = []\n",
    "testing_outputs = []\n",
    "for i, ce in enumerate(nb1.cells):\n",
    "    if i in new_indexes and ce[\"cell_type\"] == \"code\":\n",
    "        types.append(ce[\"outputs\"][0][\"data\"][\"text/plain\"])\n",
    "    elif ce[\"cell_type\"] == \"code\" and ce.get(\"outputs\"):\n",
    "        testing_outputs.append(ce[\"outputs\"][0][\"data\"][\"text/plain\"])"
   ]
  },
  {
   "cell_type": "code",
   "execution_count": 18,
   "metadata": {},
   "outputs": [],
   "source": [
    "original_outputs = []\n",
    "\n",
    "for i, ce in enumerate(fist.cells):\n",
    "    if ce.get('outputs'):\n",
    "        original_outputs.append((ce[\"outputs\"][0][\"data\"][\"text/plain\"], i))\n",
    "\n",
    "\n",
    "    "
   ]
  },
  {
   "cell_type": "code",
   "execution_count": 19,
   "metadata": {},
   "outputs": [
    {
     "data": {
      "text/plain": [
       "True"
      ]
     },
     "execution_count": 19,
     "metadata": {},
     "output_type": "execute_result"
    }
   ],
   "source": [
    "len(types) == len(original_outputs) == len(testing_outputs)"
   ]
  },
  {
   "cell_type": "code",
   "execution_count": 20,
   "metadata": {},
   "outputs": [
    {
     "name": "stdout",
     "output_type": "stream",
     "text": [
      "1\n",
      "3\n",
      "4\n",
      "5\n",
      "6\n",
      "7\n",
      "8\n",
      "10\n",
      "12\n",
      "13\n"
     ]
    }
   ],
   "source": [
    "for i in original_outputs:\n",
    "    print(i[1])"
   ]
  },
  {
   "cell_type": "code",
   "execution_count": 21,
   "metadata": {},
   "outputs": [
    {
     "data": {
      "text/plain": [
       "['tuple',\n",
       " 'numpy.ndarray',\n",
       " 'numpy.ndarray',\n",
       " 'numpy.ndarray',\n",
       " 'numpy.ndarray',\n",
       " 'bool',\n",
       " 'tuple',\n",
       " 'tuple',\n",
       " 'int',\n",
       " 'list']"
      ]
     },
     "execution_count": 21,
     "metadata": {},
     "output_type": "execute_result"
    }
   ],
   "source": [
    "types"
   ]
  },
  {
   "cell_type": "code",
   "execution_count": 150,
   "metadata": {},
   "outputs": [],
   "source": [
    "new_list = list()\n",
    "\n",
    "def compare_numpy_arrays(arr1, arr2):\n",
    "    d= {}\n",
    "    try:\n",
    "        if arr1[0][0:5] == \"array\" and arr2[0][0:5] == \"array\":\n",
    "            for u in range(len(arr1)):\n",
    "                arr1[u] = arr1[u].replace(\"...,\", \"\").strip()\n",
    "            un = \"\".join(arr1)\n",
    "#             print(un)\n",
    "            lst_arr = np.array(eval(\"np.\" + un))\n",
    "            new_arr = np.delete(np.delete(lst_arr,3,axis =0), -4, axis =0)\n",
    "            new_arr = np.delete(np.delete(new_arr,3, axis = 1), -4, axis=1)\n",
    "            for u in range(len(arr2)):\n",
    "                arr2[u] = arr2[u].replace(\"...,\", \"\").strip()\n",
    "            un = \"\".join(arr2)\n",
    "            lst_arr1 = np.array(eval(\"np.\" + un))\n",
    "            mae = mean_absolute_error(new_arr, lst_arr1)\n",
    "            return f\"{mae} mae value\"\n",
    "\n",
    "        else:\n",
    "            return \"Not an numpy array\"\n",
    "    except Exception as e:\n",
    "        print(e)\n",
    "        return e"
   ]
  },
  {
   "cell_type": "code",
   "execution_count": 151,
   "metadata": {},
   "outputs": [],
   "source": [
    "import re\n",
    "res_dict = dict()\n",
    "\n",
    "for i, (ty, out1, out2) in enumerate(zip(types, original_outputs, testing_outputs)):\n",
    "    if ty == \"tuple\":\n",
    "        y = out1[0]\n",
    "        x = out2\n",
    "        pattern = r'<.*?>'\n",
    "        match = re.search(pattern, x)\n",
    "        match1 = re.search(pattern, y)\n",
    "        if match and match1:\n",
    "            obj_str = match.group(0)\n",
    "            obj_str1 = match1.group(0)\n",
    "            x = x.replace(obj_str, str(\"'\" + obj_str.split(\" \")[0][1:]+ \"'\"))\n",
    "            y = y.replace(obj_str1, str(\"'\" + obj_str1.split(\" \")[0][1:] + \"'\"))            \n",
    "        first_output = ast.literal_eval(x)\n",
    "        second_output = ast.literal_eval(y)\n",
    "        ret = compare_tuples(first_output,second_output)\n",
    "        res_dict[(out1[1], out1[1])] = ret\n",
    "    elif ty == \"int\":\n",
    "        ii = out1[0]\n",
    "        jj = out2\n",
    "        if int(ii) == int(jj):\n",
    "            res_dict[(out1[1], out1[1])] = 1\n",
    "        else:\n",
    "            res_dict[(out1[1],out1[1])] = 0 \n",
    "    elif ty == \"list\":\n",
    "        s = out1[0]\n",
    "        s1 = out2\n",
    "        oi =  ast.literal_eval(s)\n",
    "        oi2 = ast.literal_eval(s1)\n",
    "        list_types_s = []\n",
    "        list_types_s1 = []\n",
    "        list1_str_index = 0\n",
    "        list2_str_index = 0\n",
    "        for t in oi:\n",
    "            if isinstance(t, str):\n",
    "                list1_str_index += 1\n",
    "            else:\n",
    "                break\n",
    "        for t in oi2:\n",
    "            if isinstance(t, str):\n",
    "                list2_str_index +=1\n",
    "            else:\n",
    "                break\n",
    "#         print(list1_str_index, list2_str_index)\n",
    "        res2 = compare_strings(oi[:list1_str_index], oi2[:list2_str_index], list1_str_index, list2_str_index)\n",
    "        res_dict[(out1[1], out1[1])] = res2\n",
    "    elif ty  == \"numpy.ndarray\":\n",
    "        arr1 = out1[0].strip().split(\"\\n\")\n",
    "        arr2 = out2.strip().split(\"\\n\")\n",
    "#         print(arr1)\n",
    "        res_dict[(out1[1], out1[1])] = compare_numpy_arrays(arr1, arr2)\n",
    "#         break\n",
    "    elif ty is bool:\n",
    "        if first_dict[du][1] == second_dict[du1][1]:\n",
    "             res_dict[(out1[1], out1[1])] = 0\n",
    "        else:\n",
    "            res_dict[(out1[1], out1[1])] = 1\n",
    "        "
   ]
  },
  {
   "cell_type": "code",
   "execution_count": 152,
   "metadata": {},
   "outputs": [
    {
     "data": {
      "text/plain": [
       "{(1, 1): 1.0,\n",
       " (3, 3): '2.6794444446901857e-06 mae value',\n",
       " (4, 4): '0.0 mae value',\n",
       " (5, 5): '0.0 mae value',\n",
       " (6, 6): '0.0 mae value',\n",
       " (8, 8): 1.0,\n",
       " (10, 10): 1.0,\n",
       " (12, 12): 0,\n",
       " (13, 13): 0.6444444444444444}"
      ]
     },
     "execution_count": 152,
     "metadata": {},
     "output_type": "execute_result"
    }
   ],
   "source": [
    "res_dict"
   ]
  },
  {
   "cell_type": "code",
   "execution_count": 37,
   "metadata": {},
   "outputs": [],
   "source": [
    "# original_outputs"
   ]
  },
  {
   "cell_type": "code",
   "execution_count": null,
   "metadata": {},
   "outputs": [],
   "source": []
  }
 ],
 "metadata": {
  "kernelspec": {
   "display_name": "Python 3 (ipykernel)",
   "language": "python",
   "name": "python3"
  },
  "language_info": {
   "codemirror_mode": {
    "name": "ipython",
    "version": 3
   },
   "file_extension": ".py",
   "mimetype": "text/x-python",
   "name": "python",
   "nbconvert_exporter": "python",
   "pygments_lexer": "ipython3",
   "version": "3.11.3"
  },
  "vscode": {
   "interpreter": {
    "hash": "aee8b7b246df8f9039afb4144a1f6fd8d2ca17a180786b69acc140d282b71a49"
   }
  }
 },
 "nbformat": 4,
 "nbformat_minor": 2
}
