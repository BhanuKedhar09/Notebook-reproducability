{
 "cells": [
  {
   "cell_type": "code",
   "execution_count": 1,
   "metadata": {},
   "outputs": [
    {
     "data": {
      "text/plain": [
       "{'cells': [{'cell_type': 'markdown',\n",
       "   'id': '54992f8c-c2b4-4a58-8c38-a271f0c4a07e',\n",
       "   'metadata': {},\n",
       "   'source': ['## Large Arrays']},\n",
       "  {'cell_type': 'code',\n",
       "   'execution_count': 90,\n",
       "   'id': '0feeacfb-4b64-416c-a232-3de290fac7e9',\n",
       "   'metadata': {},\n",
       "   'outputs': [{'data': {'text/plain': [\"('weather-buoy-data.txt.gz', <http.client.HTTPMessage at 0x117339bd0>)\"]},\n",
       "     'execution_count': 90,\n",
       "     'metadata': {},\n",
       "     'output_type': 'execute_result'}],\n",
       "   'source': ['import urllib\\n',\n",
       "    '\\n',\n",
       "    \"local_fname = 'weather-buoy-data.txt.gz'\\n\",\n",
       "    \"urllib.request.urlretrieve('https://www.ndbc.noaa.gov/data/historical/stdmet/42040h2021.txt.gz', local_fname)\"]},\n",
       "  {'cell_type': 'code',\n",
       "   'execution_count': 91,\n",
       "   'id': 'aa19697d-850f-42ad-8d56-ab81d33281e1',\n",
       "   'metadata': {},\n",
       "   'outputs': [],\n",
       "   'source': ['import gzip\\n',\n",
       "    '\\n',\n",
       "    \"f = iter(gzip.open('weather-buoy-data.txt.gz'))\\n\",\n",
       "    'next(f)\\n',\n",
       "    'next(f)\\n',\n",
       "    'vals = []\\n',\n",
       "    'for line in f:\\n',\n",
       "    '    vals.append(float(line.split()[5]))\\n',\n",
       "    '\\n']},\n",
       "  {'cell_type': 'code',\n",
       "   'execution_count': 92,\n",
       "   'id': 'ade59537-f921-4ecb-95f4-83360baa2119',\n",
       "   'metadata': {},\n",
       "   'outputs': [{'data': {'text/plain': ['array([[88.     , 88.09091, 88.18182, 88.27273, ..., 88.81818, 88.     ,\\n',\n",
       "       '        88.09091, 88.18182],\\n',\n",
       "       '       [88.27273, 88.36364, 88.45455, 88.54545, ..., 88.18182, 88.27273,\\n',\n",
       "       '        88.36364, 88.45455],\\n',\n",
       "       '       [88.54545, 88.63636, 88.72727, 88.81818, ..., 88.45455, 88.54545,\\n',\n",
       "       '        88.63636, 88.72727],\\n',\n",
       "       '       [88.81818, 88.     , 88.09091, 88.18182, ..., 88.72727, 88.81818,\\n',\n",
       "       '        88.     , 88.09091],\\n',\n",
       "       '       ...,\\n',\n",
       "       '       [88.54545, 88.63636, 88.72727, 88.81818, ..., 88.45455, 88.54545,\\n',\n",
       "       '        88.63636, 88.72727],\\n',\n",
       "       '       [88.81818, 88.     , 88.09091, 88.18182, ..., 88.72727, 88.81818,\\n',\n",
       "       '        88.     , 88.09091],\\n',\n",
       "       '       [88.18182, 88.27273, 88.36364, 88.45455, ..., 88.09091, 88.18182,\\n',\n",
       "       '        88.27273, 88.36364],\\n',\n",
       "       '       [88.45455, 88.54545, 88.63636, 88.72727, ..., 88.36364, 88.45455,\\n',\n",
       "       '        88.54545, 88.63636]])']},\n",
       "     'execution_count': 92,\n",
       "     'metadata': {},\n",
       "     'output_type': 'execute_result'}],\n",
       "   'source': ['import numpy as np\\n',\n",
       "    '\\n',\n",
       "    'orig = (vals[0] + (np.arange(len(vals)) % 10) / 11).reshape((16,2333))']},\n",
       "  {'cell_type': 'code',\n",
       "   'execution_count': 93,\n",
       "   'id': '02956456-f862-4ffc-80a5-f3c778f7d4ad',\n",
       "   'metadata': {},\n",
       "   'outputs': [{'data': {'text/plain': ['array([[88.  , 88.09, 88.18, 88.27, ..., 88.82, 88.  , 88.09, 88.18],\\n',\n",
       "       '       [88.27, 88.36, 88.45, 88.55, ..., 88.18, 88.27, 88.36, 88.45],\\n',\n",
       "       '       [88.55, 88.64, 88.73, 88.82, ..., 88.45, 88.55, 88.64, 88.73],\\n',\n",
       "       '       [88.82, 88.  , 88.09, 88.18, ..., 88.73, 88.82, 88.  , 88.09],\\n',\n",
       "       '       ...,\\n',\n",
       "       '       [88.55, 88.64, 88.73, 88.82, ..., 88.45, 88.55, 88.64, 88.73],\\n',\n",
       "       '       [88.82, 88.  , 88.09, 88.18, ..., 88.73, 88.82, 88.  , 88.09],\\n',\n",
       "       '       [88.18, 88.27, 88.36, 88.45, ..., 88.09, 88.18, 88.27, 88.36],\\n',\n",
       "       '       [88.45, 88.55, 88.64, 88.73, ..., 88.36, 88.45, 88.55, 88.64]])']},\n",
       "     'execution_count': 93,\n",
       "     'metadata': {},\n",
       "     'output_type': 'execute_result'}],\n",
       "   'source': ['import numpy as np\\n', 'a = np.round(orig, 2)']},\n",
       "  {'cell_type': 'code',\n",
       "   'execution_count': 94,\n",
       "   'id': '51bb045f-c544-4b61-b4dc-2efcdeb42961',\n",
       "   'metadata': {},\n",
       "   'outputs': [{'data': {'text/plain': ['array([[88.  , 88.09, 88.18, 88.27, ..., 88.81, 88.  , 88.09, 88.18],\\n',\n",
       "       '       [88.27, 88.36, 88.45, 88.54, ..., 88.18, 88.27, 88.36, 88.45],\\n',\n",
       "       '       [88.54, 88.63, 88.72, 88.81, ..., 88.45, 88.54, 88.63, 88.72],\\n',\n",
       "       '       [88.81, 88.  , 88.09, 88.18, ..., 88.72, 88.81, 88.  , 88.09],\\n',\n",
       "       '       ...,\\n',\n",
       "       '       [88.54, 88.63, 88.72, 88.81, ..., 88.45, 88.54, 88.63, 88.72],\\n',\n",
       "       '       [88.81, 88.  , 88.09, 88.18, ..., 88.72, 88.81, 88.  , 88.09],\\n',\n",
       "       '       [88.18, 88.27, 88.36, 88.45, ..., 88.09, 88.18, 88.27, 88.36],\\n',\n",
       "       '       [88.45, 88.54, 88.63, 88.72, ..., 88.36, 88.45, 88.54, 88.63]])']},\n",
       "     'execution_count': 94,\n",
       "     'metadata': {},\n",
       "     'output_type': 'execute_result'}],\n",
       "   'source': ['b = np.floor(orig*100)/100']},\n",
       "  {'cell_type': 'code',\n",
       "   'execution_count': 95,\n",
       "   'id': '5b1a8aec-1cbf-4ca3-bb52-2504b0b43e74',\n",
       "   'metadata': {},\n",
       "   'outputs': [{'data': {'text/plain': ['array([[88.  , 88.09, 88.18, 88.27, ..., 88.82, 88.  , 88.09, 88.18],\\n',\n",
       "       '       [88.27, 88.36, 88.45, 88.55, ..., 88.18, 88.27, 88.36, 88.45],\\n',\n",
       "       '       [88.55, 88.64, 88.73, 88.82, ..., 88.45, 88.55, 88.64, 88.73],\\n',\n",
       "       '       [88.82, 88.  , 88.09, 88.18, ..., 88.73, 88.82, 88.  , 88.09],\\n',\n",
       "       '       ...,\\n',\n",
       "       '       [88.55, 88.64, 88.73, 88.82, ..., 88.45, 88.55, 88.64, 88.73],\\n',\n",
       "       '       [88.82, 88.  , 88.09, 88.18, ..., 88.73, 88.82, 88.  , 88.09],\\n',\n",
       "       '       [88.18, 88.27, 88.36, 88.45, ..., 88.09, 88.18, 88.27, 88.36],\\n',\n",
       "       '       [88.45, 88.55, 88.64, 88.73, ..., 88.36, 88.45, 88.55, 88.64]])']},\n",
       "     'execution_count': 95,\n",
       "     'metadata': {},\n",
       "     'output_type': 'execute_result'}],\n",
       "   'source': ['c = np.delete(a, 5, 1)']},\n",
       "  {'cell_type': 'code',\n",
       "   'execution_count': 96,\n",
       "   'id': 'b06e6f5e-c805-4435-85d3-430744ca15c8',\n",
       "   'metadata': {},\n",
       "   'outputs': [{'data': {'text/plain': ['False']},\n",
       "     'execution_count': 96,\n",
       "     'metadata': {},\n",
       "     'output_type': 'execute_result'}],\n",
       "   'source': ['np.array_equal(a,c)']},\n",
       "  {'cell_type': 'code',\n",
       "   'execution_count': 97,\n",
       "   'id': 'a63120a7-7626-4692-938c-f90e01d93d9b',\n",
       "   'metadata': {},\n",
       "   'outputs': [{'data': {'text/plain': ['((16, 2333), (16, 2333), (16, 2332))']},\n",
       "     'execution_count': 97,\n",
       "     'metadata': {},\n",
       "     'output_type': 'execute_result'}],\n",
       "   'source': ['a.shape, b.shape, c.shape']},\n",
       "  {'cell_type': 'markdown',\n",
       "   'id': 'e1854ad0-0b11-4317-a025-84a31087f089',\n",
       "   'metadata': {},\n",
       "   'source': ['## Real-Time Data']},\n",
       "  {'cell_type': 'code',\n",
       "   'execution_count': 43,\n",
       "   'id': 'ab24461a-a74b-4b24-a49b-c9682426906e',\n",
       "   'metadata': {},\n",
       "   'outputs': [{'data': {'text/plain': [\"('fl-weather-alerts.json', <http.client.HTTPMessage at 0x11733b3a0>)\"]},\n",
       "     'execution_count': 43,\n",
       "     'metadata': {},\n",
       "     'output_type': 'execute_result'}],\n",
       "   'source': ['import urllib\\n',\n",
       "    '\\n',\n",
       "    \"local_fname = 'fl-weather-alerts.json'\\n\",\n",
       "    \"urllib.request.urlretrieve('https://api.weather.gov/alerts/active?area=FL', local_fname)\"]},\n",
       "  {'cell_type': 'code',\n",
       "   'execution_count': 44,\n",
       "   'id': '2477e9a1-c60d-4619-97c1-c8aaa218509a',\n",
       "   'metadata': {},\n",
       "   'outputs': [],\n",
       "   'source': ['import json\\n', 'd = json.load(open(local_fname));']},\n",
       "  {'cell_type': 'code',\n",
       "   'execution_count': 46,\n",
       "   'id': 'ff516426-38e8-40e1-9728-ff85ee668631',\n",
       "   'metadata': {},\n",
       "   'outputs': [{'data': {'text/plain': ['181']},\n",
       "     'execution_count': 46,\n",
       "     'metadata': {},\n",
       "     'output_type': 'execute_result'}],\n",
       "   'source': [\"len(d['features'])\"]},\n",
       "  {'cell_type': 'code',\n",
       "   'execution_count': 49,\n",
       "   'id': '3e99559e-ce3d-4b0c-96fb-4529a89bb7d8',\n",
       "   'metadata': {},\n",
       "   'outputs': [{'data': {'text/plain': [\"['Tropical Storm Warning issued September 27 at 5:04PM EDT by NWS Tallahassee FL',\\n\",\n",
       "       \" 'Tropical Storm Warning issued September 27 at 5:04PM EDT by NWS Tallahassee FL',\\n\",\n",
       "       \" 'Tropical Storm Warning issued September 27 at 5:04PM EDT by NWS Tallahassee FL',\\n\",\n",
       "       \" 'Tropical Storm Warning issued September 27 at 5:04PM EDT by NWS Tallahassee FL',\\n\",\n",
       "       \" 'Tropical Storm Warning issued September 27 at 5:04PM EDT by NWS Tallahassee FL',\\n\",\n",
       "       \" 'Tropical Storm Warning issued September 27 at 5:04PM EDT by NWS Tallahassee FL',\\n\",\n",
       "       \" 'Tornado Warning issued September 27 at 5:03PM EDT until September 27 at 5:30PM EDT by NWS Miami FL',\\n\",\n",
       "       \" 'Coastal Flood Statement issued September 27 at 5:01PM EDT until September 29 at 8:00PM EDT by NWS Miami FL',\\n\",\n",
       "       \" 'Coastal Flood Statement issued September 27 at 5:01PM EDT until September 29 at 8:00PM EDT by NWS Miami FL',\\n\",\n",
       "       \" 'Tornado Watch issued September 27 at 4:59PM EDT until September 28 at 5:00AM EDT by NWS Miami FL',\\n\",\n",
       "       \" 'Tornado Watch issued September 27 at 4:59PM EDT until September 28 at 5:00AM EDT by NWS Miami FL',\\n\",\n",
       "       \" 'Tropical Storm Warning issued September 27 at 4:59PM EDT by NWS Miami FL',\\n\",\n",
       "       \" 'Tropical Storm Warning issued September 27 at 4:59PM EDT by NWS Miami FL',\\n\",\n",
       "       \" 'Tropical Storm Warning issued September 27 at 4:59PM EDT by NWS Miami FL',\\n\",\n",
       "       \" 'Tropical Storm Warning issued September 27 at 4:59PM EDT by NWS Miami FL',\\n\",\n",
       "       \" 'Tropical Storm Warning issued September 27 at 4:59PM EDT by NWS Miami FL',\\n\",\n",
       "       \" 'Storm Surge Warning issued September 27 at 4:59PM EDT by NWS Miami FL',\\n\",\n",
       "       \" 'Tropical Storm Warning issued September 27 at 4:59PM EDT by NWS Miami FL',\\n\",\n",
       "       \" 'Tropical Storm Warning issued September 27 at 4:59PM EDT by NWS Miami FL',\\n\",\n",
       "       \" 'Tropical Storm Warning issued September 27 at 4:59PM EDT by NWS Miami FL',\\n\",\n",
       "       \" 'Tropical Storm Warning issued September 27 at 4:59PM EDT by NWS Miami FL',\\n\",\n",
       "       \" 'Tropical Storm Warning issued September 27 at 4:59PM EDT by NWS Miami FL',\\n\",\n",
       "       \" 'Hurricane Watch issued September 27 at 4:59PM EDT by NWS Miami FL',\\n\",\n",
       "       \" 'Storm Surge Warning issued September 27 at 4:59PM EDT by NWS Miami FL',\\n\",\n",
       "       \" 'Hurricane Watch issued September 27 at 4:59PM EDT by NWS Miami FL',\\n\",\n",
       "       \" 'Tropical Storm Warning issued September 27 at 4:59PM EDT by NWS Miami FL',\\n\",\n",
       "       \" 'Storm Surge Watch issued September 27 at 4:59PM EDT by NWS Miami FL',\\n\",\n",
       "       \" 'Tropical Storm Warning issued September 27 at 4:59PM EDT by NWS Miami FL',\\n\",\n",
       "       \" 'Tropical Storm Warning issued September 27 at 4:59PM EDT by NWS Miami FL',\\n\",\n",
       "       \" 'Tropical Storm Warning issued September 27 at 4:59PM EDT by NWS Miami FL',\\n\",\n",
       "       \" 'Hurricane Watch issued September 27 at 4:59PM EDT by NWS Miami FL',\\n\",\n",
       "       \" 'Hurricane Warning issued September 27 at 4:59PM EDT by NWS Miami FL',\\n\",\n",
       "       \" 'Flood Advisory issued September 27 at 4:48PM EDT until September 27 at 7:45PM EDT by NWS Miami FL',\\n\",\n",
       "       \" 'Tornado Watch issued September 27 at 4:46PM EDT until September 28 at 5:00AM EDT by NWS Key West FL',\\n\",\n",
       "       \" 'Tornado Watch issued September 27 at 4:45PM EDT until September 28 at 5:00AM EDT by NWS Melbourne FL',\\n\",\n",
       "       \" 'Tornado Warning issued September 27 at 4:43PM EDT until September 27 at 5:15PM EDT by NWS Miami FL',\\n\",\n",
       "       \" 'Flood Watch issued September 27 at 4:34PM EDT until October 1 at 2:00AM EDT by NWS Jacksonville FL',\\n\",\n",
       "       \" 'Flood Advisory issued September 27 at 4:23PM EDT until September 27 at 6:45PM EDT by NWS Miami FL',\\n\",\n",
       "       \" 'Flood Advisory issued September 27 at 4:04PM EDT until September 27 at 7:00PM EDT by NWS Miami FL',\\n\",\n",
       "       \" 'Rip Current Statement issued September 27 at 3:02PM CDT until October 1 at 6:00AM CDT by NWS Mobile AL',\\n\",\n",
       "       \" 'Wind Advisory issued September 27 at 3:01PM CDT until September 28 at 10:00PM CDT by NWS Mobile AL',\\n\",\n",
       "       \" 'Red Flag Warning issued September 27 at 2:59PM CDT until September 28 at 7:00PM CDT by NWS Mobile AL',\\n\",\n",
       "       \" 'Red Flag Warning issued September 27 at 2:59PM CDT until September 27 at 7:00PM CDT by NWS Mobile AL',\\n\",\n",
       "       \" 'Flood Watch issued September 27 at 3:58PM EDT until September 29 at 8:00AM EDT by NWS Miami FL',\\n\",\n",
       "       \" 'Flood Advisory issued September 27 at 3:17PM EDT until September 27 at 6:15PM EDT by NWS Miami FL',\\n\",\n",
       "       \" 'Red Flag Warning issued September 27 at 3:05PM EDT until September 28 at 8:00PM EDT by NWS Tallahassee FL',\\n\",\n",
       "       \" 'Tropical Cyclone Statement issued September 27 at 2:25PM EDT by NWS Tampa Bay Ruskin FL',\\n\",\n",
       "       \" 'Tropical Storm Warning issued September 27 at 2:16PM EDT by NWS Tampa Bay Ruskin FL',\\n\",\n",
       "       \" 'Hurricane Watch issued September 27 at 2:16PM EDT by NWS Tampa Bay Ruskin FL',\\n\",\n",
       "       \" 'Storm Surge Warning issued September 27 at 2:16PM EDT by NWS Tampa Bay Ruskin FL',\\n\",\n",
       "       \" 'Storm Surge Warning issued September 27 at 2:16PM EDT by NWS Tampa Bay Ruskin FL',\\n\",\n",
       "       \" 'Hurricane Watch issued September 27 at 2:16PM EDT by NWS Tampa Bay Ruskin FL',\\n\",\n",
       "       \" 'Hurricane Warning issued September 27 at 2:16PM EDT by NWS Tampa Bay Ruskin FL',\\n\",\n",
       "       \" 'Hurricane Watch issued September 27 at 2:16PM EDT by NWS Tampa Bay Ruskin FL',\\n\",\n",
       "       \" 'Tropical Storm Warning issued September 27 at 2:16PM EDT by NWS Tampa Bay Ruskin FL',\\n\",\n",
       "       \" 'Hurricane Watch issued September 27 at 2:16PM EDT by NWS Tampa Bay Ruskin FL',\\n\",\n",
       "       \" 'Tropical Storm Warning issued September 27 at 2:16PM EDT by NWS Tampa Bay Ruskin FL',\\n\",\n",
       "       \" 'Hurricane Watch issued September 27 at 2:16PM EDT by NWS Tampa Bay Ruskin FL',\\n\",\n",
       "       \" 'Hurricane Watch issued September 27 at 2:16PM EDT by NWS Tampa Bay Ruskin FL',\\n\",\n",
       "       \" 'Tropical Storm Warning issued September 27 at 2:16PM EDT by NWS Tampa Bay Ruskin FL',\\n\",\n",
       "       \" 'Tropical Storm Warning issued September 27 at 2:16PM EDT by NWS Tampa Bay Ruskin FL',\\n\",\n",
       "       \" 'Tropical Storm Warning issued September 27 at 2:16PM EDT by NWS Tampa Bay Ruskin FL',\\n\",\n",
       "       \" 'Storm Surge Warning issued September 27 at 2:16PM EDT by NWS Tampa Bay Ruskin FL',\\n\",\n",
       "       \" 'Storm Surge Warning issued September 27 at 2:16PM EDT by NWS Tampa Bay Ruskin FL',\\n\",\n",
       "       \" 'Hurricane Warning issued September 27 at 2:16PM EDT by NWS Tampa Bay Ruskin FL',\\n\",\n",
       "       \" 'Hurricane Warning issued September 27 at 2:16PM EDT by NWS Tampa Bay Ruskin FL',\\n\",\n",
       "       \" 'Storm Surge Warning issued September 27 at 2:16PM EDT by NWS Tampa Bay Ruskin FL',\\n\",\n",
       "       \" 'Hurricane Warning issued September 27 at 2:16PM EDT by NWS Tampa Bay Ruskin FL',\\n\",\n",
       "       \" 'Hurricane Watch issued September 27 at 2:16PM EDT by NWS Tampa Bay Ruskin FL',\\n\",\n",
       "       \" 'Hurricane Warning issued September 27 at 2:16PM EDT by NWS Tampa Bay Ruskin FL',\\n\",\n",
       "       \" 'Hurricane Warning issued September 27 at 2:16PM EDT by NWS Tampa Bay Ruskin FL',\\n\",\n",
       "       \" 'Storm Surge Warning issued September 27 at 2:16PM EDT by NWS Tampa Bay Ruskin FL',\\n\",\n",
       "       \" 'Hurricane Watch issued September 27 at 2:16PM EDT by NWS Tampa Bay Ruskin FL',\\n\",\n",
       "       \" 'Hurricane Watch issued September 27 at 2:16PM EDT by NWS Tampa Bay Ruskin FL',\\n\",\n",
       "       \" 'Tropical Storm Warning issued September 27 at 2:16PM EDT by NWS Tampa Bay Ruskin FL',\\n\",\n",
       "       \" 'Hurricane Warning issued September 27 at 2:16PM EDT by NWS Tampa Bay Ruskin FL',\\n\",\n",
       "       \" 'Storm Surge Warning issued September 27 at 2:16PM EDT by NWS Tampa Bay Ruskin FL',\\n\",\n",
       "       \" 'Tropical Storm Warning issued September 27 at 2:16PM EDT by NWS Tampa Bay Ruskin FL',\\n\",\n",
       "       \" 'Hurricane Warning issued September 27 at 2:16PM EDT by NWS Tampa Bay Ruskin FL',\\n\",\n",
       "       \" 'Storm Surge Warning issued September 27 at 2:16PM EDT by NWS Tampa Bay Ruskin FL',\\n\",\n",
       "       \" 'Hurricane Warning issued September 27 at 2:16PM EDT by NWS Tampa Bay Ruskin FL',\\n\",\n",
       "       \" 'Hurricane Warning issued September 27 at 2:16PM EDT by NWS Tampa Bay Ruskin FL',\\n\",\n",
       "       \" 'Tropical Storm Warning issued September 27 at 2:16PM EDT by NWS Tampa Bay Ruskin FL',\\n\",\n",
       "       \" 'Hurricane Warning issued September 27 at 2:16PM EDT by NWS Tampa Bay Ruskin FL',\\n\",\n",
       "       \" 'Hurricane Watch issued September 27 at 2:16PM EDT by NWS Tampa Bay Ruskin FL',\\n\",\n",
       "       \" 'Hurricane Warning issued September 27 at 2:16PM EDT by NWS Tampa Bay Ruskin FL',\\n\",\n",
       "       \" 'Storm Surge Warning issued September 27 at 2:16PM EDT by NWS Tampa Bay Ruskin FL',\\n\",\n",
       "       \" 'Hurricane Warning issued September 27 at 2:16PM EDT by NWS Tampa Bay Ruskin FL',\\n\",\n",
       "       \" 'Hurricane Warning issued September 27 at 2:16PM EDT by NWS Tampa Bay Ruskin FL',\\n\",\n",
       "       \" 'Tropical Storm Warning issued September 27 at 2:16PM EDT by NWS Tampa Bay Ruskin FL',\\n\",\n",
       "       \" 'Storm Surge Warning issued September 27 at 2:16PM EDT by NWS Tampa Bay Ruskin FL',\\n\",\n",
       "       \" 'Storm Surge Warning issued September 27 at 2:16PM EDT by NWS Tampa Bay Ruskin FL',\\n\",\n",
       "       \" 'Tropical Cyclone Statement issued September 27 at 2:14PM EDT by NWS Miami FL',\\n\",\n",
       "       \" 'Tropical Cyclone Statement issued September 27 at 12:23PM EDT by NWS Key West FL',\\n\",\n",
       "       \" 'Tropical Cyclone Statement issued September 27 at 12:11PM EDT by NWS Melbourne FL',\\n\",\n",
       "       \" 'Tropical Cyclone Statement issued September 27 at 11:32AM EDT by NWS Jacksonville FL',\\n\",\n",
       "       \" 'Tropical Cyclone Statement issued September 27 at 11:27AM EDT by NWS Tampa Bay Ruskin FL',\\n\",\n",
       "       \" 'Flood Watch issued September 27 at 11:21AM EDT until October 1 at 2:00AM EDT by NWS Jacksonville FL',\\n\",\n",
       "       \" 'Tropical Storm Warning issued September 27 at 11:19AM EDT by NWS Melbourne FL',\\n\",\n",
       "       \" 'Tropical Storm Warning issued September 27 at 11:19AM EDT by NWS Melbourne FL',\\n\",\n",
       "       \" 'Tropical Storm Warning issued September 27 at 11:19AM EDT by NWS Melbourne FL',\\n\",\n",
       "       \" 'Tropical Storm Warning issued September 27 at 11:19AM EDT by NWS Melbourne FL',\\n\",\n",
       "       \" 'Tropical Storm Warning issued September 27 at 11:19AM EDT by NWS Melbourne FL',\\n\",\n",
       "       \" 'Tropical Storm Warning issued September 27 at 11:19AM EDT by NWS Melbourne FL',\\n\",\n",
       "       \" 'Tropical Storm Warning issued September 27 at 11:19AM EDT by NWS Melbourne FL',\\n\",\n",
       "       \" 'Tropical Storm Warning issued September 27 at 11:19AM EDT by NWS Melbourne FL',\\n\",\n",
       "       \" 'Tropical Storm Warning issued September 27 at 11:19AM EDT by NWS Melbourne FL',\\n\",\n",
       "       \" 'Tropical Storm Warning issued September 27 at 11:19AM EDT by NWS Melbourne FL',\\n\",\n",
       "       \" 'Tropical Storm Warning issued September 27 at 11:19AM EDT by NWS Melbourne FL',\\n\",\n",
       "       \" 'Tropical Storm Warning issued September 27 at 11:19AM EDT by NWS Melbourne FL',\\n\",\n",
       "       \" 'Hurricane Watch issued September 27 at 11:19AM EDT by NWS Melbourne FL',\\n\",\n",
       "       \" 'Tropical Storm Warning issued September 27 at 11:19AM EDT by NWS Melbourne FL',\\n\",\n",
       "       \" 'Tropical Storm Warning issued September 27 at 11:19AM EDT by NWS Melbourne FL',\\n\",\n",
       "       \" 'Tropical Storm Warning issued September 27 at 11:19AM EDT by NWS Melbourne FL',\\n\",\n",
       "       \" 'Tropical Storm Warning issued September 27 at 11:19AM EDT by NWS Melbourne FL',\\n\",\n",
       "       \" 'Tropical Storm Warning issued September 27 at 11:19AM EDT by NWS Melbourne FL',\\n\",\n",
       "       \" 'Tropical Storm Warning issued September 27 at 11:19AM EDT by NWS Melbourne FL',\\n\",\n",
       "       \" 'Hurricane Watch issued September 27 at 11:19AM EDT by NWS Melbourne FL',\\n\",\n",
       "       \" 'Tropical Storm Warning issued September 27 at 11:19AM EDT by NWS Melbourne FL',\\n\",\n",
       "       \" 'Hurricane Watch issued September 27 at 11:19AM EDT by NWS Melbourne FL',\\n\",\n",
       "       \" 'Tropical Storm Warning issued September 27 at 11:19AM EDT by NWS Melbourne FL',\\n\",\n",
       "       \" 'Hurricane Watch issued September 27 at 11:19AM EDT by NWS Melbourne FL',\\n\",\n",
       "       \" 'Hurricane Watch issued September 27 at 11:19AM EDT by NWS Melbourne FL',\\n\",\n",
       "       \" 'Hurricane Watch issued September 27 at 11:19AM EDT by NWS Melbourne FL',\\n\",\n",
       "       \" 'Tropical Cyclone Statement issued September 27 at 11:17AM EDT by NWS Miami FL',\\n\",\n",
       "       \" 'Storm Surge Watch issued September 27 at 11:15AM EDT by NWS Key West FL',\\n\",\n",
       "       \" 'Storm Surge Watch issued September 27 at 11:15AM EDT by NWS Key West FL',\\n\",\n",
       "       \" 'Tropical Storm Warning issued September 27 at 11:15AM EDT by NWS Key West FL',\\n\",\n",
       "       \" 'Storm Surge Watch issued September 27 at 11:15AM EDT by NWS Key West FL',\\n\",\n",
       "       \" 'Tropical Storm Warning issued September 27 at 11:15AM EDT by NWS Key West FL',\\n\",\n",
       "       \" 'Tropical Storm Watch issued September 27 at 11:15AM EDT by NWS Key West FL',\\n\",\n",
       "       \" 'Tropical Storm Warning issued September 27 at 11:13AM EDT by NWS Jacksonville FL',\\n\",\n",
       "       \" 'Storm Surge Warning issued September 27 at 11:13AM EDT by NWS Jacksonville FL',\\n\",\n",
       "       \" 'Tropical Storm Warning issued September 27 at 11:13AM EDT by NWS Jacksonville FL',\\n\",\n",
       "       \" 'Tropical Storm Warning issued September 27 at 11:13AM EDT by NWS Jacksonville FL',\\n\",\n",
       "       \" 'Storm Surge Warning issued September 27 at 11:13AM EDT by NWS Jacksonville FL',\\n\",\n",
       "       \" 'Tropical Storm Warning issued September 27 at 11:13AM EDT by NWS Jacksonville FL',\\n\",\n",
       "       \" 'Storm Surge Warning issued September 27 at 11:13AM EDT by NWS Jacksonville FL',\\n\",\n",
       "       \" 'Tropical Storm Warning issued September 27 at 11:13AM EDT by NWS Jacksonville FL',\\n\",\n",
       "       \" 'Storm Surge Warning issued September 27 at 11:13AM EDT by NWS Jacksonville FL',\\n\",\n",
       "       \" 'Storm Surge Warning issued September 27 at 11:13AM EDT by NWS Jacksonville FL',\\n\",\n",
       "       \" 'Tropical Storm Warning issued September 27 at 11:13AM EDT by NWS Jacksonville FL',\\n\",\n",
       "       \" 'Tropical Storm Warning issued September 27 at 11:13AM EDT by NWS Jacksonville FL',\\n\",\n",
       "       \" 'Storm Surge Watch issued September 27 at 11:13AM EDT by NWS Jacksonville FL',\\n\",\n",
       "       \" 'Tropical Storm Warning issued September 27 at 11:13AM EDT by NWS Jacksonville FL',\\n\",\n",
       "       \" 'Tropical Storm Warning issued September 27 at 11:13AM EDT by NWS Jacksonville FL',\\n\",\n",
       "       \" 'Tropical Storm Warning issued September 27 at 11:13AM EDT by NWS Jacksonville FL',\\n\",\n",
       "       \" 'Tropical Storm Warning issued September 27 at 11:13AM EDT by NWS Jacksonville FL',\\n\",\n",
       "       \" 'Tropical Storm Warning issued September 27 at 11:13AM EDT by NWS Jacksonville FL',\\n\",\n",
       "       \" 'Storm Surge Warning issued September 27 at 11:13AM EDT by NWS Jacksonville FL',\\n\",\n",
       "       \" 'Tropical Storm Warning issued September 27 at 11:13AM EDT by NWS Jacksonville FL',\\n\",\n",
       "       \" 'Tropical Storm Watch issued September 27 at 11:13AM EDT by NWS Jacksonville FL',\\n\",\n",
       "       \" 'Tropical Storm Watch issued September 27 at 11:13AM EDT by NWS Jacksonville FL',\\n\",\n",
       "       \" 'Tropical Storm Watch issued September 27 at 11:13AM EDT by NWS Jacksonville FL',\\n\",\n",
       "       \" 'Tropical Storm Warning issued September 27 at 11:13AM EDT by NWS Jacksonville FL',\\n\",\n",
       "       \" 'Storm Surge Warning issued September 27 at 11:13AM EDT by NWS Jacksonville FL',\\n\",\n",
       "       \" 'Tropical Storm Watch issued September 27 at 11:13AM EDT by NWS Jacksonville FL',\\n\",\n",
       "       \" 'Tropical Storm Warning issued September 27 at 11:13AM EDT by NWS Jacksonville FL',\\n\",\n",
       "       \" 'Tropical Storm Watch issued September 27 at 11:13AM EDT by NWS Jacksonville FL',\\n\",\n",
       "       \" 'Tropical Storm Watch issued September 27 at 11:13AM EDT by NWS Jacksonville FL',\\n\",\n",
       "       \" 'Tropical Storm Watch issued September 27 at 11:13AM EDT by NWS Jacksonville FL',\\n\",\n",
       "       \" 'Tropical Storm Warning issued September 27 at 11:13AM EDT by NWS Jacksonville FL',\\n\",\n",
       "       \" 'Flood Watch issued September 27 at 11:04AM EDT until September 28 at 6:00AM EDT by NWS Key West FL',\\n\",\n",
       "       \" 'Flood Warning issued September 27 at 10:33AM EDT by NWS Tampa Bay Ruskin FL',\\n\",\n",
       "       \" 'Flood Warning issued September 27 at 10:29AM EDT by NWS Tampa Bay Ruskin FL',\\n\",\n",
       "       \" 'Flood Warning issued September 27 at 10:29AM EDT by NWS Tampa Bay Ruskin FL',\\n\",\n",
       "       \" 'Flood Warning issued September 27 at 10:29AM EDT by NWS Tampa Bay Ruskin FL',\\n\",\n",
       "       \" 'Flood Warning issued September 27 at 10:29AM EDT by NWS Tampa Bay Ruskin FL',\\n\",\n",
       "       \" 'Flood Warning issued September 27 at 10:29AM EDT by NWS Tampa Bay Ruskin FL',\\n\",\n",
       "       \" 'Flood Warning issued September 27 at 10:29AM EDT by NWS Tampa Bay Ruskin FL',\\n\",\n",
       "       \" 'Flood Warning issued September 27 at 10:29AM EDT by NWS Tampa Bay Ruskin FL',\\n\",\n",
       "       \" 'Flood Warning issued September 27 at 10:29AM EDT by NWS Tampa Bay Ruskin FL',\\n\",\n",
       "       \" 'Flood Warning issued September 27 at 10:29AM EDT by NWS Melbourne FL',\\n\",\n",
       "       \" 'Rip Current Statement issued September 27 at 4:33AM CDT until October 1 at 6:00AM CDT by NWS Mobile AL',\\n\",\n",
       "       \" 'Flood Watch issued September 26 at 4:59PM EDT until September 30 at 2:00AM EDT by NWS Tampa Bay Ruskin FL',\\n\",\n",
       "       \" 'Rip Current Statement issued September 26 at 4:43PM EDT until September 29 at 8:00PM EDT by NWS Miami FL',\\n\",\n",
       "       \" 'Rip Current Statement issued September 26 at 4:43PM EDT until September 29 at 8:00PM EDT by NWS Miami FL',\\n\",\n",
       "       \" 'Coastal Flood Statement issued September 26 at 4:43PM EDT until September 29 at 8:00PM EDT by NWS Miami FL',\\n\",\n",
       "       \" 'Coastal Flood Statement issued September 26 at 4:43PM EDT until September 29 at 8:00PM EDT by NWS Miami FL',\\n\",\n",
       "       \" 'Flood Watch issued September 26 at 2:29PM EDT until September 30 at 2:00AM EDT by NWS Melbourne FL',\\n\",\n",
       "       \" 'Flood Warning issued September 26 at 9:41AM EDT until September 28 at 8:00AM EDT by NWS Tampa Bay Ruskin FL']\"]},\n",
       "     'execution_count': 49,\n",
       "     'metadata': {},\n",
       "     'output_type': 'execute_result'}],\n",
       "   'source': [\"[feat['properties']['headline'] for feat in d['features']]\"]},\n",
       "  {'cell_type': 'code',\n",
       "   'execution_count': None,\n",
       "   'id': 'c1394719-1453-4afb-98f3-7bb60e76637c',\n",
       "   'metadata': {},\n",
       "   'outputs': [],\n",
       "   'source': []}],\n",
       " 'metadata': {'kernelspec': {'display_name': 'Python 3.10.0 64-bit',\n",
       "   'language': 'python',\n",
       "   'name': 'python3'},\n",
       "  'language_info': {'codemirror_mode': {'name': 'ipython', 'version': 3},\n",
       "   'file_extension': '.py',\n",
       "   'mimetype': 'text/x-python',\n",
       "   'name': 'python',\n",
       "   'nbconvert_exporter': 'python',\n",
       "   'pygments_lexer': 'ipython3',\n",
       "   'version': '3.10.0'},\n",
       "  'vscode': {'interpreter': {'hash': 'aee8b7b246df8f9039afb4144a1f6fd8d2ca17a180786b69acc140d282b71a49'}}},\n",
       " 'nbformat': 4,\n",
       " 'nbformat_minor': 5}"
      ]
     },
     "execution_count": 1,
     "metadata": {},
     "output_type": "execute_result"
    }
   ],
   "source": [
    "import json \n",
    "with open(\"reproduce-cases-original.ipynb\", mode = \"r\", encoding= \"utf-8\") as f:\n",
    "    fileoutput = json.loads(f.read())\n",
    "fileoutput\n",
    "\n",
    "with open(\"reproduce-cases-testing.ipynb\", mode = \"r\", encoding= \"utf-8\") as f:\n",
    "    fileoutput1 = json.loads(f.read())\n",
    "fileoutput"
   ]
  },
  {
   "cell_type": "code",
   "execution_count": 137,
   "metadata": {},
   "outputs": [
    {
     "data": {
      "text/plain": [
       "dict_keys(['cells', 'metadata', 'nbformat', 'nbformat_minor'])"
      ]
     },
     "execution_count": 137,
     "metadata": {},
     "output_type": "execute_result"
    }
   ],
   "source": [
    "fileoutput.keys()"
   ]
  },
  {
   "cell_type": "code",
   "execution_count": 138,
   "metadata": {},
   "outputs": [
    {
     "data": {
      "text/plain": [
       "{'cell_type': 'code',\n",
       " 'execution_count': 90,\n",
       " 'id': '0feeacfb-4b64-416c-a232-3de290fac7e9',\n",
       " 'metadata': {},\n",
       " 'outputs': [{'data': {'text/plain': [\"('weather-buoy-data.txt.gz', <http.client.HTTPMessage at 0x117339bd0>)\"]},\n",
       "   'execution_count': 90,\n",
       "   'metadata': {},\n",
       "   'output_type': 'execute_result'}],\n",
       " 'source': ['import urllib\\n',\n",
       "  '\\n',\n",
       "  \"local_fname = 'weather-buoy-data.txt.gz'\\n\",\n",
       "  \"urllib.request.urlretrieve('https://www.ndbc.noaa.gov/data/historical/stdmet/42040h2021.txt.gz', local_fname)\"]}"
      ]
     },
     "execution_count": 138,
     "metadata": {},
     "output_type": "execute_result"
    }
   ],
   "source": [
    "fileoutput[\"cells\"][1]"
   ]
  },
  {
   "cell_type": "code",
   "execution_count": 139,
   "metadata": {},
   "outputs": [
    {
     "data": {
      "text/plain": [
       "{'cell_type': 'markdown',\n",
       " 'id': '54992f8c-c2b4-4a58-8c38-a271f0c4a07e',\n",
       " 'metadata': {},\n",
       " 'source': ['## Large Arrays']}"
      ]
     },
     "execution_count": 139,
     "metadata": {},
     "output_type": "execute_result"
    }
   ],
   "source": [
    "fileoutput[\"cells\"][0]"
   ]
  },
  {
   "cell_type": "code",
   "execution_count": 140,
   "metadata": {},
   "outputs": [],
   "source": [
    "li =[]\n",
    "with open(\"original-output.txt\",\"w\") as f:\n",
    "    for d in fileoutput[\"cells\"]:\n",
    "        if d[\"cell_type\"] == 'code':\n",
    "            li.append([d['id'], d['source'], d['outputs']])      \n",
    "            f.writelines(f\"{item}\\n\" for item in li)\n"
   ]
  },
  {
   "cell_type": "code",
   "execution_count": 141,
   "metadata": {},
   "outputs": [],
   "source": [
    "# eval(\"\")\n",
    "# fileoutput1[\"cells\"][1][\"outputs\"][0].keys(), fileoutput1[\"cells\"][1][\"outputs\"][0][\"output_type\"], fileoutput1[\"cells\"][1][\"outputs\"][1].keys(), fileoutput1[\"cells\"][1][\"outputs\"][1][\"output_type\"],  fileoutput1[\"cells\"][3][\"outputs\"][0].keys(), fileoutput1[\"cells\"][3][\"outputs\"][0][\"output_type\"] "
   ]
  },
  {
   "cell_type": "code",
   "execution_count": 142,
   "metadata": {},
   "outputs": [],
   "source": [
    "# first_dict_temp = dict()\n",
    "# second_dict_temp = dict()\n",
    "# i = 0\n",
    "# # for_being_a_key = []\n",
    "# for cell_count,d in enumerate(fileoutput1[\"cells\"]):\n",
    "#     x = []\n",
    "#     # print(d)\n",
    "#     if d[\"cell_type\"] == \"code\":\n",
    "#         # print(d[\"cell_type\"].keys())\n",
    "#         for o in d[\"outputs\"]:\n",
    "#             # print(o)\n",
    "#             if o[\"output_type\"] == \"execute_result\":\n",
    "#                 x.append((d[\"source\"],o[list(o.keys())[0]][list(o[list(o.keys())[0]].keys())[0]], [list(o.keys())[0], list(o[list(o.keys())[0]].keys())[0]]))\n",
    "#                 # print(len(d[\"outputs\"]))\n",
    "#                 # second_dict_temp[cell_count] = (d[\"source\"],o[list(o.keys())[0]][list(o[list(o.keys())[0]].keys())[0]], [list(o.keys())[0], list(o[list(o.keys())[0]].keys())[0]])\n",
    "#             elif o[\"output_type\"] == \"stream\":\n",
    "#                 # print(len(d[\"outputs\"]))\n",
    "#                 x.append((d[\"source\"], o[\"name\"], o[\"text\"]))\n",
    "#                 # if second_dict_temp.get(cell_count) is None:\n",
    "#                     # second_dict_temp[cell_count] = (d[\"source\"], o[\"name\"], o[\"text\"])\n",
    "#             # break\n",
    "#         print(x)\n",
    "#         print()\n",
    "#         second_dict_temp[cell_count] = x\n",
    "#             # x = list()\n",
    "#             # y = list(o.keys())[0]\n",
    "#             # # print(y)\n",
    "#             # x.append(y)\n",
    "#             # z = list(o[list(o.keys())[0]].keys())[0]\n",
    "#             # x.append(z)\n",
    "#             # print(x)\n",
    "\n",
    "# second_dict_temp.keys()"
   ]
  },
  {
   "cell_type": "code",
   "execution_count": 143,
   "metadata": {},
   "outputs": [],
   "source": [
    "# def generic_items(dict_or_list):\n",
    "# \tif type(dict_or_list) is dict:\n",
    "# \t\treturn dict_or_list.items()\n",
    "# \tif type(dict_or_list) is list:\n",
    "# \t\treturn enumerate(dict_or_list)\n",
    "# def get_keys(dictionary):\n",
    "# \tresult = []\n",
    "# \tfor key, value in generic_items(dictionary):\n",
    "# \t\tif type(value) is dict or type(value) is list:\n",
    "# \t\t\tnew_keys = get_keys(value)\n",
    "# \t\t\tresult.append(key)\n",
    "# \t\t\t# print(result)\n",
    "# \t\t\tfor innerkey in new_keys:\n",
    "# \t\t\t\tresult.append(f'{key}/{innerkey}')\n",
    "# \t\telse:\n",
    "# \t\t\tresult.append(key)\n",
    "# \treturn result"
   ]
  },
  {
   "cell_type": "code",
   "execution_count": 144,
   "metadata": {},
   "outputs": [],
   "source": [
    "# first_dict = dict()\n",
    "# second_dict = dict()\n",
    "# for cell_count,d in enumerate(fileoutput[\"cells\"]):\n",
    "#     # print(d)\n",
    "#     if d[\"cell_type\"] == \"code\":\n",
    "#         # print(d[\"cell_type\"].keys())\n",
    "#         get_key = get_keys(d[\"outputs\"])\n",
    "#         print(get_key)\n",
    "#         break\n",
    "#         # print(get_key)\n",
    "#         # for o in d[\"outputs\"]:\n",
    "#             # print(o.keys())\n",
    "#             # first_dict[cell_count] = (d[\"source\"],o[list(o.keys())[0]][list(o[list(o.keys())[0]].keys())[0]], [list(o.keys())[0], list(o[list(o.keys())[0]].keys())[0]])\n",
    "#         # break\n",
    "# # first_dict[3]\n",
    "\n",
    "\n",
    "\n",
    "# 'outputs': [{'name': 'stdout',\n",
    "#      'output_type': 'stream',\n",
    "#      'text': ['zsh:1: command not found: python\\n',\n",
    "#       'Unexpected exception formatting exception. Falling back to standard exception\\n']},"
   ]
  },
  {
   "cell_type": "code",
   "execution_count": 145,
   "metadata": {},
   "outputs": [
    {
     "data": {
      "text/plain": [
       "(['import numpy as np\\n',\n",
       "  '\\n',\n",
       "  'orig = (vals[0] + (np.arange(len(vals)) % 10) / 11).reshape((16,2333))'],\n",
       " ['array([[88.     , 88.09091, 88.18182, 88.27273, ..., 88.81818, 88.     ,\\n',\n",
       "  '        88.09091, 88.18182],\\n',\n",
       "  '       [88.27273, 88.36364, 88.45455, 88.54545, ..., 88.18182, 88.27273,\\n',\n",
       "  '        88.36364, 88.45455],\\n',\n",
       "  '       [88.54545, 88.63636, 88.72727, 88.81818, ..., 88.45455, 88.54545,\\n',\n",
       "  '        88.63636, 88.72727],\\n',\n",
       "  '       [88.81818, 88.     , 88.09091, 88.18182, ..., 88.72727, 88.81818,\\n',\n",
       "  '        88.     , 88.09091],\\n',\n",
       "  '       ...,\\n',\n",
       "  '       [88.54545, 88.63636, 88.72727, 88.81818, ..., 88.45455, 88.54545,\\n',\n",
       "  '        88.63636, 88.72727],\\n',\n",
       "  '       [88.81818, 88.     , 88.09091, 88.18182, ..., 88.72727, 88.81818,\\n',\n",
       "  '        88.     , 88.09091],\\n',\n",
       "  '       [88.18182, 88.27273, 88.36364, 88.45455, ..., 88.09091, 88.18182,\\n',\n",
       "  '        88.27273, 88.36364],\\n',\n",
       "  '       [88.45455, 88.54545, 88.63636, 88.72727, ..., 88.36364, 88.45455,\\n',\n",
       "  '        88.54545, 88.63636]])'],\n",
       " ['data', 'text/plain'])"
      ]
     },
     "execution_count": 145,
     "metadata": {},
     "output_type": "execute_result"
    }
   ],
   "source": [
    "first_dict = dict()\n",
    "second_dict = dict()\n",
    "for cell_count,d in enumerate(fileoutput[\"cells\"]):\n",
    "    # print(d)\n",
    "    if d[\"cell_type\"] == \"code\":\n",
    "        # print(d[\"cell_type\"].keys())\n",
    "        for o in d[\"outputs\"]:\n",
    "            # print(o.keys())\n",
    "            first_dict[cell_count] = (d[\"source\"],o[list(o.keys())[0]][list(o[list(o.keys())[0]].keys())[0]], [list(o.keys())[0], list(o[list(o.keys())[0]].keys())[0]])\n",
    "        # break\n",
    "first_dict[3]\n"
   ]
  },
  {
   "cell_type": "code",
   "execution_count": 146,
   "metadata": {},
   "outputs": [
    {
     "data": {
      "text/plain": [
       "dict_keys([1, 3, 4, 5, 6, 7, 8, 10, 12, 13])"
      ]
     },
     "execution_count": 146,
     "metadata": {},
     "output_type": "execute_result"
    }
   ],
   "source": [
    "for cell_count, d in enumerate(fileoutput1[\"cells\"]):\n",
    "    if d[\"cell_type\"] == \"code\":\n",
    "        # print(d)\n",
    "        for o in d[\"outputs\"]:\n",
    "            # print(o)\n",
    "            second_dict[cell_count] = (d[\"source\"],o[list(o.keys())[0]][list(o[list(o.keys())[0]].keys())[0]], [list(o.keys())[0], list(o[list(o.keys())[0]].keys())[0]])\n",
    "            # second_dict[d[\"id\"]] = (d[\"source\"],o[\"data\"][\"text/plain\"])\n",
    "second_dict.keys()"
   ]
  },
  {
   "cell_type": "code",
   "execution_count": 147,
   "metadata": {},
   "outputs": [],
   "source": [
    "# ['0feeacfb-4b64-416c-a232-3de290fac7e9', 'ade59537-f921-4ecb-95f4-83360baa2119', '02956456-f862-4ffc-80a5-f3c778f7d4ad', '51bb045f-c544-4b61-b4dc-2efcdeb42961', '5b1a8aec-1cbf-4ca3-bb52-2504b0b43e74', 'b06e6f5e-c805-4435-85d3-430744ca15c8', 'a63120a7-7626-4692-938c-f90e01d93d9b', 'ab24461a-a74b-4b24-a49b-c9682426906e', 'ff516426-38e8-40e1-9728-ff85ee668631', '3e99559e-ce3d-4b0c-96fb-4529a89bb7d8'] == ['0feeacfb-4b64-416c-a232-3de290fac7e9', 'ade59537-f921-4ecb-95f4-83360baa2119', '02956456-f862-4ffc-80a5-f3c778f7d4ad', '51bb045f-c544-4b61-b4dc-2efcdeb42961', '5b1a8aec-1cbf-4ca3-bb52-2504b0b43e74', 'b06e6f5e-c805-4435-85d3-430744ca15c8', 'a63120a7-7626-4692-938c-f90e01d93d9b', 'ab24461a-a74b-4b24-a49b-c9682426906e', 'ff516426-38e8-40e1-9728-ff85ee668631', '3e99559e-ce3d-4b0c-96fb-4529a89bb7d8']\n",
    "\n",
    "# first_dict[\"ade59537-f921-4ecb-95f4-83360baa2119\"][0]\n",
    "# second_dict[\"ade59537-f921-4ecb-95f4-83360baa2119\"][0]"
   ]
  },
  {
   "cell_type": "code",
   "execution_count": 148,
   "metadata": {},
   "outputs": [],
   "source": [
    "import numpy as np\n",
    "st = first_dict[3][1]\n",
    "st1 = second_dict[3][1]\n",
    "# print(st)\n",
    "st = (\"\".join(st)).replace(\"array(\", \"\").replace(\"\\n\", \"\").replace(\")\",\"\").replace(\"[\", \"\").replace(\"]\", \"\")\n",
    "st1 = (\"\".join(st1)).replace(\"array(\", \"\").replace(\"\\n\", \"\").replace(\")\",\"\").replace(\"[\", \"\").replace(\"]\", \"\")\n",
    "# st, st1\n",
    "# arr = np.genfromtxt(st, delimiter=\",\", filling_values=-1)\n",
    "# arr1 = np.genfromtxt(st1, delimiter=\",\", filling_values=-1)\n"
   ]
  },
  {
   "cell_type": "code",
   "execution_count": 149,
   "metadata": {},
   "outputs": [
    {
     "data": {
      "text/plain": [
       "'88.     , 88.09091, 88.18182, 88.27273, ..., 88.81818, 88.     ,        88.09091, 88.18182,       88.27273, 88.36364, 88.45455, 88.54545, ..., 88.18182, 88.27273,        88.36364, 88.45455,       88.54545, 88.63636, 88.72727, 88.81818, ..., 88.45455, 88.54545,        88.63636, 88.72727,       88.81818, 88.     , 88.09091, 88.18182, ..., 88.72727, 88.81818,        88.     , 88.09091,       ...,       88.54545, 88.63636, 88.72727, 88.81818, ..., 88.45455, 88.54545,        88.63636, 88.72727,       88.81818, 88.     , 88.09091, 88.18182, ..., 88.72727, 88.81818,        88.     , 88.09091,       88.18182, 88.27273, 88.36364, 88.45455, ..., 88.09091, 88.18182,        88.27273, 88.36364,       88.45455, 88.54545, 88.63636, 88.72727, ..., 88.36364, 88.45455,        88.54545, 88.63636'"
      ]
     },
     "execution_count": 149,
     "metadata": {},
     "output_type": "execute_result"
    }
   ],
   "source": [
    "st"
   ]
  },
  {
   "cell_type": "code",
   "execution_count": 150,
   "metadata": {},
   "outputs": [
    {
     "data": {
      "text/plain": [
       "'88.        , 88.09090909, 88.18181818, ..., 88.        ,        88.09090909, 88.18181818,       88.27272727, 88.36363636, 88.45454545, ..., 88.27272727,        88.36363636, 88.45454545,       88.54545455, 88.63636364, 88.72727273, ..., 88.54545455,        88.63636364, 88.72727273,       ...,       88.81818182, 88.        , 88.09090909, ..., 88.81818182,        88.        , 88.09090909,       88.18181818, 88.27272727, 88.36363636, ..., 88.18181818,        88.27272727, 88.36363636,       88.45454545, 88.54545455, 88.63636364, ..., 88.45454545,        88.54545455, 88.63636364'"
      ]
     },
     "execution_count": 150,
     "metadata": {},
     "output_type": "execute_result"
    }
   ],
   "source": [
    "st1"
   ]
  },
  {
   "cell_type": "code",
   "execution_count": 151,
   "metadata": {},
   "outputs": [],
   "source": [
    "import io\n",
    "file_like_object = io.StringIO(st)\n",
    "file_like_object1 = io.StringIO(st1)\n",
    "arr = np.genfromtxt(file_like_object, delimiter=\",\", filling_values=0)\n",
    "arr1 = np.genfromtxt(file_like_object1, delimiter=\",\", filling_values=0)\n",
    "# arr[:10], arr1[:10]"
   ]
  },
  {
   "cell_type": "code",
   "execution_count": 152,
   "metadata": {},
   "outputs": [
    {
     "name": "stdout",
     "output_type": "stream",
     "text": [
      "Unexpected exception formatting exception. Falling back to standard exception\n"
     ]
    },
    {
     "name": "stderr",
     "output_type": "stream",
     "text": [
      "Traceback (most recent call last):\n",
      "  File \"/Users/bhanukedhar/Library/Python/3.10/lib/python/site-packages/IPython/core/interactiveshell.py\", line 3378, in run_code\n",
      "    exec(code_obj, self.user_global_ns, self.user_ns)\n",
      "  File \"/var/folders/cd/60bgrl6d57gcpppm6fn4m4780000gn/T/ipykernel_71454/332510778.py\", line 4, in <module>\n",
      "    arr3 = arr - arr1\n",
      "ValueError: operands could not be broadcast together with shapes (73,) (43,) \n",
      "\n",
      "During handling of the above exception, another exception occurred:\n",
      "\n",
      "Traceback (most recent call last):\n",
      "  File \"/Users/bhanukedhar/Library/Python/3.10/lib/python/site-packages/IPython/core/interactiveshell.py\", line 1997, in showtraceback\n",
      "    stb = self.InteractiveTB.structured_traceback(\n",
      "  File \"/Users/bhanukedhar/Library/Python/3.10/lib/python/site-packages/IPython/core/ultratb.py\", line 1112, in structured_traceback\n",
      "    return FormattedTB.structured_traceback(\n",
      "  File \"/Users/bhanukedhar/Library/Python/3.10/lib/python/site-packages/IPython/core/ultratb.py\", line 1006, in structured_traceback\n",
      "    return VerboseTB.structured_traceback(\n",
      "  File \"/Users/bhanukedhar/Library/Python/3.10/lib/python/site-packages/IPython/core/ultratb.py\", line 859, in structured_traceback\n",
      "    formatted_exception = self.format_exception_as_a_whole(etype, evalue, etb, number_of_lines_of_context,\n",
      "  File \"/Users/bhanukedhar/Library/Python/3.10/lib/python/site-packages/IPython/core/ultratb.py\", line 793, in format_exception_as_a_whole\n",
      "    self.get_records(etb, number_of_lines_of_context, tb_offset) if etb else []\n",
      "  File \"/Users/bhanukedhar/Library/Python/3.10/lib/python/site-packages/IPython/core/ultratb.py\", line 848, in get_records\n",
      "    return list(stack_data.FrameInfo.stack_data(etb, options=options))[tb_offset:]\n",
      "  File \"/Users/bhanukedhar/Library/Python/3.10/lib/python/site-packages/stack_data/core.py\", line 597, in stack_data\n",
      "    yield from collapse_repeated(\n",
      "  File \"/Users/bhanukedhar/Library/Python/3.10/lib/python/site-packages/stack_data/utils.py\", line 84, in collapse_repeated\n",
      "    yield from map(mapper, original_group)\n",
      "  File \"/Users/bhanukedhar/Library/Python/3.10/lib/python/site-packages/stack_data/core.py\", line 587, in mapper\n",
      "    return cls(f, options)\n",
      "  File \"/Users/bhanukedhar/Library/Python/3.10/lib/python/site-packages/stack_data/core.py\", line 551, in __init__\n",
      "    self.executing = Source.executing(frame_or_tb)\n",
      "  File \"/Users/bhanukedhar/Library/Python/3.10/lib/python/site-packages/executing/executing.py\", line 323, in executing\n",
      "    source = cls.for_frame(frame)\n",
      "  File \"/Users/bhanukedhar/Library/Python/3.10/lib/python/site-packages/executing/executing.py\", line 247, in for_frame\n",
      "    return cls.for_filename(frame.f_code.co_filename, frame.f_globals or {}, use_cache)\n",
      "  File \"/Users/bhanukedhar/Library/Python/3.10/lib/python/site-packages/executing/executing.py\", line 275, in for_filename\n",
      "    return cls._for_filename_and_lines(filename, lines)\n",
      "  File \"/Users/bhanukedhar/Library/Python/3.10/lib/python/site-packages/executing/executing.py\", line 285, in _for_filename_and_lines\n",
      "    result = source_cache[(filename, lines)] = cls(filename, lines)\n",
      "  File \"/Users/bhanukedhar/Library/Python/3.10/lib/python/site-packages/stack_data/core.py\", line 97, in __init__\n",
      "    self.asttokens()\n",
      "  File \"/Users/bhanukedhar/Library/Python/3.10/lib/python/site-packages/executing/executing.py\", line 387, in asttokens\n",
      "    return ASTTokens(\n",
      "  File \"/Users/bhanukedhar/Library/Python/3.10/lib/python/site-packages/asttokens/asttokens.py\", line 61, in __init__\n",
      "    source_text = six.ensure_text(source_text)\n",
      "AttributeError: module 'six' has no attribute 'ensure_text'\n"
     ]
    }
   ],
   "source": [
    "# x = arr[:len(arr1)]\n",
    "# x\n",
    "len(arr1), len(arr)\n",
    "arr3 = arr - arr1\n",
    "mse = np.mean(np.square(arr3 - np.mean(arr3)))\n",
    "mse\n",
    "\n",
    "from sklearn.metrics import mean_absolute_error\n",
    "mae = mean_absolute_error(arr, arr1)\n",
    "mae, mse, arr3\n",
    "# arr3\n",
    "#0.0000023061643838906866, 0.000000000007905254870083513"
   ]
  },
  {
   "cell_type": "code",
   "execution_count": null,
   "metadata": {},
   "outputs": [],
   "source": []
  },
  {
   "cell_type": "code",
   "execution_count": 153,
   "metadata": {},
   "outputs": [
    {
     "name": "stdout",
     "output_type": "stream",
     "text": [
      "array([[88.     , 88.09091, 88.18182, 88.27273, ..., 88.81818, 88.     ,\n",
      "\n",
      "Unexpected exception formatting exception. Falling back to standard exception\n"
     ]
    },
    {
     "name": "stderr",
     "output_type": "stream",
     "text": [
      "Traceback (most recent call last):\n",
      "  File \"/Users/bhanukedhar/Library/Python/3.10/lib/python/site-packages/IPython/core/interactiveshell.py\", line 3378, in run_code\n",
      "    exec(code_obj, self.user_global_ns, self.user_ns)\n",
      "  File \"/var/folders/cd/60bgrl6d57gcpppm6fn4m4780000gn/T/ipykernel_71454/2815209578.py\", line 18, in <module>\n",
      "    mae = mean_absolute_error(arr, arr1)\n",
      "  File \"/Library/Frameworks/Python.framework/Versions/3.10/lib/python3.10/site-packages/sklearn/metrics/_regression.py\", line 196, in mean_absolute_error\n",
      "    y_type, y_true, y_pred, multioutput = _check_reg_targets(\n",
      "  File \"/Library/Frameworks/Python.framework/Versions/3.10/lib/python3.10/site-packages/sklearn/metrics/_regression.py\", line 100, in _check_reg_targets\n",
      "    check_consistent_length(y_true, y_pred)\n",
      "  File \"/Library/Frameworks/Python.framework/Versions/3.10/lib/python3.10/site-packages/sklearn/utils/validation.py\", line 397, in check_consistent_length\n",
      "    raise ValueError(\n",
      "ValueError: Found input variables with inconsistent numbers of samples: [73, 43]\n",
      "\n",
      "During handling of the above exception, another exception occurred:\n",
      "\n",
      "Traceback (most recent call last):\n",
      "  File \"/Users/bhanukedhar/Library/Python/3.10/lib/python/site-packages/IPython/core/interactiveshell.py\", line 1997, in showtraceback\n",
      "    stb = self.InteractiveTB.structured_traceback(\n",
      "  File \"/Users/bhanukedhar/Library/Python/3.10/lib/python/site-packages/IPython/core/ultratb.py\", line 1112, in structured_traceback\n",
      "    return FormattedTB.structured_traceback(\n",
      "  File \"/Users/bhanukedhar/Library/Python/3.10/lib/python/site-packages/IPython/core/ultratb.py\", line 1006, in structured_traceback\n",
      "    return VerboseTB.structured_traceback(\n",
      "  File \"/Users/bhanukedhar/Library/Python/3.10/lib/python/site-packages/IPython/core/ultratb.py\", line 859, in structured_traceback\n",
      "    formatted_exception = self.format_exception_as_a_whole(etype, evalue, etb, number_of_lines_of_context,\n",
      "  File \"/Users/bhanukedhar/Library/Python/3.10/lib/python/site-packages/IPython/core/ultratb.py\", line 793, in format_exception_as_a_whole\n",
      "    self.get_records(etb, number_of_lines_of_context, tb_offset) if etb else []\n",
      "  File \"/Users/bhanukedhar/Library/Python/3.10/lib/python/site-packages/IPython/core/ultratb.py\", line 848, in get_records\n",
      "    return list(stack_data.FrameInfo.stack_data(etb, options=options))[tb_offset:]\n",
      "  File \"/Users/bhanukedhar/Library/Python/3.10/lib/python/site-packages/stack_data/core.py\", line 597, in stack_data\n",
      "    yield from collapse_repeated(\n",
      "  File \"/Users/bhanukedhar/Library/Python/3.10/lib/python/site-packages/stack_data/utils.py\", line 84, in collapse_repeated\n",
      "    yield from map(mapper, original_group)\n",
      "  File \"/Users/bhanukedhar/Library/Python/3.10/lib/python/site-packages/stack_data/core.py\", line 587, in mapper\n",
      "    return cls(f, options)\n",
      "  File \"/Users/bhanukedhar/Library/Python/3.10/lib/python/site-packages/stack_data/core.py\", line 551, in __init__\n",
      "    self.executing = Source.executing(frame_or_tb)\n",
      "  File \"/Users/bhanukedhar/Library/Python/3.10/lib/python/site-packages/executing/executing.py\", line 323, in executing\n",
      "    source = cls.for_frame(frame)\n",
      "  File \"/Users/bhanukedhar/Library/Python/3.10/lib/python/site-packages/executing/executing.py\", line 247, in for_frame\n",
      "    return cls.for_filename(frame.f_code.co_filename, frame.f_globals or {}, use_cache)\n",
      "  File \"/Users/bhanukedhar/Library/Python/3.10/lib/python/site-packages/executing/executing.py\", line 275, in for_filename\n",
      "    return cls._for_filename_and_lines(filename, lines)\n",
      "  File \"/Users/bhanukedhar/Library/Python/3.10/lib/python/site-packages/executing/executing.py\", line 285, in _for_filename_and_lines\n",
      "    result = source_cache[(filename, lines)] = cls(filename, lines)\n",
      "  File \"/Users/bhanukedhar/Library/Python/3.10/lib/python/site-packages/stack_data/core.py\", line 97, in __init__\n",
      "    self.asttokens()\n",
      "  File \"/Users/bhanukedhar/Library/Python/3.10/lib/python/site-packages/executing/executing.py\", line 387, in asttokens\n",
      "    return ASTTokens(\n",
      "  File \"/Users/bhanukedhar/Library/Python/3.10/lib/python/site-packages/asttokens/asttokens.py\", line 61, in __init__\n",
      "    source_text = six.ensure_text(source_text)\n",
      "AttributeError: module 'six' has no attribute 'ensure_text'\n"
     ]
    }
   ],
   "source": [
    "x = []\n",
    "for i, j in zip(first_dict,second_dict):\n",
    "    # print(second_dict[i][1])\n",
    "    if second_dict[i][1][0] == first_dict[i][1][0]:\n",
    "        x.append(1)\n",
    "    else:\n",
    "        if \"array\" in second_dict[i][1][0] and \"array\" in first_dict[i][1][0]:\n",
    "            st = first_dict[i][1]\n",
    "            st1 = second_dict[j][1]\n",
    "            print(st[0])\n",
    "            st = (\"\".join(st)).replace(\"array(\", \"\").replace(\"\\n\", \"\").replace(\")\",\"\").replace(\"[\", \"\").replace(\"]\", \"\")\n",
    "            st1 = (\"\".join(st1)).replace(\"array(\", \"\").replace(\"\\n\", \"\").replace(\")\",\"\").replace(\"[\", \"\").replace(\"]\", \"\")\n",
    "            file_like_object = io.StringIO(st)\n",
    "            file_like_object1 = io.StringIO(st1)\n",
    "            arr = np.genfromtxt(file_like_object, delimiter=\",\", filling_values=0)\n",
    "            arr1 = np.genfromtxt(file_like_object1, delimiter=\",\", filling_values=0)\n",
    "            # print(arr, arr1)\n",
    "            mae = mean_absolute_error(arr, arr1)\n",
    "            x.append(mae)\n",
    "            # print(\"ys\")\n",
    "        else:\n",
    "            pass\n",
    "            # print(second_dict[i][1])\n",
    "# x"
   ]
  },
  {
   "cell_type": "code",
   "execution_count": 172,
   "metadata": {},
   "outputs": [
    {
     "data": {
      "text/plain": [
       "[{(1, 1): 0},\n",
       " {(3, 3): 2.6794444446901857e-06},\n",
       " {(4, 4): 0.0},\n",
       " {(5, 5): 0.0},\n",
       " {(6, 6): 0.0},\n",
       " {(7, 7): 1},\n",
       " {(8, 8): 1},\n",
       " {(10, 10): 0},\n",
       " {(12, 12): 0},\n",
       " {(13, 13): 0}]"
      ]
     },
     "execution_count": 172,
     "metadata": {},
     "output_type": "execute_result"
    }
   ],
   "source": [
    "# first_dict = dict()\n",
    "# second_dict = dict()\n",
    "# for cell_count,d in enumerate(fileoutput[\"cells\"]):\n",
    "#     # print(d)\n",
    "#     if d[\"cell_type\"] == \"code\":\n",
    "#         # print(d[\"cell_type\"].keys())\n",
    "#         for o in d[\"outputs\"]:\n",
    "#             print(type(o))\n",
    "#             # first_dict[cell_count] = (d[\"source\"],d[\"outputs\"][\"data\"][\"text/plain\"], d[\"outputs\"][\"output_type\"])\n",
    "#         # break\n",
    "\n",
    "\n",
    "# for cell_count, d in enumerate(fileoutput1[\"cells\"]):\n",
    "#     if d[\"cell_type\"] == \"code\":\n",
    "#         # print(d)\n",
    "#         for o in d[\"outputs\"]:\n",
    "\n",
    "#             # print(o)\n",
    "#             second_dict[cell_count] = (d[\"source\"],o[list(o.keys())[0]][list(o[list(o.keys())[0]].keys())[0]], [list(o.keys())[0], list(o[list(o.keys())[0]].keys())[0]], d[\"outputs\"][\"output_type\"])\n",
    "#             # second_dict[d[\"id\"]] = (d[\"source\"],o[\"data\"][\"text/plain\"])\n",
    "\n",
    "import ast\n",
    "new_list = list()\n",
    "for i, j in zip(first_dict,second_dict):\n",
    "    d= {}\n",
    "    if second_dict[j][1] == first_dict[i][1]:\n",
    "        d = {(i,j):1}\n",
    "        # x.append(1)\n",
    "\n",
    "    elif first_dict[j][1][0][0:5] == \"array\" and first_dict[j][1][0][0:5] == \"array\":\n",
    "        x = \"\".join(first_dict[j][1])\n",
    "        for u in range(len(first_dict[j][1])):\n",
    "            first_dict[j][1][u] = first_dict[j][1][u].replace(\"...,\", \"\").strip()\n",
    "        un = \"\".join(first_dict[j][1])\n",
    "        # print(un)\n",
    "        # objects = [ast.literal_eval(s) for s in \"\".join(second_dict[j][1])]\n",
    "        lst_arr = np.array(eval(\"np.\" + un))\n",
    "        new_arr = np.delete(np.delete(lst_arr, 3, axis=0), -4, axis=0)\n",
    "        new_arr = np.delete(np.delete(new_arr,3, axis = 1), -4, axis=1)\n",
    "        # print(new_arr)\n",
    "\n",
    "        x = \"\".join(second_dict[j][1])\n",
    "        for u in range(len(second_dict[j][1])):\n",
    "            second_dict[j][1][u] = second_dict[j][1][u].replace(\"...,\", \"\").strip()\n",
    "        un = \"\".join(second_dict[j][1])\n",
    "        # print(un)\n",
    "        # objects = [ast.literal_eval(s) for s in \"\".join(second_dict[j][1])]\n",
    "        lst_arr1 = np.array(eval(\"np.\" + un))\n",
    "\n",
    "        mae = mean_absolute_error(new_arr, lst_arr1)\n",
    "        d = {(i,j):mae}\n",
    "\n",
    "        # print(x[:5], len(second_dict[j][1]), second_dict[j][1])\n",
    "    else:\n",
    "        d = {(i,j) : 0}\n",
    "        pass\n",
    "        # print(second _dict[j][1][0][0:5])\n",
    "    if len(d) :\n",
    "        new_list.append(d)\n",
    "\n",
    "        \n",
    "    \n",
    "\n",
    "\n",
    "\n",
    "# \"\"\"array([[88.        , 88.09090909, 88.18181818, ..., 88.        ,\n",
    "#         88.09090909, 88.18181818],\n",
    "#        [88.27272727, 88.36363636, 88.45454545, ..., 88.27272727,\n",
    "#         88.36363636, 88.45454545],\n",
    "#        [88.54545455, 88.63636364, 88.72727273, ..., 88.54545455,\n",
    "#         88.63636364, 88.72727273],\n",
    "#        ...,\n",
    "#        [88.81818182, 88.        , 88.09090909, ..., 88.81818182,\n",
    "#         88.        , 88.09090909],\n",
    "#        [88.18181818, 88.27272727, 88.36363636, ..., 88.18181818,\n",
    "#         88.27272727, 88.36363636],\n",
    "#        [88.45454545, 88.54545455, 88.63636364, ..., 88.45454545,\n",
    "#         88.54545455, 88.63636364]])\"\"\"\n",
    "\n",
    "\n",
    "new_list"
   ]
  },
  {
   "cell_type": "code",
   "execution_count": 174,
   "metadata": {},
   "outputs": [
    {
     "ename": "SyntaxError",
     "evalue": "invalid syntax (<string>, line 1)",
     "output_type": "error",
     "traceback": [
      "Traceback \u001b[0;36m(most recent call last)\u001b[0m:\n",
      "\u001b[0m  File \u001b[1;32m~/Library/Python/3.10/lib/python/site-packages/IPython/core/interactiveshell.py:3378\u001b[0m in \u001b[1;35mrun_code\u001b[0m\n    exec(code_obj, self.user_global_ns, self.user_ns)\u001b[0m\n",
      "\u001b[0;36m  Cell \u001b[0;32mIn [174], line 1\u001b[0;36m\n\u001b[0;31m    eval(\"('fl-weather-alerts.json', <http.client.HTTPMessage at 0x104672800>)\")\u001b[0;36m\n",
      "\u001b[0;36m  File \u001b[0;32m<string>:1\u001b[0;36m\u001b[0m\n\u001b[0;31m    ('fl-weather-alerts.json', <http.client.HTTPMessage at 0x104672800>)\u001b[0m\n\u001b[0m                               ^\u001b[0m\n\u001b[0;31mSyntaxError\u001b[0m\u001b[0;31m:\u001b[0m invalid syntax\n"
     ]
    }
   ],
   "source": [
    "eval(\"('fl-weather-alerts.json', <http.client.HTTPMessage at 0x104672800>)\")"
   ]
  },
  {
   "cell_type": "code",
   "execution_count": 258,
   "metadata": {},
   "outputs": [
    {
     "name": "stdout",
     "output_type": "stream",
     "text": [
      "['import gzip\\n', \"f = (gzip.open('weather-buoy-data.txt.gz'))\\n\", 'next(f)\\n', 'next(f)\\n', 'vals = []\\n', 'for line in f:\\n', '    vals.append(float(line.split()[5]))\\n']\n",
      "import gzip\n",
      "\n",
      "f = (gzip.open('weather-buoy-data.txt.gz'))\n",
      "\n",
      "next(f)\n",
      "\n",
      "next(f)\n",
      "\n",
      "vals = []\n",
      "\n",
      "for line in f:\n",
      "\n",
      "invalid syntax (<string>, line 1)\n",
      "Unexpected exception formatting exception. Falling back to standard exception\n"
     ]
    },
    {
     "name": "stderr",
     "output_type": "stream",
     "text": [
      "Traceback (most recent call last):\n",
      "  File \"/Users/bhanukedhar/Library/Python/3.10/lib/python/site-packages/IPython/core/interactiveshell.py\", line 3378, in run_code\n",
      "    exec(code_obj, self.user_global_ns, self.user_ns)\n",
      "  File \"/var/folders/cd/60bgrl6d57gcpppm6fn4m4780000gn/T/ipykernel_71454/3365438933.py\", line 26, in <module>\n",
      "    ty = eval(s[i])\n",
      "  File \"<string>\", line 1, in <module>\n",
      "IndexError: list index out of range\n",
      "\n",
      "During handling of the above exception, another exception occurred:\n",
      "\n",
      "Traceback (most recent call last):\n",
      "  File \"/Users/bhanukedhar/Library/Python/3.10/lib/python/site-packages/IPython/core/interactiveshell.py\", line 1997, in showtraceback\n",
      "    stb = self.InteractiveTB.structured_traceback(\n",
      "  File \"/Users/bhanukedhar/Library/Python/3.10/lib/python/site-packages/IPython/core/ultratb.py\", line 1112, in structured_traceback\n",
      "    return FormattedTB.structured_traceback(\n",
      "  File \"/Users/bhanukedhar/Library/Python/3.10/lib/python/site-packages/IPython/core/ultratb.py\", line 1006, in structured_traceback\n",
      "    return VerboseTB.structured_traceback(\n",
      "  File \"/Users/bhanukedhar/Library/Python/3.10/lib/python/site-packages/IPython/core/ultratb.py\", line 859, in structured_traceback\n",
      "    formatted_exception = self.format_exception_as_a_whole(etype, evalue, etb, number_of_lines_of_context,\n",
      "  File \"/Users/bhanukedhar/Library/Python/3.10/lib/python/site-packages/IPython/core/ultratb.py\", line 793, in format_exception_as_a_whole\n",
      "    self.get_records(etb, number_of_lines_of_context, tb_offset) if etb else []\n",
      "  File \"/Users/bhanukedhar/Library/Python/3.10/lib/python/site-packages/IPython/core/ultratb.py\", line 848, in get_records\n",
      "    return list(stack_data.FrameInfo.stack_data(etb, options=options))[tb_offset:]\n",
      "  File \"/Users/bhanukedhar/Library/Python/3.10/lib/python/site-packages/stack_data/core.py\", line 597, in stack_data\n",
      "    yield from collapse_repeated(\n",
      "  File \"/Users/bhanukedhar/Library/Python/3.10/lib/python/site-packages/stack_data/utils.py\", line 84, in collapse_repeated\n",
      "    yield from map(mapper, original_group)\n",
      "  File \"/Users/bhanukedhar/Library/Python/3.10/lib/python/site-packages/stack_data/core.py\", line 587, in mapper\n",
      "    return cls(f, options)\n",
      "  File \"/Users/bhanukedhar/Library/Python/3.10/lib/python/site-packages/stack_data/core.py\", line 551, in __init__\n",
      "    self.executing = Source.executing(frame_or_tb)\n",
      "  File \"/Users/bhanukedhar/Library/Python/3.10/lib/python/site-packages/executing/executing.py\", line 323, in executing\n",
      "    source = cls.for_frame(frame)\n",
      "  File \"/Users/bhanukedhar/Library/Python/3.10/lib/python/site-packages/executing/executing.py\", line 247, in for_frame\n",
      "    return cls.for_filename(frame.f_code.co_filename, frame.f_globals or {}, use_cache)\n",
      "  File \"/Users/bhanukedhar/Library/Python/3.10/lib/python/site-packages/executing/executing.py\", line 275, in for_filename\n",
      "    return cls._for_filename_and_lines(filename, lines)\n",
      "  File \"/Users/bhanukedhar/Library/Python/3.10/lib/python/site-packages/executing/executing.py\", line 285, in _for_filename_and_lines\n",
      "    result = source_cache[(filename, lines)] = cls(filename, lines)\n",
      "  File \"/Users/bhanukedhar/Library/Python/3.10/lib/python/site-packages/stack_data/core.py\", line 97, in __init__\n",
      "    self.asttokens()\n",
      "  File \"/Users/bhanukedhar/Library/Python/3.10/lib/python/site-packages/executing/executing.py\", line 387, in asttokens\n",
      "    return ASTTokens(\n",
      "  File \"/Users/bhanukedhar/Library/Python/3.10/lib/python/site-packages/asttokens/asttokens.py\", line 61, in __init__\n",
      "    source_text = six.ensure_text(source_text)\n",
      "AttributeError: module 'six' has no attribute 'ensure_text'\n"
     ]
    }
   ],
   "source": [
    "# import urllib\n",
    "# s = [\"local_fname = 'fl-weather-alerts.json'\",\n",
    "# \"urllib.request.urlretrieve('https://api.weather.gov/alerts/active?area=FL', local_fname)\"]\n",
    "# s[-1] = \"type(\" + s[-1] + \")\"\n",
    "\n",
    "s = ['import gzip\\n',\n",
    "    \"f = (gzip.open('weather-buoy-data.txt.gz'))\\n\",\n",
    "    'next(f)\\n',\n",
    "    'next(f)\\n',\n",
    "    'vals = []\\n',\n",
    "    'for line in f:\\n',\n",
    "    '    vals.append(float(line.split()[5]))\\n']\n",
    "# s = [i.rstrip() for i in s]\n",
    "print(s)\n",
    "for i in range(len(s)):\n",
    "    if i<len(s)-1:\n",
    "        print(s[i])\n",
    "        try:\n",
    "            exec(s[i])\n",
    "        except Exception as e:\n",
    "            try:\n",
    "                eval(s[i])\n",
    "            except Exception as e:\n",
    "                print(e)\n",
    "    else:\n",
    "        ty = eval(s[i])\n",
    "ty"
   ]
  },
  {
   "cell_type": "code",
   "execution_count": 221,
   "metadata": {},
   "outputs": [
    {
     "name": "stdout",
     "output_type": "stream",
     "text": [
      "Variable name unknown\n"
     ]
    }
   ],
   "source": [
    "import ast\n",
    "\n",
    "line = \"orig\"\n",
    "\n",
    "# Parse the line into an AST tree\n",
    "tree = ast.parse(line)\n",
    "\n",
    "# Find the `Attribute` node, which represents the call to `append()`\n",
    "append_nodes = [node for node in ast.walk(tree) if isinstance(node, ast.Attribute) and node.attr == \"append\"]\n",
    "\n",
    "if append_nodes:\n",
    "    # Get the name of the variable used in the first call to `append()`\n",
    "    var_name = append_nodes[0].value.id\n",
    "    print(var_name)\n",
    "else:\n",
    "    # No call to `append()` found, so variable name is unknown\n",
    "    print(\"Variable name unknown\")\n"
   ]
  },
  {
   "cell_type": "code",
   "execution_count": 234,
   "metadata": {},
   "outputs": [
    {
     "data": {
      "text/plain": [
       "('urllib', 'local_fname')"
      ]
     },
     "execution_count": 234,
     "metadata": {},
     "output_type": "execute_result"
    }
   ],
   "source": [
    "expression = \"urllib.request.urlretrieve('https://www.ndbc.noaa.gov/data/historical/stdmet/42040h2021.txt.gz', local_fname)\"\n",
    "# names = [\n",
    "#     node.id for node in ast.walk(ast.parse(formula)) \n",
    "#     if isinstance(node, ast.Name)\n",
    "# ]\n",
    "\n",
    "import ast\n",
    "import builtins\n",
    "\n",
    "def get_variables(expression):\n",
    "    tree = ast.parse(expression)\n",
    "    variables = []\n",
    "    for node in ast.walk(tree):\n",
    "        if isinstance(node, ast.Name):\n",
    "            variables.append(node.id)\n",
    "    return tuple(v for v in set(variables) if v not in vars(builtins))\n",
    "# x.append(names)\n",
    "get_variables(expression)"
   ]
  },
  {
   "cell_type": "code",
   "execution_count": 278,
   "metadata": {},
   "outputs": [],
   "source": [
    "# s = [i.replace() for i in s]\n",
    "# \"\".join(s)\n",
    "# IIIiiiiiiiiiiiiiiiiiiiiiiiiiiiiiiiiiiiiiiiiiiiiiiiiiiiiiiiiiiiiiiiiiiiiiiii\n",
    "\n",
    "s = ['import gzip\\n',\n",
    "    \"f = (gzip.open('weather-buoy-data.txt.gz'))\\n\",\n",
    "    'next(f)\\n',\n",
    "    'next(f)\\n',\n",
    "    'vals = []\\n',\n",
    "    'for line in f:\\n',\n",
    "    '    vals.append(float(line.split()[5]))\\n']\n",
    "    \n",
    "s = ''.join(s).replace('\\\\n', '\\n')\n",
    "print(s)\n",
    "\n"
   ]
  },
  {
   "cell_type": "code",
   "execution_count": 268,
   "metadata": {},
   "outputs": [
    {
     "name": "stdout",
     "output_type": "stream",
     "text": [
      "    import gzip\n",
      "    f = (gzip.open('weather-buoy-data.txt.gz'))\n",
      "    next(f)\n",
      "    next(f)\n",
      "    vals = []\n",
      "    for line in f:\n",
      "        vals.append(float(line.split()[5]))\n",
      "\n"
     ]
    }
   ],
   "source": [
    "import textwrap\n",
    "\n",
    "s = ['import gzip\\n',\n",
    "    \"f = (gzip.open('weather-buoy-data.txt.gz'))\\n\",\n",
    "    'next(f)\\n',\n",
    "    'next(f)\\n',\n",
    "    'vals = []\\n',\n",
    "    'for line in f:\\n',\n",
    "    '    vals.append(float(line.split()[5]))\\n']\n",
    "\n",
    "formatted_code = textwrap.indent(''.join(s).replace('\\\\n', '\\n'), '    ')\n",
    "print(formatted_code)\n",
    "\n",
    "s = \"\"\"f = (gzip.open('weather-buoy-data.txt.gz'))\n",
    "next(f)\n",
    "next(f)\n",
    "vals = []\n",
    "for line in f:\n",
    "    vals.append(float(line.split()[5]))\"\"\"\n",
    "\n"
   ]
  },
  {
   "cell_type": "code",
   "execution_count": 251,
   "metadata": {},
   "outputs": [],
   "source": [
    "# names"
   ]
  },
  {
   "cell_type": "code",
   "execution_count": null,
   "metadata": {},
   "outputs": [],
   "source": []
  },
  {
   "cell_type": "code",
   "execution_count": 205,
   "metadata": {},
   "outputs": [
    {
     "name": "stdout",
     "output_type": "stream",
     "text": [
      "<class 'set'>\n"
     ]
    }
   ],
   "source": [
    "# ss = ['import gzip', \"f = (gzip.open('weather-buoy-data.txt.gz'))\", 'next(f)', 'next(f)', 'vals = []', 'for line in f:', '    vals.append(float(line.split()[5]))']\n",
    "\n",
    "# for i in ss:\n",
    "#     x = eval(i)\n",
    "# # s = \"\"\"import gzip\n",
    "\n",
    "# # f = (gzip.open('weather-buoy-data.txt.gz'))\n",
    "# # next(f)\n",
    "# # next(f)\n",
    "# # vals = []\n",
    "# # for line in f:\n",
    "# #     vals.append(float(line.split()[5]))\"\"\"\n",
    "\n",
    "# exec(s)\n",
    "\n",
    "# s = ['import gzip', \"f = (gzip.open('weather-buoy-data.txt.gz'))\", 'next(f)', 'next(f)', 'vals = []', 'for line in f:', '    vals.append(float(line.split()[5]))']\n",
    "# for i in range(len(s)):\n",
    "#     if i < len(s)-1:\n",
    "#         try:\n",
    "#             eval(s[i])\n",
    "#         except Exception as e:\n",
    "#             pass\n",
    "#     else:\n",
    "#         last_var = eval(s[i])\n",
    "#         print(last_var)\n",
    "        \n",
    "\n",
    "s = ['import gzip\\n',\n",
    "    \"f = (gzip.open('weather-buoy-data.txt.gz'))\\n\",\n",
    "    'next(f)\\n',\n",
    "    'next(f)\\n',\n",
    "    'vals = set()\\n',\n",
    "    'for line in f:\\n',\n",
    "    '    vals.append(float(line.split()[5]))\\n']\n",
    "\n",
    "# Evaluate each line of the list\n",
    "for line in s:\n",
    "    try:\n",
    "        exec(line)\n",
    "    except:\n",
    "        pass\n",
    "\n",
    "# Get the last variable\n",
    "last_var = eval('vals')\n",
    "print(type(last_var))\n"
   ]
  },
  {
   "cell_type": "code",
   "execution_count": null,
   "metadata": {},
   "outputs": [],
   "source": []
  },
  {
   "cell_type": "markdown",
   "metadata": {},
   "source": [
    "## Real-Time Data"
   ]
  },
  {
   "cell_type": "code",
   "execution_count": 19,
   "metadata": {},
   "outputs": [
    {
     "data": {
      "text/plain": [
       "[['Tropical Storm Warning ',\n",
       "  [datetime.datetime(2022, 9, 27, 17, 4)],\n",
       "  'NWS Tallahassee FL'],\n",
       " ['Tropical Storm Warning ',\n",
       "  [datetime.datetime(2022, 9, 27, 17, 4)],\n",
       "  'NWS Tallahassee FL'],\n",
       " ['Tropical Storm Warning ',\n",
       "  [datetime.datetime(2022, 9, 27, 17, 4)],\n",
       "  'NWS Tallahassee FL'],\n",
       " ['Tropical Storm Warning ',\n",
       "  [datetime.datetime(2022, 9, 27, 17, 4)],\n",
       "  'NWS Tallahassee FL'],\n",
       " ['Tropical Storm Warning ',\n",
       "  [datetime.datetime(2022, 9, 27, 17, 4)],\n",
       "  'NWS Tallahassee FL'],\n",
       " ['Tropical Storm Warning ',\n",
       "  [datetime.datetime(2022, 9, 27, 17, 4)],\n",
       "  'NWS Tallahassee FL'],\n",
       " ['Tornado Warning ',\n",
       "  [datetime.datetime(2022, 9, 27, 17, 3),\n",
       "   datetime.datetime(2022, 9, 27, 17, 30)],\n",
       "  'NWS Miami FL'],\n",
       " ['Coastal Flood Statement ',\n",
       "  [datetime.datetime(2022, 9, 27, 17, 1),\n",
       "   datetime.datetime(2022, 9, 29, 20, 0)],\n",
       "  'NWS Miami FL'],\n",
       " ['Coastal Flood Statement ',\n",
       "  [datetime.datetime(2022, 9, 27, 17, 1),\n",
       "   datetime.datetime(2022, 9, 29, 20, 0)],\n",
       "  'NWS Miami FL'],\n",
       " ['Tornado Watch ',\n",
       "  [datetime.datetime(2022, 9, 27, 16, 59),\n",
       "   datetime.datetime(2022, 9, 28, 5, 0)],\n",
       "  'NWS Miami FL'],\n",
       " ['Tornado Watch ',\n",
       "  [datetime.datetime(2022, 9, 27, 16, 59),\n",
       "   datetime.datetime(2022, 9, 28, 5, 0)],\n",
       "  'NWS Miami FL'],\n",
       " ['Tropical Storm Warning ',\n",
       "  [datetime.datetime(2022, 9, 27, 16, 59)],\n",
       "  'NWS Miami FL'],\n",
       " ['Tropical Storm Warning ',\n",
       "  [datetime.datetime(2022, 9, 27, 16, 59)],\n",
       "  'NWS Miami FL'],\n",
       " ['Tropical Storm Warning ',\n",
       "  [datetime.datetime(2022, 9, 27, 16, 59)],\n",
       "  'NWS Miami FL'],\n",
       " ['Tropical Storm Warning ',\n",
       "  [datetime.datetime(2022, 9, 27, 16, 59)],\n",
       "  'NWS Miami FL'],\n",
       " ['Tropical Storm Warning ',\n",
       "  [datetime.datetime(2022, 9, 27, 16, 59)],\n",
       "  'NWS Miami FL'],\n",
       " ['Storm Surge Warning ',\n",
       "  [datetime.datetime(2022, 9, 27, 16, 59)],\n",
       "  'NWS Miami FL'],\n",
       " ['Tropical Storm Warning ',\n",
       "  [datetime.datetime(2022, 9, 27, 16, 59)],\n",
       "  'NWS Miami FL'],\n",
       " ['Tropical Storm Warning ',\n",
       "  [datetime.datetime(2022, 9, 27, 16, 59)],\n",
       "  'NWS Miami FL'],\n",
       " ['Tropical Storm Warning ',\n",
       "  [datetime.datetime(2022, 9, 27, 16, 59)],\n",
       "  'NWS Miami FL'],\n",
       " ['Tropical Storm Warning ',\n",
       "  [datetime.datetime(2022, 9, 27, 16, 59)],\n",
       "  'NWS Miami FL'],\n",
       " ['Tropical Storm Warning ',\n",
       "  [datetime.datetime(2022, 9, 27, 16, 59)],\n",
       "  'NWS Miami FL'],\n",
       " ['Hurricane Watch ',\n",
       "  [datetime.datetime(2022, 9, 27, 16, 59)],\n",
       "  'NWS Miami FL'],\n",
       " ['Storm Surge Warning ',\n",
       "  [datetime.datetime(2022, 9, 27, 16, 59)],\n",
       "  'NWS Miami FL'],\n",
       " ['Hurricane Watch ',\n",
       "  [datetime.datetime(2022, 9, 27, 16, 59)],\n",
       "  'NWS Miami FL'],\n",
       " ['Tropical Storm Warning ',\n",
       "  [datetime.datetime(2022, 9, 27, 16, 59)],\n",
       "  'NWS Miami FL'],\n",
       " ['Storm Surge Watch ',\n",
       "  [datetime.datetime(2022, 9, 27, 16, 59)],\n",
       "  'NWS Miami FL'],\n",
       " ['Tropical Storm Warning ',\n",
       "  [datetime.datetime(2022, 9, 27, 16, 59)],\n",
       "  'NWS Miami FL'],\n",
       " ['Tropical Storm Warning ',\n",
       "  [datetime.datetime(2022, 9, 27, 16, 59)],\n",
       "  'NWS Miami FL'],\n",
       " ['Tropical Storm Warning ',\n",
       "  [datetime.datetime(2022, 9, 27, 16, 59)],\n",
       "  'NWS Miami FL'],\n",
       " ['Hurricane Watch ',\n",
       "  [datetime.datetime(2022, 9, 27, 16, 59)],\n",
       "  'NWS Miami FL'],\n",
       " ['Hurricane Warning ',\n",
       "  [datetime.datetime(2022, 9, 27, 16, 59)],\n",
       "  'NWS Miami FL'],\n",
       " ['Flood Advisory ',\n",
       "  [datetime.datetime(2022, 9, 27, 16, 48),\n",
       "   datetime.datetime(2022, 9, 27, 19, 45)],\n",
       "  'NWS Miami FL'],\n",
       " ['Tornado Watch ',\n",
       "  [datetime.datetime(2022, 9, 27, 16, 46),\n",
       "   datetime.datetime(2022, 9, 28, 5, 0)],\n",
       "  'NWS Key West FL'],\n",
       " ['Tornado Watch ',\n",
       "  [datetime.datetime(2022, 9, 27, 16, 45),\n",
       "   datetime.datetime(2022, 9, 28, 5, 0)],\n",
       "  'NWS Melbourne FL'],\n",
       " ['Tornado Warning ',\n",
       "  [datetime.datetime(2022, 9, 27, 16, 43),\n",
       "   datetime.datetime(2022, 9, 27, 17, 15)],\n",
       "  'NWS Miami FL'],\n",
       " ['Flood Watch ',\n",
       "  [datetime.datetime(2022, 9, 27, 16, 34),\n",
       "   datetime.datetime(2022, 10, 1, 2, 0)],\n",
       "  'NWS Jacksonville FL'],\n",
       " ['Flood Advisory ',\n",
       "  [datetime.datetime(2022, 9, 27, 16, 23),\n",
       "   datetime.datetime(2022, 9, 27, 18, 45)],\n",
       "  'NWS Miami FL'],\n",
       " ['Flood Advisory ',\n",
       "  [datetime.datetime(2022, 9, 27, 16, 4),\n",
       "   datetime.datetime(2022, 9, 27, 19, 0)],\n",
       "  'NWS Miami FL'],\n",
       " ['Rip Current Statement ',\n",
       "  [datetime.datetime(2022, 9, 27, 15, 2),\n",
       "   datetime.datetime(2022, 10, 1, 6, 0)],\n",
       "  'NWS Mobile AL'],\n",
       " ['Wind Advisory ',\n",
       "  [datetime.datetime(2022, 9, 27, 15, 1),\n",
       "   datetime.datetime(2022, 9, 28, 22, 0)],\n",
       "  'NWS Mobile AL'],\n",
       " ['Red Flag Warning ',\n",
       "  [datetime.datetime(2022, 9, 27, 14, 59),\n",
       "   datetime.datetime(2022, 9, 28, 19, 0)],\n",
       "  'NWS Mobile AL'],\n",
       " ['Red Flag Warning ',\n",
       "  [datetime.datetime(2022, 9, 27, 14, 59),\n",
       "   datetime.datetime(2022, 9, 27, 19, 0)],\n",
       "  'NWS Mobile AL'],\n",
       " ['Flood Watch ',\n",
       "  [datetime.datetime(2022, 9, 27, 15, 58),\n",
       "   datetime.datetime(2022, 9, 29, 8, 0)],\n",
       "  'NWS Miami FL'],\n",
       " ['Flood Advisory ',\n",
       "  [datetime.datetime(2022, 9, 27, 15, 17),\n",
       "   datetime.datetime(2022, 9, 27, 18, 15)],\n",
       "  'NWS Miami FL'],\n",
       " ['Red Flag Warning ',\n",
       "  [datetime.datetime(2022, 9, 27, 15, 5),\n",
       "   datetime.datetime(2022, 9, 28, 20, 0)],\n",
       "  'NWS Tallahassee FL'],\n",
       " ['Tropical Cyclone Statement ',\n",
       "  [datetime.datetime(2022, 9, 27, 14, 25)],\n",
       "  'NWS Tampa Bay Ruskin FL'],\n",
       " ['Tropical Storm Warning ',\n",
       "  [datetime.datetime(2022, 9, 27, 14, 16)],\n",
       "  'NWS Tampa Bay Ruskin FL'],\n",
       " ['Hurricane Watch ',\n",
       "  [datetime.datetime(2022, 9, 27, 14, 16)],\n",
       "  'NWS Tampa Bay Ruskin FL'],\n",
       " ['Storm Surge Warning ',\n",
       "  [datetime.datetime(2022, 9, 27, 14, 16)],\n",
       "  'NWS Tampa Bay Ruskin FL'],\n",
       " ['Storm Surge Warning ',\n",
       "  [datetime.datetime(2022, 9, 27, 14, 16)],\n",
       "  'NWS Tampa Bay Ruskin FL'],\n",
       " ['Hurricane Watch ',\n",
       "  [datetime.datetime(2022, 9, 27, 14, 16)],\n",
       "  'NWS Tampa Bay Ruskin FL'],\n",
       " ['Hurricane Warning ',\n",
       "  [datetime.datetime(2022, 9, 27, 14, 16)],\n",
       "  'NWS Tampa Bay Ruskin FL'],\n",
       " ['Hurricane Watch ',\n",
       "  [datetime.datetime(2022, 9, 27, 14, 16)],\n",
       "  'NWS Tampa Bay Ruskin FL'],\n",
       " ['Tropical Storm Warning ',\n",
       "  [datetime.datetime(2022, 9, 27, 14, 16)],\n",
       "  'NWS Tampa Bay Ruskin FL'],\n",
       " ['Hurricane Watch ',\n",
       "  [datetime.datetime(2022, 9, 27, 14, 16)],\n",
       "  'NWS Tampa Bay Ruskin FL'],\n",
       " ['Tropical Storm Warning ',\n",
       "  [datetime.datetime(2022, 9, 27, 14, 16)],\n",
       "  'NWS Tampa Bay Ruskin FL'],\n",
       " ['Hurricane Watch ',\n",
       "  [datetime.datetime(2022, 9, 27, 14, 16)],\n",
       "  'NWS Tampa Bay Ruskin FL'],\n",
       " ['Hurricane Watch ',\n",
       "  [datetime.datetime(2022, 9, 27, 14, 16)],\n",
       "  'NWS Tampa Bay Ruskin FL'],\n",
       " ['Tropical Storm Warning ',\n",
       "  [datetime.datetime(2022, 9, 27, 14, 16)],\n",
       "  'NWS Tampa Bay Ruskin FL'],\n",
       " ['Tropical Storm Warning ',\n",
       "  [datetime.datetime(2022, 9, 27, 14, 16)],\n",
       "  'NWS Tampa Bay Ruskin FL'],\n",
       " ['Tropical Storm Warning ',\n",
       "  [datetime.datetime(2022, 9, 27, 14, 16)],\n",
       "  'NWS Tampa Bay Ruskin FL'],\n",
       " ['Storm Surge Warning ',\n",
       "  [datetime.datetime(2022, 9, 27, 14, 16)],\n",
       "  'NWS Tampa Bay Ruskin FL'],\n",
       " ['Storm Surge Warning ',\n",
       "  [datetime.datetime(2022, 9, 27, 14, 16)],\n",
       "  'NWS Tampa Bay Ruskin FL'],\n",
       " ['Hurricane Warning ',\n",
       "  [datetime.datetime(2022, 9, 27, 14, 16)],\n",
       "  'NWS Tampa Bay Ruskin FL'],\n",
       " ['Hurricane Warning ',\n",
       "  [datetime.datetime(2022, 9, 27, 14, 16)],\n",
       "  'NWS Tampa Bay Ruskin FL'],\n",
       " ['Storm Surge Warning ',\n",
       "  [datetime.datetime(2022, 9, 27, 14, 16)],\n",
       "  'NWS Tampa Bay Ruskin FL'],\n",
       " ['Hurricane Warning ',\n",
       "  [datetime.datetime(2022, 9, 27, 14, 16)],\n",
       "  'NWS Tampa Bay Ruskin FL'],\n",
       " ['Hurricane Watch ',\n",
       "  [datetime.datetime(2022, 9, 27, 14, 16)],\n",
       "  'NWS Tampa Bay Ruskin FL'],\n",
       " ['Hurricane Warning ',\n",
       "  [datetime.datetime(2022, 9, 27, 14, 16)],\n",
       "  'NWS Tampa Bay Ruskin FL'],\n",
       " ['Hurricane Warning ',\n",
       "  [datetime.datetime(2022, 9, 27, 14, 16)],\n",
       "  'NWS Tampa Bay Ruskin FL'],\n",
       " ['Storm Surge Warning ',\n",
       "  [datetime.datetime(2022, 9, 27, 14, 16)],\n",
       "  'NWS Tampa Bay Ruskin FL'],\n",
       " ['Hurricane Watch ',\n",
       "  [datetime.datetime(2022, 9, 27, 14, 16)],\n",
       "  'NWS Tampa Bay Ruskin FL'],\n",
       " ['Hurricane Watch ',\n",
       "  [datetime.datetime(2022, 9, 27, 14, 16)],\n",
       "  'NWS Tampa Bay Ruskin FL'],\n",
       " ['Tropical Storm Warning ',\n",
       "  [datetime.datetime(2022, 9, 27, 14, 16)],\n",
       "  'NWS Tampa Bay Ruskin FL'],\n",
       " ['Hurricane Warning ',\n",
       "  [datetime.datetime(2022, 9, 27, 14, 16)],\n",
       "  'NWS Tampa Bay Ruskin FL'],\n",
       " ['Storm Surge Warning ',\n",
       "  [datetime.datetime(2022, 9, 27, 14, 16)],\n",
       "  'NWS Tampa Bay Ruskin FL'],\n",
       " ['Tropical Storm Warning ',\n",
       "  [datetime.datetime(2022, 9, 27, 14, 16)],\n",
       "  'NWS Tampa Bay Ruskin FL'],\n",
       " ['Hurricane Warning ',\n",
       "  [datetime.datetime(2022, 9, 27, 14, 16)],\n",
       "  'NWS Tampa Bay Ruskin FL'],\n",
       " ['Storm Surge Warning ',\n",
       "  [datetime.datetime(2022, 9, 27, 14, 16)],\n",
       "  'NWS Tampa Bay Ruskin FL'],\n",
       " ['Hurricane Warning ',\n",
       "  [datetime.datetime(2022, 9, 27, 14, 16)],\n",
       "  'NWS Tampa Bay Ruskin FL'],\n",
       " ['Hurricane Warning ',\n",
       "  [datetime.datetime(2022, 9, 27, 14, 16)],\n",
       "  'NWS Tampa Bay Ruskin FL'],\n",
       " ['Tropical Storm Warning ',\n",
       "  [datetime.datetime(2022, 9, 27, 14, 16)],\n",
       "  'NWS Tampa Bay Ruskin FL'],\n",
       " ['Hurricane Warning ',\n",
       "  [datetime.datetime(2022, 9, 27, 14, 16)],\n",
       "  'NWS Tampa Bay Ruskin FL'],\n",
       " ['Hurricane Watch ',\n",
       "  [datetime.datetime(2022, 9, 27, 14, 16)],\n",
       "  'NWS Tampa Bay Ruskin FL'],\n",
       " ['Hurricane Warning ',\n",
       "  [datetime.datetime(2022, 9, 27, 14, 16)],\n",
       "  'NWS Tampa Bay Ruskin FL'],\n",
       " ['Storm Surge Warning ',\n",
       "  [datetime.datetime(2022, 9, 27, 14, 16)],\n",
       "  'NWS Tampa Bay Ruskin FL'],\n",
       " ['Hurricane Warning ',\n",
       "  [datetime.datetime(2022, 9, 27, 14, 16)],\n",
       "  'NWS Tampa Bay Ruskin FL'],\n",
       " ['Hurricane Warning ',\n",
       "  [datetime.datetime(2022, 9, 27, 14, 16)],\n",
       "  'NWS Tampa Bay Ruskin FL'],\n",
       " ['Tropical Storm Warning ',\n",
       "  [datetime.datetime(2022, 9, 27, 14, 16)],\n",
       "  'NWS Tampa Bay Ruskin FL'],\n",
       " ['Storm Surge Warning ',\n",
       "  [datetime.datetime(2022, 9, 27, 14, 16)],\n",
       "  'NWS Tampa Bay Ruskin FL'],\n",
       " ['Storm Surge Warning ',\n",
       "  [datetime.datetime(2022, 9, 27, 14, 16)],\n",
       "  'NWS Tampa Bay Ruskin FL'],\n",
       " ['Tropical Cyclone Statement ',\n",
       "  [datetime.datetime(2022, 9, 27, 14, 14)],\n",
       "  'NWS Miami FL'],\n",
       " ['Tropical Cyclone Statement ',\n",
       "  [datetime.datetime(2022, 9, 27, 12, 23)],\n",
       "  'NWS Key West FL'],\n",
       " ['Tropical Cyclone Statement ',\n",
       "  [datetime.datetime(2022, 9, 27, 12, 11)],\n",
       "  'NWS Melbourne FL'],\n",
       " ['Tropical Cyclone Statement ',\n",
       "  [datetime.datetime(2022, 9, 27, 11, 32)],\n",
       "  'NWS Jacksonville FL'],\n",
       " ['Tropical Cyclone Statement ',\n",
       "  [datetime.datetime(2022, 9, 27, 11, 27)],\n",
       "  'NWS Tampa Bay Ruskin FL'],\n",
       " ['Flood Watch ',\n",
       "  [datetime.datetime(2022, 9, 27, 11, 21),\n",
       "   datetime.datetime(2022, 10, 1, 2, 0)],\n",
       "  'NWS Jacksonville FL'],\n",
       " ['Tropical Storm Warning ',\n",
       "  [datetime.datetime(2022, 9, 27, 11, 19)],\n",
       "  'NWS Melbourne FL'],\n",
       " ['Tropical Storm Warning ',\n",
       "  [datetime.datetime(2022, 9, 27, 11, 19)],\n",
       "  'NWS Melbourne FL'],\n",
       " ['Tropical Storm Warning ',\n",
       "  [datetime.datetime(2022, 9, 27, 11, 19)],\n",
       "  'NWS Melbourne FL'],\n",
       " ['Tropical Storm Warning ',\n",
       "  [datetime.datetime(2022, 9, 27, 11, 19)],\n",
       "  'NWS Melbourne FL'],\n",
       " ['Tropical Storm Warning ',\n",
       "  [datetime.datetime(2022, 9, 27, 11, 19)],\n",
       "  'NWS Melbourne FL'],\n",
       " ['Tropical Storm Warning ',\n",
       "  [datetime.datetime(2022, 9, 27, 11, 19)],\n",
       "  'NWS Melbourne FL'],\n",
       " ['Tropical Storm Warning ',\n",
       "  [datetime.datetime(2022, 9, 27, 11, 19)],\n",
       "  'NWS Melbourne FL'],\n",
       " ['Tropical Storm Warning ',\n",
       "  [datetime.datetime(2022, 9, 27, 11, 19)],\n",
       "  'NWS Melbourne FL'],\n",
       " ['Tropical Storm Warning ',\n",
       "  [datetime.datetime(2022, 9, 27, 11, 19)],\n",
       "  'NWS Melbourne FL'],\n",
       " ['Tropical Storm Warning ',\n",
       "  [datetime.datetime(2022, 9, 27, 11, 19)],\n",
       "  'NWS Melbourne FL'],\n",
       " ['Tropical Storm Warning ',\n",
       "  [datetime.datetime(2022, 9, 27, 11, 19)],\n",
       "  'NWS Melbourne FL'],\n",
       " ['Tropical Storm Warning ',\n",
       "  [datetime.datetime(2022, 9, 27, 11, 19)],\n",
       "  'NWS Melbourne FL'],\n",
       " ['Hurricane Watch ',\n",
       "  [datetime.datetime(2022, 9, 27, 11, 19)],\n",
       "  'NWS Melbourne FL'],\n",
       " ['Tropical Storm Warning ',\n",
       "  [datetime.datetime(2022, 9, 27, 11, 19)],\n",
       "  'NWS Melbourne FL'],\n",
       " ['Tropical Storm Warning ',\n",
       "  [datetime.datetime(2022, 9, 27, 11, 19)],\n",
       "  'NWS Melbourne FL'],\n",
       " ['Tropical Storm Warning ',\n",
       "  [datetime.datetime(2022, 9, 27, 11, 19)],\n",
       "  'NWS Melbourne FL'],\n",
       " ['Tropical Storm Warning ',\n",
       "  [datetime.datetime(2022, 9, 27, 11, 19)],\n",
       "  'NWS Melbourne FL'],\n",
       " ['Tropical Storm Warning ',\n",
       "  [datetime.datetime(2022, 9, 27, 11, 19)],\n",
       "  'NWS Melbourne FL'],\n",
       " ['Tropical Storm Warning ',\n",
       "  [datetime.datetime(2022, 9, 27, 11, 19)],\n",
       "  'NWS Melbourne FL'],\n",
       " ['Hurricane Watch ',\n",
       "  [datetime.datetime(2022, 9, 27, 11, 19)],\n",
       "  'NWS Melbourne FL'],\n",
       " ['Tropical Storm Warning ',\n",
       "  [datetime.datetime(2022, 9, 27, 11, 19)],\n",
       "  'NWS Melbourne FL'],\n",
       " ['Hurricane Watch ',\n",
       "  [datetime.datetime(2022, 9, 27, 11, 19)],\n",
       "  'NWS Melbourne FL'],\n",
       " ['Tropical Storm Warning ',\n",
       "  [datetime.datetime(2022, 9, 27, 11, 19)],\n",
       "  'NWS Melbourne FL'],\n",
       " ['Hurricane Watch ',\n",
       "  [datetime.datetime(2022, 9, 27, 11, 19)],\n",
       "  'NWS Melbourne FL'],\n",
       " ['Hurricane Watch ',\n",
       "  [datetime.datetime(2022, 9, 27, 11, 19)],\n",
       "  'NWS Melbourne FL'],\n",
       " ['Hurricane Watch ',\n",
       "  [datetime.datetime(2022, 9, 27, 11, 19)],\n",
       "  'NWS Melbourne FL'],\n",
       " ['Tropical Cyclone Statement ',\n",
       "  [datetime.datetime(2022, 9, 27, 11, 17)],\n",
       "  'NWS Miami FL'],\n",
       " ['Storm Surge Watch ',\n",
       "  [datetime.datetime(2022, 9, 27, 11, 15)],\n",
       "  'NWS Key West FL'],\n",
       " ['Storm Surge Watch ',\n",
       "  [datetime.datetime(2022, 9, 27, 11, 15)],\n",
       "  'NWS Key West FL'],\n",
       " ['Tropical Storm Warning ',\n",
       "  [datetime.datetime(2022, 9, 27, 11, 15)],\n",
       "  'NWS Key West FL'],\n",
       " ['Storm Surge Watch ',\n",
       "  [datetime.datetime(2022, 9, 27, 11, 15)],\n",
       "  'NWS Key West FL'],\n",
       " ['Tropical Storm Warning ',\n",
       "  [datetime.datetime(2022, 9, 27, 11, 15)],\n",
       "  'NWS Key West FL'],\n",
       " ['Tropical Storm Watch ',\n",
       "  [datetime.datetime(2022, 9, 27, 11, 15)],\n",
       "  'NWS Key West FL'],\n",
       " ['Tropical Storm Warning ',\n",
       "  [datetime.datetime(2022, 9, 27, 11, 13)],\n",
       "  'NWS Jacksonville FL'],\n",
       " ['Storm Surge Warning ',\n",
       "  [datetime.datetime(2022, 9, 27, 11, 13)],\n",
       "  'NWS Jacksonville FL'],\n",
       " ['Tropical Storm Warning ',\n",
       "  [datetime.datetime(2022, 9, 27, 11, 13)],\n",
       "  'NWS Jacksonville FL'],\n",
       " ['Tropical Storm Warning ',\n",
       "  [datetime.datetime(2022, 9, 27, 11, 13)],\n",
       "  'NWS Jacksonville FL'],\n",
       " ['Storm Surge Warning ',\n",
       "  [datetime.datetime(2022, 9, 27, 11, 13)],\n",
       "  'NWS Jacksonville FL'],\n",
       " ['Tropical Storm Warning ',\n",
       "  [datetime.datetime(2022, 9, 27, 11, 13)],\n",
       "  'NWS Jacksonville FL'],\n",
       " ['Storm Surge Warning ',\n",
       "  [datetime.datetime(2022, 9, 27, 11, 13)],\n",
       "  'NWS Jacksonville FL'],\n",
       " ['Tropical Storm Warning ',\n",
       "  [datetime.datetime(2022, 9, 27, 11, 13)],\n",
       "  'NWS Jacksonville FL'],\n",
       " ['Storm Surge Warning ',\n",
       "  [datetime.datetime(2022, 9, 27, 11, 13)],\n",
       "  'NWS Jacksonville FL'],\n",
       " ['Storm Surge Warning ',\n",
       "  [datetime.datetime(2022, 9, 27, 11, 13)],\n",
       "  'NWS Jacksonville FL'],\n",
       " ['Tropical Storm Warning ',\n",
       "  [datetime.datetime(2022, 9, 27, 11, 13)],\n",
       "  'NWS Jacksonville FL'],\n",
       " ['Tropical Storm Warning ',\n",
       "  [datetime.datetime(2022, 9, 27, 11, 13)],\n",
       "  'NWS Jacksonville FL'],\n",
       " ['Storm Surge Watch ',\n",
       "  [datetime.datetime(2022, 9, 27, 11, 13)],\n",
       "  'NWS Jacksonville FL'],\n",
       " ['Tropical Storm Warning ',\n",
       "  [datetime.datetime(2022, 9, 27, 11, 13)],\n",
       "  'NWS Jacksonville FL'],\n",
       " ['Tropical Storm Warning ',\n",
       "  [datetime.datetime(2022, 9, 27, 11, 13)],\n",
       "  'NWS Jacksonville FL'],\n",
       " ['Tropical Storm Warning ',\n",
       "  [datetime.datetime(2022, 9, 27, 11, 13)],\n",
       "  'NWS Jacksonville FL'],\n",
       " ['Tropical Storm Warning ',\n",
       "  [datetime.datetime(2022, 9, 27, 11, 13)],\n",
       "  'NWS Jacksonville FL'],\n",
       " ['Tropical Storm Warning ',\n",
       "  [datetime.datetime(2022, 9, 27, 11, 13)],\n",
       "  'NWS Jacksonville FL'],\n",
       " ['Storm Surge Warning ',\n",
       "  [datetime.datetime(2022, 9, 27, 11, 13)],\n",
       "  'NWS Jacksonville FL'],\n",
       " ['Tropical Storm Warning ',\n",
       "  [datetime.datetime(2022, 9, 27, 11, 13)],\n",
       "  'NWS Jacksonville FL'],\n",
       " ['Tropical Storm Watch ',\n",
       "  [datetime.datetime(2022, 9, 27, 11, 13)],\n",
       "  'NWS Jacksonville FL'],\n",
       " ['Tropical Storm Watch ',\n",
       "  [datetime.datetime(2022, 9, 27, 11, 13)],\n",
       "  'NWS Jacksonville FL'],\n",
       " ['Tropical Storm Watch ',\n",
       "  [datetime.datetime(2022, 9, 27, 11, 13)],\n",
       "  'NWS Jacksonville FL'],\n",
       " ['Tropical Storm Warning ',\n",
       "  [datetime.datetime(2022, 9, 27, 11, 13)],\n",
       "  'NWS Jacksonville FL'],\n",
       " ['Storm Surge Warning ',\n",
       "  [datetime.datetime(2022, 9, 27, 11, 13)],\n",
       "  'NWS Jacksonville FL'],\n",
       " ['Tropical Storm Watch ',\n",
       "  [datetime.datetime(2022, 9, 27, 11, 13)],\n",
       "  'NWS Jacksonville FL'],\n",
       " ['Tropical Storm Warning ',\n",
       "  [datetime.datetime(2022, 9, 27, 11, 13)],\n",
       "  'NWS Jacksonville FL'],\n",
       " ['Tropical Storm Watch ',\n",
       "  [datetime.datetime(2022, 9, 27, 11, 13)],\n",
       "  'NWS Jacksonville FL'],\n",
       " ['Tropical Storm Watch ',\n",
       "  [datetime.datetime(2022, 9, 27, 11, 13)],\n",
       "  'NWS Jacksonville FL'],\n",
       " ['Tropical Storm Watch ',\n",
       "  [datetime.datetime(2022, 9, 27, 11, 13)],\n",
       "  'NWS Jacksonville FL'],\n",
       " ['Tropical Storm Warning ',\n",
       "  [datetime.datetime(2022, 9, 27, 11, 13)],\n",
       "  'NWS Jacksonville FL'],\n",
       " ['Flood Watch ',\n",
       "  [datetime.datetime(2022, 9, 27, 11, 4),\n",
       "   datetime.datetime(2022, 9, 28, 6, 0)],\n",
       "  'NWS Key West FL'],\n",
       " ['Flood Warning ',\n",
       "  [datetime.datetime(2022, 9, 27, 10, 33)],\n",
       "  'NWS Tampa Bay Ruskin FL'],\n",
       " ['Flood Warning ',\n",
       "  [datetime.datetime(2022, 9, 27, 10, 29)],\n",
       "  'NWS Tampa Bay Ruskin FL'],\n",
       " ['Flood Warning ',\n",
       "  [datetime.datetime(2022, 9, 27, 10, 29)],\n",
       "  'NWS Tampa Bay Ruskin FL'],\n",
       " ['Flood Warning ',\n",
       "  [datetime.datetime(2022, 9, 27, 10, 29)],\n",
       "  'NWS Tampa Bay Ruskin FL'],\n",
       " ['Flood Warning ',\n",
       "  [datetime.datetime(2022, 9, 27, 10, 29)],\n",
       "  'NWS Tampa Bay Ruskin FL'],\n",
       " ['Flood Warning ',\n",
       "  [datetime.datetime(2022, 9, 27, 10, 29)],\n",
       "  'NWS Tampa Bay Ruskin FL'],\n",
       " ['Flood Warning ',\n",
       "  [datetime.datetime(2022, 9, 27, 10, 29)],\n",
       "  'NWS Tampa Bay Ruskin FL'],\n",
       " ['Flood Warning ',\n",
       "  [datetime.datetime(2022, 9, 27, 10, 29)],\n",
       "  'NWS Tampa Bay Ruskin FL'],\n",
       " ['Flood Warning ',\n",
       "  [datetime.datetime(2022, 9, 27, 10, 29)],\n",
       "  'NWS Tampa Bay Ruskin FL'],\n",
       " ['Flood Warning ',\n",
       "  [datetime.datetime(2022, 9, 27, 10, 29)],\n",
       "  'NWS Melbourne FL'],\n",
       " ['Rip Current Statement ',\n",
       "  [datetime.datetime(2022, 9, 27, 4, 33),\n",
       "   datetime.datetime(2022, 10, 1, 6, 0)],\n",
       "  'NWS Mobile AL'],\n",
       " ['Flood Watch ',\n",
       "  [datetime.datetime(2022, 9, 26, 16, 59),\n",
       "   datetime.datetime(2022, 9, 30, 2, 0)],\n",
       "  'NWS Tampa Bay Ruskin FL'],\n",
       " ['Rip Current Statement ',\n",
       "  [datetime.datetime(2022, 9, 26, 16, 43),\n",
       "   datetime.datetime(2022, 9, 29, 20, 0)],\n",
       "  'NWS Miami FL'],\n",
       " ['Rip Current Statement ',\n",
       "  [datetime.datetime(2022, 9, 26, 16, 43),\n",
       "   datetime.datetime(2022, 9, 29, 20, 0)],\n",
       "  'NWS Miami FL'],\n",
       " ['Coastal Flood Statement ',\n",
       "  [datetime.datetime(2022, 9, 26, 16, 43),\n",
       "   datetime.datetime(2022, 9, 29, 20, 0)],\n",
       "  'NWS Miami FL'],\n",
       " ['Coastal Flood Statement ',\n",
       "  [datetime.datetime(2022, 9, 26, 16, 43),\n",
       "   datetime.datetime(2022, 9, 29, 20, 0)],\n",
       "  'NWS Miami FL'],\n",
       " ['Flood Watch ',\n",
       "  [datetime.datetime(2022, 9, 26, 14, 29),\n",
       "   datetime.datetime(2022, 9, 30, 2, 0)],\n",
       "  'NWS Melbourne FL'],\n",
       " ['Flood Warning ',\n",
       "  [datetime.datetime(2022, 9, 26, 9, 41),\n",
       "   datetime.datetime(2022, 9, 28, 8, 0)],\n",
       "  'NWS Tampa Bay Ruskin FL']]"
      ]
     },
     "execution_count": 19,
     "metadata": {},
     "output_type": "execute_result"
    }
   ],
   "source": [
    "import re\n",
    "import datetime\n",
    "some_list = []\n",
    "some_list1 = []\n",
    "date_format = '%B %d at %I:%M%p %Y'\n",
    "\n",
    "\n",
    "for i in second_dict[13][1]:\n",
    "    some_list1.append((i.replace(\"[\", \"\").strip())[1:-2])\n",
    "\n",
    "for i in first_dict[13][1]:\n",
    "    some_list.append((i.replace(\"[\", \"\").strip())[1:-2])\n",
    "some_list_li = []\n",
    "some_list1_li = []\n",
    "for i in some_list:\n",
    "    some_list_li.append(re.split(\"issued\\s|\\sby\\s\", i))\n",
    "\n",
    "for i in some_list1:\n",
    "    some_list1_li.append(re.split(\"issued\\s|\\sby\\s\", i))\n",
    "\n",
    "for count, i in enumerate(some_list_li):\n",
    "    # print(count)\n",
    "    if \"until\" in i[1]:\n",
    "\n",
    "        some_list_li[count][1] = i[1].split(\"until\")\n",
    "        some_list_li[count][1] = [k.strip() for k in some_list_li[count][1]]\n",
    "        # print(some_list_li[count][1])\n",
    "        some_list_li[count][1][0] = datetime.datetime.strptime((some_list_li[count][1][0])[:-4] + \" \" + str(datetime.datetime.now().year -1), date_format)\n",
    "        some_list_li[count][1][1] = datetime.datetime.strptime((some_list_li[count][1][1])[:-4] + \" \" + str(datetime.datetime.now().year -1), date_format)\n",
    "    else:\n",
    "        some_list_li[count][1] = [i[1]]\n",
    "        some_list_li[count][1][0] = datetime.datetime.strptime((some_list_li[count][1][0])[:-4] + \" \" + str(datetime.datetime.now().year -1), date_format)\n",
    "\n",
    "for count, i in enumerate(some_list1_li):\n",
    "    # print(count)\n",
    "    if \"until\" in i[1]:\n",
    "\n",
    "        some_list1_li[count][1] = i[1].split(\"until\")\n",
    "        some_list1_li[count][1] = [k.strip() for k in some_list1_li[count][1]]\n",
    "        # print(some_list_li[count][1])\n",
    "        some_list1_li[count][1][0] = datetime.datetime.strptime((some_list1_li[count][1][0])[:-4] + \" \" + str(datetime.datetime.now().year), date_format)\n",
    "        some_list1_li[count][1][1] = datetime.datetime.strptime((some_list1_li[count][1][1])[:-4] + \" \" + str(datetime.datetime.now().year), date_format)\n",
    "    else:\n",
    "        some_list1_li[count][1] = [i[1]]\n",
    "        some_list1_li[count][1][0] = datetime.datetime.strptime((some_list1_li[count][1][0])[:-4] + \" \" + str(datetime.datetime.now().year), date_format)\n",
    "\n",
    "some_list_li\n",
    "# second_dict[13]"
   ]
  },
  {
   "cell_type": "code",
   "execution_count": 20,
   "metadata": {},
   "outputs": [
    {
     "data": {
      "text/plain": [
       "[['Rip Current Statement ',\n",
       "  [datetime.datetime(2023, 3, 5, 2, 12), datetime.datetime(2023, 3, 7, 7, 0)],\n",
       "  'NWS Tallahassee FL'],\n",
       " ['Rip Current Statement ',\n",
       "  [datetime.datetime(2023, 3, 5, 2, 12), datetime.datetime(2023, 3, 7, 7, 0)],\n",
       "  'NWS Tallahassee FL']]"
      ]
     },
     "execution_count": 20,
     "metadata": {},
     "output_type": "execute_result"
    }
   ],
   "source": [
    "some_list1_li\n",
    "#[alert type, datetime object in a list, NWS center]"
   ]
  },
  {
   "cell_type": "code",
   "execution_count": 21,
   "metadata": {},
   "outputs": [
    {
     "name": "stdout",
     "output_type": "stream",
     "text": [
      "Rating: 1.0\n"
     ]
    }
   ],
   "source": [
    "# import urllib\n",
    "# import json\n",
    "\n",
    "# local_fname = 'fl-weather-alerts.json'\n",
    "# urllib.request.urlretrieve('https://api.weather.gov/alerts/active?area=FL', local_fname)\n",
    "\n",
    "# d = json.load(open(local_fname))\n",
    "\n",
    "# Define the cells to rate\n",
    "# cells = [\n",
    "#     \"import urllib\",\n",
    "#     f\"local_fname = '{local_fname}'\",\n",
    "#     \"urllib.request.urlretrieve('https://api.weather.gov/alerts/active?areaFL', local_fname)\",\n",
    "#     # \"d = json.load(open(local_fname))\",\n",
    "#     # \"len(d['features'])\",\n",
    "#     # \"[feat['properties']['headline'] for feat in d['features']]\"\n",
    "# ]\n",
    "\n",
    "cells = [i.strip() for i in second_dict[10][0]]\n",
    "\n",
    "# Rate the cells\n",
    "num_successful_cells = 0\n",
    "for cell in cells:\n",
    "    try:\n",
    "        exec(cell)\n",
    "        num_successful_cells += 1\n",
    "        # print(\"yuy\")\n",
    "    except Exception as e:\n",
    "        print(f\"Error in cell: {cell}\")\n",
    "        print(f\"Error message: {e}\")\n",
    "        print(\"=\"*50)\n",
    "\n",
    "rating = num_successful_cells / len(cells)\n",
    "print(f\"Rating: {rating}\")\n"
   ]
  },
  {
   "cell_type": "code",
   "execution_count": 25,
   "metadata": {},
   "outputs": [
    {
     "name": "stdout",
     "output_type": "stream",
     "text": [
      "Reproducability rate 1.0\n"
     ]
    }
   ],
   "source": [
    "fl = 0\n",
    "for i in some_list1_li:\n",
    "    if nws_centers.get(i[2][-2:]) is not None:\n",
    "        fl = fl+0.5\n",
    "        # print(i[0].split(\" \"))\n",
    "        # print(((i[0].split(\" \"))[-2]).lower())\n",
    "        if ((i[0].split(\" \"))[-2]).lower() in types:\n",
    "            # print((i[0].split(\" \"))[-2])\n",
    "            fl = fl+0.5\n",
    "\n",
    "r = fl/ len(some_list1_li)  \n",
    "print(f\"Reproducability rate {r}\")\n",
    "        "
   ]
  },
  {
   "cell_type": "code",
   "execution_count": null,
   "metadata": {},
   "outputs": [],
   "source": []
  },
  {
   "cell_type": "code",
   "execution_count": null,
   "metadata": {},
   "outputs": [],
   "source": []
  },
  {
   "cell_type": "code",
   "execution_count": null,
   "metadata": {},
   "outputs": [],
   "source": []
  },
  {
   "cell_type": "code",
   "execution_count": null,
   "metadata": {},
   "outputs": [],
   "source": []
  },
  {
   "cell_type": "code",
   "execution_count": null,
   "metadata": {},
   "outputs": [],
   "source": []
  },
  {
   "cell_type": "code",
   "execution_count": null,
   "metadata": {},
   "outputs": [],
   "source": []
  },
  {
   "cell_type": "code",
   "execution_count": null,
   "metadata": {},
   "outputs": [],
   "source": []
  },
  {
   "cell_type": "code",
   "execution_count": null,
   "metadata": {},
   "outputs": [],
   "source": []
  },
  {
   "cell_type": "code",
   "execution_count": 173,
   "metadata": {},
   "outputs": [
    {
     "ename": "SyntaxError",
     "evalue": "invalid syntax (1369663301.py, line 1)",
     "output_type": "error",
     "traceback": [
      "\u001b[0;36m  Cell \u001b[0;32mIn [173], line 1\u001b[0;36m\u001b[0m\n\u001b[0;31m    msg1 = <http.client.HTTPMessage object at 0x117339bd0>\u001b[0m\n\u001b[0m           ^\u001b[0m\n\u001b[0;31mSyntaxError\u001b[0m\u001b[0;31m:\u001b[0m invalid syntax\n"
     ]
    }
   ],
   "source": [
    "msg1 = <http.client.HTTPMessage object at 0x117339bd0>"
   ]
  },
  {
   "cell_type": "code",
   "execution_count": null,
   "metadata": {},
   "outputs": [],
   "source": []
  },
  {
   "cell_type": "code",
   "execution_count": null,
   "metadata": {},
   "outputs": [],
   "source": []
  },
  {
   "cell_type": "markdown",
   "metadata": {},
   "source": [
    "## Rough"
   ]
  },
  {
   "cell_type": "code",
   "execution_count": 239,
   "metadata": {},
   "outputs": [
    {
     "data": {
      "text/plain": [
       "datetime.datetime(1900, 3, 3, 19, 31)"
      ]
     },
     "execution_count": 239,
     "metadata": {},
     "output_type": "execute_result"
    }
   ],
   "source": [
    "datetime.datetime.strptime(\"March 3 at 7:31PM\", date_format)"
   ]
  },
  {
   "cell_type": "code",
   "execution_count": null,
   "metadata": {},
   "outputs": [],
   "source": []
  },
  {
   "cell_type": "code",
   "execution_count": 80,
   "metadata": {},
   "outputs": [
    {
     "data": {
      "text/plain": [
       "array([88.        , 88.09090909, 88.18181818, -1.        , 88.        ,\n",
       "       88.09090909, 88.18181818, 88.27272727, 88.36363636, 88.45454545,\n",
       "       -1.        , 88.27272727, 88.36363636, 88.45454545, 88.54545455,\n",
       "       88.63636364, 88.72727273, -1.        , 88.54545455, 88.63636364,\n",
       "       88.72727273, -1.        , 88.81818182, 88.        , 88.09090909,\n",
       "       -1.        , 88.81818182, 88.        , 88.09090909, 88.18181818,\n",
       "       88.27272727, 88.36363636, -1.        , 88.18181818, 88.27272727,\n",
       "       88.36363636, 88.45454545, 88.54545455, 88.63636364, -1.        ,\n",
       "       88.45454545, 88.54545455, 88.63636364])"
      ]
     },
     "execution_count": 80,
     "metadata": {},
     "output_type": "execute_result"
    }
   ],
   "source": [
    "y = arr1[:len(arr)]\n",
    "y\n"
   ]
  },
  {
   "cell_type": "code",
   "execution_count": 78,
   "metadata": {},
   "outputs": [
    {
     "data": {
      "text/plain": [
       "array([ 0.00000000e+00,  9.09999997e-07,  1.82000001e-06,  8.92727300e+01,\n",
       "       -8.90000000e+01,  7.27270910e-01, -1.81818180e-01, -1.81817270e-01,\n",
       "       -1.81816360e-01, -1.81815450e-01,  8.93636400e+01,  1.81822730e-01,\n",
       "        1.81813640e-01, -8.94545454e+01, -3.63634550e-01, -3.63633640e-01,\n",
       "       -3.63632730e-01,  8.94545500e+01, -4.55000000e-06, -3.64000000e-06,\n",
       "       -2.72999999e-06,  8.98181800e+01, -8.98181818e+01,  4.54550000e-01,\n",
       "        4.54540910e-01,  8.96363600e+01, -9.09118200e-02,  8.18180000e-01,\n",
       "       -9.09090900e-02, -9.09081800e-02, -9.09072700e-02, -8.93636364e+01,\n",
       "        8.97272700e+01,  6.36361820e-01, -2.72727270e-01, -2.72726360e-01,\n",
       "       -8.94545454e+01, -4.55000000e-06, -3.64000000e-06,  8.97272700e+01,\n",
       "        3.63634550e-01, -8.95454546e+01, -1.81813640e-01])"
      ]
     },
     "execution_count": 78,
     "metadata": {},
     "output_type": "execute_result"
    }
   ],
   "source": [
    "x-y"
   ]
  },
  {
   "cell_type": "code",
   "execution_count": 84,
   "metadata": {},
   "outputs": [
    {
     "data": {
      "text/plain": [
       "27.217758879999998"
      ]
     },
     "execution_count": 84,
     "metadata": {},
     "output_type": "execute_result"
    }
   ],
   "source": [
    "mae = np.mean(np.abs(x - y))\n",
    "mae"
   ]
  },
  {
   "cell_type": "code",
   "execution_count": 85,
   "metadata": {},
   "outputs": [],
   "source": [
    "mse = np.mean((x - y)**2)"
   ]
  },
  {
   "cell_type": "code",
   "execution_count": 86,
   "metadata": {},
   "outputs": [
    {
     "data": {
      "text/plain": [
       "2422.355563452604"
      ]
     },
     "execution_count": 86,
     "metadata": {},
     "output_type": "execute_result"
    }
   ],
   "source": [
    "mse"
   ]
  },
  {
   "cell_type": "code",
   "execution_count": 247,
   "metadata": {},
   "outputs": [
    {
     "data": {
      "text/plain": [
       "{'edgeitems': 3,\n",
       " 'threshold': 1000,\n",
       " 'floatmode': 'maxprec',\n",
       " 'precision': 8,\n",
       " 'suppress': False,\n",
       " 'linewidth': 75,\n",
       " 'nanstr': 'nan',\n",
       " 'infstr': 'inf',\n",
       " 'sign': '-',\n",
       " 'formatter': None,\n",
       " 'legacy': False}"
      ]
     },
     "execution_count": 247,
     "metadata": {},
     "output_type": "execute_result"
    }
   ],
   "source": [
    "np.get_printoptions()"
   ]
  },
  {
   "cell_type": "code",
   "execution_count": 66,
   "metadata": {},
   "outputs": [
    {
     "name": "stdout",
     "output_type": "stream",
     "text": [
      "{'cells': [{'cell_type': 'markdown', 'id': '54992f8c-c2b4-4a58-8c38-a271f0c4a07e', 'metadata': {}, 'source': '## Large Arrays'}, {'cell_type': 'code', 'execution_count': 90, 'id': '0feeacfb-4b64-416c-a232-3de290fac7e9', 'metadata': {}, 'outputs': [{'data': {'text/plain': \"('weather-buoy-data.txt.gz', <http.client.HTTPMessage at 0x117339bd0>)\"}, 'execution_count': 90, 'metadata': {}, 'output_type': 'execute_result'}], 'source': \"import urllib\\n\\nlocal_fname = 'weather-buoy-data.txt.gz'\\nurllib.request.urlretrieve('https://www.ndbc.noaa.gov/data/historical/stdmet/42040h2021.txt.gz', local_fname)\"}, {'cell_type': 'code', 'execution_count': 91, 'id': 'aa19697d-850f-42ad-8d56-ab81d33281e1', 'metadata': {}, 'outputs': [], 'source': \"import gzip\\n\\nf = iter(gzip.open('weather-buoy-data.txt.gz'))\\nnext(f)\\nnext(f)\\nvals = []\\nfor line in f:\\n    vals.append(float(line.split()[5]))\"}, {'cell_type': 'code', 'execution_count': 92, 'id': 'ade59537-f921-4ecb-95f4-83360baa2119', 'metadata': {}, 'outputs': [{'data': {'text/plain': 'array([[88.     , 88.09091, 88.18182, 88.27273, ..., 88.81818, 88.     ,\\n        88.09091, 88.18182],\\n       [88.27273, 88.36364, 88.45455, 88.54545, ..., 88.18182, 88.27273,\\n        88.36364, 88.45455],\\n       [88.54545, 88.63636, 88.72727, 88.81818, ..., 88.45455, 88.54545,\\n        88.63636, 88.72727],\\n       [88.81818, 88.     , 88.09091, 88.18182, ..., 88.72727, 88.81818,\\n        88.     , 88.09091],\\n       ...,\\n       [88.54545, 88.63636, 88.72727, 88.81818, ..., 88.45455, 88.54545,\\n        88.63636, 88.72727],\\n       [88.81818, 88.     , 88.09091, 88.18182, ..., 88.72727, 88.81818,\\n        88.     , 88.09091],\\n       [88.18182, 88.27273, 88.36364, 88.45455, ..., 88.09091, 88.18182,\\n        88.27273, 88.36364],\\n       [88.45455, 88.54545, 88.63636, 88.72727, ..., 88.36364, 88.45455,\\n        88.54545, 88.63636]])'}, 'execution_count': 92, 'metadata': {}, 'output_type': 'execute_result'}], 'source': 'import numpy as np\\n\\norig = (vals[0] + (np.arange(len(vals)) % 10) / 11).reshape((16,2333))'}, {'cell_type': 'code', 'execution_count': 93, 'id': '02956456-f862-4ffc-80a5-f3c778f7d4ad', 'metadata': {}, 'outputs': [{'data': {'text/plain': 'array([[88.  , 88.09, 88.18, 88.27, ..., 88.82, 88.  , 88.09, 88.18],\\n       [88.27, 88.36, 88.45, 88.55, ..., 88.18, 88.27, 88.36, 88.45],\\n       [88.55, 88.64, 88.73, 88.82, ..., 88.45, 88.55, 88.64, 88.73],\\n       [88.82, 88.  , 88.09, 88.18, ..., 88.73, 88.82, 88.  , 88.09],\\n       ...,\\n       [88.55, 88.64, 88.73, 88.82, ..., 88.45, 88.55, 88.64, 88.73],\\n       [88.82, 88.  , 88.09, 88.18, ..., 88.73, 88.82, 88.  , 88.09],\\n       [88.18, 88.27, 88.36, 88.45, ..., 88.09, 88.18, 88.27, 88.36],\\n       [88.45, 88.55, 88.64, 88.73, ..., 88.36, 88.45, 88.55, 88.64]])'}, 'execution_count': 93, 'metadata': {}, 'output_type': 'execute_result'}], 'source': 'import numpy as np\\na = np.round(orig, 2)'}, {'cell_type': 'code', 'execution_count': 94, 'id': '51bb045f-c544-4b61-b4dc-2efcdeb42961', 'metadata': {}, 'outputs': [{'data': {'text/plain': 'array([[88.  , 88.09, 88.18, 88.27, ..., 88.81, 88.  , 88.09, 88.18],\\n       [88.27, 88.36, 88.45, 88.54, ..., 88.18, 88.27, 88.36, 88.45],\\n       [88.54, 88.63, 88.72, 88.81, ..., 88.45, 88.54, 88.63, 88.72],\\n       [88.81, 88.  , 88.09, 88.18, ..., 88.72, 88.81, 88.  , 88.09],\\n       ...,\\n       [88.54, 88.63, 88.72, 88.81, ..., 88.45, 88.54, 88.63, 88.72],\\n       [88.81, 88.  , 88.09, 88.18, ..., 88.72, 88.81, 88.  , 88.09],\\n       [88.18, 88.27, 88.36, 88.45, ..., 88.09, 88.18, 88.27, 88.36],\\n       [88.45, 88.54, 88.63, 88.72, ..., 88.36, 88.45, 88.54, 88.63]])'}, 'execution_count': 94, 'metadata': {}, 'output_type': 'execute_result'}], 'source': 'b = np.floor(orig*100)/100'}, {'cell_type': 'code', 'execution_count': 95, 'id': '5b1a8aec-1cbf-4ca3-bb52-2504b0b43e74', 'metadata': {}, 'outputs': [{'data': {'text/plain': 'array([[88.  , 88.09, 88.18, 88.27, ..., 88.82, 88.  , 88.09, 88.18],\\n       [88.27, 88.36, 88.45, 88.55, ..., 88.18, 88.27, 88.36, 88.45],\\n       [88.55, 88.64, 88.73, 88.82, ..., 88.45, 88.55, 88.64, 88.73],\\n       [88.82, 88.  , 88.09, 88.18, ..., 88.73, 88.82, 88.  , 88.09],\\n       ...,\\n       [88.55, 88.64, 88.73, 88.82, ..., 88.45, 88.55, 88.64, 88.73],\\n       [88.82, 88.  , 88.09, 88.18, ..., 88.73, 88.82, 88.  , 88.09],\\n       [88.18, 88.27, 88.36, 88.45, ..., 88.09, 88.18, 88.27, 88.36],\\n       [88.45, 88.55, 88.64, 88.73, ..., 88.36, 88.45, 88.55, 88.64]])'}, 'execution_count': 95, 'metadata': {}, 'output_type': 'execute_result'}], 'source': 'c = np.delete(a, 5, 1)'}, {'cell_type': 'code', 'execution_count': 96, 'id': 'b06e6f5e-c805-4435-85d3-430744ca15c8', 'metadata': {}, 'outputs': [{'data': {'text/plain': 'False'}, 'execution_count': 96, 'metadata': {}, 'output_type': 'execute_result'}], 'source': 'np.array_equal(a,c)'}, {'cell_type': 'code', 'execution_count': 97, 'id': 'a63120a7-7626-4692-938c-f90e01d93d9b', 'metadata': {}, 'outputs': [{'data': {'text/plain': '((16, 2333), (16, 2333), (16, 2332))'}, 'execution_count': 97, 'metadata': {}, 'output_type': 'execute_result'}], 'source': 'a.shape, b.shape, c.shape'}, {'cell_type': 'markdown', 'id': 'e1854ad0-0b11-4317-a025-84a31087f089', 'metadata': {}, 'source': '## Real-Time Data'}, {'cell_type': 'code', 'execution_count': 43, 'id': 'ab24461a-a74b-4b24-a49b-c9682426906e', 'metadata': {}, 'outputs': [{'data': {'text/plain': \"('fl-weather-alerts.json', <http.client.HTTPMessage at 0x11733b3a0>)\"}, 'execution_count': 43, 'metadata': {}, 'output_type': 'execute_result'}], 'source': \"import urllib\\n\\nlocal_fname = 'fl-weather-alerts.json'\\nurllib.request.urlretrieve('https://api.weather.gov/alerts/active?area=FL', local_fname)\"}, {'cell_type': 'code', 'execution_count': 44, 'id': '2477e9a1-c60d-4619-97c1-c8aaa218509a', 'metadata': {}, 'outputs': [], 'source': 'import json\\nd = json.load(open(local_fname));'}, {'cell_type': 'code', 'execution_count': 46, 'id': 'ff516426-38e8-40e1-9728-ff85ee668631', 'metadata': {}, 'outputs': [{'data': {'text/plain': '181'}, 'execution_count': 46, 'metadata': {}, 'output_type': 'execute_result'}], 'source': \"len(d['features'])\"}, {'cell_type': 'code', 'execution_count': 49, 'id': '3e99559e-ce3d-4b0c-96fb-4529a89bb7d8', 'metadata': {}, 'outputs': [{'data': {'text/plain': \"['Tropical Storm Warning issued September 27 at 5:04PM EDT by NWS Tallahassee FL',\\n 'Tropical Storm Warning issued September 27 at 5:04PM EDT by NWS Tallahassee FL',\\n 'Tropical Storm Warning issued September 27 at 5:04PM EDT by NWS Tallahassee FL',\\n 'Tropical Storm Warning issued September 27 at 5:04PM EDT by NWS Tallahassee FL',\\n 'Tropical Storm Warning issued September 27 at 5:04PM EDT by NWS Tallahassee FL',\\n 'Tropical Storm Warning issued September 27 at 5:04PM EDT by NWS Tallahassee FL',\\n 'Tornado Warning issued September 27 at 5:03PM EDT until September 27 at 5:30PM EDT by NWS Miami FL',\\n 'Coastal Flood Statement issued September 27 at 5:01PM EDT until September 29 at 8:00PM EDT by NWS Miami FL',\\n 'Coastal Flood Statement issued September 27 at 5:01PM EDT until September 29 at 8:00PM EDT by NWS Miami FL',\\n 'Tornado Watch issued September 27 at 4:59PM EDT until September 28 at 5:00AM EDT by NWS Miami FL',\\n 'Tornado Watch issued September 27 at 4:59PM EDT until September 28 at 5:00AM EDT by NWS Miami FL',\\n 'Tropical Storm Warning issued September 27 at 4:59PM EDT by NWS Miami FL',\\n 'Tropical Storm Warning issued September 27 at 4:59PM EDT by NWS Miami FL',\\n 'Tropical Storm Warning issued September 27 at 4:59PM EDT by NWS Miami FL',\\n 'Tropical Storm Warning issued September 27 at 4:59PM EDT by NWS Miami FL',\\n 'Tropical Storm Warning issued September 27 at 4:59PM EDT by NWS Miami FL',\\n 'Storm Surge Warning issued September 27 at 4:59PM EDT by NWS Miami FL',\\n 'Tropical Storm Warning issued September 27 at 4:59PM EDT by NWS Miami FL',\\n 'Tropical Storm Warning issued September 27 at 4:59PM EDT by NWS Miami FL',\\n 'Tropical Storm Warning issued September 27 at 4:59PM EDT by NWS Miami FL',\\n 'Tropical Storm Warning issued September 27 at 4:59PM EDT by NWS Miami FL',\\n 'Tropical Storm Warning issued September 27 at 4:59PM EDT by NWS Miami FL',\\n 'Hurricane Watch issued September 27 at 4:59PM EDT by NWS Miami FL',\\n 'Storm Surge Warning issued September 27 at 4:59PM EDT by NWS Miami FL',\\n 'Hurricane Watch issued September 27 at 4:59PM EDT by NWS Miami FL',\\n 'Tropical Storm Warning issued September 27 at 4:59PM EDT by NWS Miami FL',\\n 'Storm Surge Watch issued September 27 at 4:59PM EDT by NWS Miami FL',\\n 'Tropical Storm Warning issued September 27 at 4:59PM EDT by NWS Miami FL',\\n 'Tropical Storm Warning issued September 27 at 4:59PM EDT by NWS Miami FL',\\n 'Tropical Storm Warning issued September 27 at 4:59PM EDT by NWS Miami FL',\\n 'Hurricane Watch issued September 27 at 4:59PM EDT by NWS Miami FL',\\n 'Hurricane Warning issued September 27 at 4:59PM EDT by NWS Miami FL',\\n 'Flood Advisory issued September 27 at 4:48PM EDT until September 27 at 7:45PM EDT by NWS Miami FL',\\n 'Tornado Watch issued September 27 at 4:46PM EDT until September 28 at 5:00AM EDT by NWS Key West FL',\\n 'Tornado Watch issued September 27 at 4:45PM EDT until September 28 at 5:00AM EDT by NWS Melbourne FL',\\n 'Tornado Warning issued September 27 at 4:43PM EDT until September 27 at 5:15PM EDT by NWS Miami FL',\\n 'Flood Watch issued September 27 at 4:34PM EDT until October 1 at 2:00AM EDT by NWS Jacksonville FL',\\n 'Flood Advisory issued September 27 at 4:23PM EDT until September 27 at 6:45PM EDT by NWS Miami FL',\\n 'Flood Advisory issued September 27 at 4:04PM EDT until September 27 at 7:00PM EDT by NWS Miami FL',\\n 'Rip Current Statement issued September 27 at 3:02PM CDT until October 1 at 6:00AM CDT by NWS Mobile AL',\\n 'Wind Advisory issued September 27 at 3:01PM CDT until September 28 at 10:00PM CDT by NWS Mobile AL',\\n 'Red Flag Warning issued September 27 at 2:59PM CDT until September 28 at 7:00PM CDT by NWS Mobile AL',\\n 'Red Flag Warning issued September 27 at 2:59PM CDT until September 27 at 7:00PM CDT by NWS Mobile AL',\\n 'Flood Watch issued September 27 at 3:58PM EDT until September 29 at 8:00AM EDT by NWS Miami FL',\\n 'Flood Advisory issued September 27 at 3:17PM EDT until September 27 at 6:15PM EDT by NWS Miami FL',\\n 'Red Flag Warning issued September 27 at 3:05PM EDT until September 28 at 8:00PM EDT by NWS Tallahassee FL',\\n 'Tropical Cyclone Statement issued September 27 at 2:25PM EDT by NWS Tampa Bay Ruskin FL',\\n 'Tropical Storm Warning issued September 27 at 2:16PM EDT by NWS Tampa Bay Ruskin FL',\\n 'Hurricane Watch issued September 27 at 2:16PM EDT by NWS Tampa Bay Ruskin FL',\\n 'Storm Surge Warning issued September 27 at 2:16PM EDT by NWS Tampa Bay Ruskin FL',\\n 'Storm Surge Warning issued September 27 at 2:16PM EDT by NWS Tampa Bay Ruskin FL',\\n 'Hurricane Watch issued September 27 at 2:16PM EDT by NWS Tampa Bay Ruskin FL',\\n 'Hurricane Warning issued September 27 at 2:16PM EDT by NWS Tampa Bay Ruskin FL',\\n 'Hurricane Watch issued September 27 at 2:16PM EDT by NWS Tampa Bay Ruskin FL',\\n 'Tropical Storm Warning issued September 27 at 2:16PM EDT by NWS Tampa Bay Ruskin FL',\\n 'Hurricane Watch issued September 27 at 2:16PM EDT by NWS Tampa Bay Ruskin FL',\\n 'Tropical Storm Warning issued September 27 at 2:16PM EDT by NWS Tampa Bay Ruskin FL',\\n 'Hurricane Watch issued September 27 at 2:16PM EDT by NWS Tampa Bay Ruskin FL',\\n 'Hurricane Watch issued September 27 at 2:16PM EDT by NWS Tampa Bay Ruskin FL',\\n 'Tropical Storm Warning issued September 27 at 2:16PM EDT by NWS Tampa Bay Ruskin FL',\\n 'Tropical Storm Warning issued September 27 at 2:16PM EDT by NWS Tampa Bay Ruskin FL',\\n 'Tropical Storm Warning issued September 27 at 2:16PM EDT by NWS Tampa Bay Ruskin FL',\\n 'Storm Surge Warning issued September 27 at 2:16PM EDT by NWS Tampa Bay Ruskin FL',\\n 'Storm Surge Warning issued September 27 at 2:16PM EDT by NWS Tampa Bay Ruskin FL',\\n 'Hurricane Warning issued September 27 at 2:16PM EDT by NWS Tampa Bay Ruskin FL',\\n 'Hurricane Warning issued September 27 at 2:16PM EDT by NWS Tampa Bay Ruskin FL',\\n 'Storm Surge Warning issued September 27 at 2:16PM EDT by NWS Tampa Bay Ruskin FL',\\n 'Hurricane Warning issued September 27 at 2:16PM EDT by NWS Tampa Bay Ruskin FL',\\n 'Hurricane Watch issued September 27 at 2:16PM EDT by NWS Tampa Bay Ruskin FL',\\n 'Hurricane Warning issued September 27 at 2:16PM EDT by NWS Tampa Bay Ruskin FL',\\n 'Hurricane Warning issued September 27 at 2:16PM EDT by NWS Tampa Bay Ruskin FL',\\n 'Storm Surge Warning issued September 27 at 2:16PM EDT by NWS Tampa Bay Ruskin FL',\\n 'Hurricane Watch issued September 27 at 2:16PM EDT by NWS Tampa Bay Ruskin FL',\\n 'Hurricane Watch issued September 27 at 2:16PM EDT by NWS Tampa Bay Ruskin FL',\\n 'Tropical Storm Warning issued September 27 at 2:16PM EDT by NWS Tampa Bay Ruskin FL',\\n 'Hurricane Warning issued September 27 at 2:16PM EDT by NWS Tampa Bay Ruskin FL',\\n 'Storm Surge Warning issued September 27 at 2:16PM EDT by NWS Tampa Bay Ruskin FL',\\n 'Tropical Storm Warning issued September 27 at 2:16PM EDT by NWS Tampa Bay Ruskin FL',\\n 'Hurricane Warning issued September 27 at 2:16PM EDT by NWS Tampa Bay Ruskin FL',\\n 'Storm Surge Warning issued September 27 at 2:16PM EDT by NWS Tampa Bay Ruskin FL',\\n 'Hurricane Warning issued September 27 at 2:16PM EDT by NWS Tampa Bay Ruskin FL',\\n 'Hurricane Warning issued September 27 at 2:16PM EDT by NWS Tampa Bay Ruskin FL',\\n 'Tropical Storm Warning issued September 27 at 2:16PM EDT by NWS Tampa Bay Ruskin FL',\\n 'Hurricane Warning issued September 27 at 2:16PM EDT by NWS Tampa Bay Ruskin FL',\\n 'Hurricane Watch issued September 27 at 2:16PM EDT by NWS Tampa Bay Ruskin FL',\\n 'Hurricane Warning issued September 27 at 2:16PM EDT by NWS Tampa Bay Ruskin FL',\\n 'Storm Surge Warning issued September 27 at 2:16PM EDT by NWS Tampa Bay Ruskin FL',\\n 'Hurricane Warning issued September 27 at 2:16PM EDT by NWS Tampa Bay Ruskin FL',\\n 'Hurricane Warning issued September 27 at 2:16PM EDT by NWS Tampa Bay Ruskin FL',\\n 'Tropical Storm Warning issued September 27 at 2:16PM EDT by NWS Tampa Bay Ruskin FL',\\n 'Storm Surge Warning issued September 27 at 2:16PM EDT by NWS Tampa Bay Ruskin FL',\\n 'Storm Surge Warning issued September 27 at 2:16PM EDT by NWS Tampa Bay Ruskin FL',\\n 'Tropical Cyclone Statement issued September 27 at 2:14PM EDT by NWS Miami FL',\\n 'Tropical Cyclone Statement issued September 27 at 12:23PM EDT by NWS Key West FL',\\n 'Tropical Cyclone Statement issued September 27 at 12:11PM EDT by NWS Melbourne FL',\\n 'Tropical Cyclone Statement issued September 27 at 11:32AM EDT by NWS Jacksonville FL',\\n 'Tropical Cyclone Statement issued September 27 at 11:27AM EDT by NWS Tampa Bay Ruskin FL',\\n 'Flood Watch issued September 27 at 11:21AM EDT until October 1 at 2:00AM EDT by NWS Jacksonville FL',\\n 'Tropical Storm Warning issued September 27 at 11:19AM EDT by NWS Melbourne FL',\\n 'Tropical Storm Warning issued September 27 at 11:19AM EDT by NWS Melbourne FL',\\n 'Tropical Storm Warning issued September 27 at 11:19AM EDT by NWS Melbourne FL',\\n 'Tropical Storm Warning issued September 27 at 11:19AM EDT by NWS Melbourne FL',\\n 'Tropical Storm Warning issued September 27 at 11:19AM EDT by NWS Melbourne FL',\\n 'Tropical Storm Warning issued September 27 at 11:19AM EDT by NWS Melbourne FL',\\n 'Tropical Storm Warning issued September 27 at 11:19AM EDT by NWS Melbourne FL',\\n 'Tropical Storm Warning issued September 27 at 11:19AM EDT by NWS Melbourne FL',\\n 'Tropical Storm Warning issued September 27 at 11:19AM EDT by NWS Melbourne FL',\\n 'Tropical Storm Warning issued September 27 at 11:19AM EDT by NWS Melbourne FL',\\n 'Tropical Storm Warning issued September 27 at 11:19AM EDT by NWS Melbourne FL',\\n 'Tropical Storm Warning issued September 27 at 11:19AM EDT by NWS Melbourne FL',\\n 'Hurricane Watch issued September 27 at 11:19AM EDT by NWS Melbourne FL',\\n 'Tropical Storm Warning issued September 27 at 11:19AM EDT by NWS Melbourne FL',\\n 'Tropical Storm Warning issued September 27 at 11:19AM EDT by NWS Melbourne FL',\\n 'Tropical Storm Warning issued September 27 at 11:19AM EDT by NWS Melbourne FL',\\n 'Tropical Storm Warning issued September 27 at 11:19AM EDT by NWS Melbourne FL',\\n 'Tropical Storm Warning issued September 27 at 11:19AM EDT by NWS Melbourne FL',\\n 'Tropical Storm Warning issued September 27 at 11:19AM EDT by NWS Melbourne FL',\\n 'Hurricane Watch issued September 27 at 11:19AM EDT by NWS Melbourne FL',\\n 'Tropical Storm Warning issued September 27 at 11:19AM EDT by NWS Melbourne FL',\\n 'Hurricane Watch issued September 27 at 11:19AM EDT by NWS Melbourne FL',\\n 'Tropical Storm Warning issued September 27 at 11:19AM EDT by NWS Melbourne FL',\\n 'Hurricane Watch issued September 27 at 11:19AM EDT by NWS Melbourne FL',\\n 'Hurricane Watch issued September 27 at 11:19AM EDT by NWS Melbourne FL',\\n 'Hurricane Watch issued September 27 at 11:19AM EDT by NWS Melbourne FL',\\n 'Tropical Cyclone Statement issued September 27 at 11:17AM EDT by NWS Miami FL',\\n 'Storm Surge Watch issued September 27 at 11:15AM EDT by NWS Key West FL',\\n 'Storm Surge Watch issued September 27 at 11:15AM EDT by NWS Key West FL',\\n 'Tropical Storm Warning issued September 27 at 11:15AM EDT by NWS Key West FL',\\n 'Storm Surge Watch issued September 27 at 11:15AM EDT by NWS Key West FL',\\n 'Tropical Storm Warning issued September 27 at 11:15AM EDT by NWS Key West FL',\\n 'Tropical Storm Watch issued September 27 at 11:15AM EDT by NWS Key West FL',\\n 'Tropical Storm Warning issued September 27 at 11:13AM EDT by NWS Jacksonville FL',\\n 'Storm Surge Warning issued September 27 at 11:13AM EDT by NWS Jacksonville FL',\\n 'Tropical Storm Warning issued September 27 at 11:13AM EDT by NWS Jacksonville FL',\\n 'Tropical Storm Warning issued September 27 at 11:13AM EDT by NWS Jacksonville FL',\\n 'Storm Surge Warning issued September 27 at 11:13AM EDT by NWS Jacksonville FL',\\n 'Tropical Storm Warning issued September 27 at 11:13AM EDT by NWS Jacksonville FL',\\n 'Storm Surge Warning issued September 27 at 11:13AM EDT by NWS Jacksonville FL',\\n 'Tropical Storm Warning issued September 27 at 11:13AM EDT by NWS Jacksonville FL',\\n 'Storm Surge Warning issued September 27 at 11:13AM EDT by NWS Jacksonville FL',\\n 'Storm Surge Warning issued September 27 at 11:13AM EDT by NWS Jacksonville FL',\\n 'Tropical Storm Warning issued September 27 at 11:13AM EDT by NWS Jacksonville FL',\\n 'Tropical Storm Warning issued September 27 at 11:13AM EDT by NWS Jacksonville FL',\\n 'Storm Surge Watch issued September 27 at 11:13AM EDT by NWS Jacksonville FL',\\n 'Tropical Storm Warning issued September 27 at 11:13AM EDT by NWS Jacksonville FL',\\n 'Tropical Storm Warning issued September 27 at 11:13AM EDT by NWS Jacksonville FL',\\n 'Tropical Storm Warning issued September 27 at 11:13AM EDT by NWS Jacksonville FL',\\n 'Tropical Storm Warning issued September 27 at 11:13AM EDT by NWS Jacksonville FL',\\n 'Tropical Storm Warning issued September 27 at 11:13AM EDT by NWS Jacksonville FL',\\n 'Storm Surge Warning issued September 27 at 11:13AM EDT by NWS Jacksonville FL',\\n 'Tropical Storm Warning issued September 27 at 11:13AM EDT by NWS Jacksonville FL',\\n 'Tropical Storm Watch issued September 27 at 11:13AM EDT by NWS Jacksonville FL',\\n 'Tropical Storm Watch issued September 27 at 11:13AM EDT by NWS Jacksonville FL',\\n 'Tropical Storm Watch issued September 27 at 11:13AM EDT by NWS Jacksonville FL',\\n 'Tropical Storm Warning issued September 27 at 11:13AM EDT by NWS Jacksonville FL',\\n 'Storm Surge Warning issued September 27 at 11:13AM EDT by NWS Jacksonville FL',\\n 'Tropical Storm Watch issued September 27 at 11:13AM EDT by NWS Jacksonville FL',\\n 'Tropical Storm Warning issued September 27 at 11:13AM EDT by NWS Jacksonville FL',\\n 'Tropical Storm Watch issued September 27 at 11:13AM EDT by NWS Jacksonville FL',\\n 'Tropical Storm Watch issued September 27 at 11:13AM EDT by NWS Jacksonville FL',\\n 'Tropical Storm Watch issued September 27 at 11:13AM EDT by NWS Jacksonville FL',\\n 'Tropical Storm Warning issued September 27 at 11:13AM EDT by NWS Jacksonville FL',\\n 'Flood Watch issued September 27 at 11:04AM EDT until September 28 at 6:00AM EDT by NWS Key West FL',\\n 'Flood Warning issued September 27 at 10:33AM EDT by NWS Tampa Bay Ruskin FL',\\n 'Flood Warning issued September 27 at 10:29AM EDT by NWS Tampa Bay Ruskin FL',\\n 'Flood Warning issued September 27 at 10:29AM EDT by NWS Tampa Bay Ruskin FL',\\n 'Flood Warning issued September 27 at 10:29AM EDT by NWS Tampa Bay Ruskin FL',\\n 'Flood Warning issued September 27 at 10:29AM EDT by NWS Tampa Bay Ruskin FL',\\n 'Flood Warning issued September 27 at 10:29AM EDT by NWS Tampa Bay Ruskin FL',\\n 'Flood Warning issued September 27 at 10:29AM EDT by NWS Tampa Bay Ruskin FL',\\n 'Flood Warning issued September 27 at 10:29AM EDT by NWS Tampa Bay Ruskin FL',\\n 'Flood Warning issued September 27 at 10:29AM EDT by NWS Tampa Bay Ruskin FL',\\n 'Flood Warning issued September 27 at 10:29AM EDT by NWS Melbourne FL',\\n 'Rip Current Statement issued September 27 at 4:33AM CDT until October 1 at 6:00AM CDT by NWS Mobile AL',\\n 'Flood Watch issued September 26 at 4:59PM EDT until September 30 at 2:00AM EDT by NWS Tampa Bay Ruskin FL',\\n 'Rip Current Statement issued September 26 at 4:43PM EDT until September 29 at 8:00PM EDT by NWS Miami FL',\\n 'Rip Current Statement issued September 26 at 4:43PM EDT until September 29 at 8:00PM EDT by NWS Miami FL',\\n 'Coastal Flood Statement issued September 26 at 4:43PM EDT until September 29 at 8:00PM EDT by NWS Miami FL',\\n 'Coastal Flood Statement issued September 26 at 4:43PM EDT until September 29 at 8:00PM EDT by NWS Miami FL',\\n 'Flood Watch issued September 26 at 2:29PM EDT until September 30 at 2:00AM EDT by NWS Melbourne FL',\\n 'Flood Warning issued September 26 at 9:41AM EDT until September 28 at 8:00AM EDT by NWS Tampa Bay Ruskin FL']\"}, 'execution_count': 49, 'metadata': {}, 'output_type': 'execute_result'}], 'source': \"[feat['properties']['headline'] for feat in d['features']]\"}, {'cell_type': 'code', 'execution_count': None, 'id': 'c1394719-1453-4afb-98f3-7bb60e76637c', 'metadata': {}, 'outputs': [], 'source': ''}], 'metadata': {'kernelspec': {'display_name': 'Python 3 (ipykernel)', 'language': 'python', 'name': 'python3'}, 'language_info': {'codemirror_mode': {'name': 'ipython', 'version': 3}, 'file_extension': '.py', 'mimetype': 'text/x-python', 'name': 'python', 'nbconvert_exporter': 'python', 'pygments_lexer': 'ipython3', 'version': '3.10.6'}}, 'nbformat': 4, 'nbformat_minor': 5}\n"
     ]
    }
   ],
   "source": [
    "import nbformat\n",
    "with open(\"reproduce-cases-original.ipynb\", \"r\") as f:\n",
    "    nb = nbformat.read(f, as_version=nbformat.NO_CONVERT)\n",
    "\n",
    "# print(nb)\n"
   ]
  },
  {
   "cell_type": "code",
   "execution_count": 427,
   "metadata": {},
   "outputs": [
    {
     "name": "stdout",
     "output_type": "stream",
     "text": [
      "{'kernelspec': {'display_name': 'Python 3.10.0 64-bit', 'language': 'python', 'name': 'python3'}, 'language_info': {'codemirror_mode': {'name': 'ipython', 'version': 3}, 'file_extension': '.py', 'mimetype': 'text/x-python', 'name': 'python', 'nbconvert_exporter': 'python', 'pygments_lexer': 'ipython3', 'version': '3.10.0'}, 'vscode': {'interpreter': {'hash': 'aee8b7b246df8f9039afb4144a1f6fd8d2ca17a180786b69acc140d282b71a49'}}}\n"
     ]
    }
   ],
   "source": [
    "import nbformat\n",
    "with open(\"reproduce-cases-original.ipynb\", \"r\") as f:\n",
    "    nb = nbformat.read(f, as_version=nbformat.NO_CONVERT)\n",
    "\n",
    "print(nb.metadata)"
   ]
  },
  {
   "cell_type": "code",
   "execution_count": 2,
   "metadata": {},
   "outputs": [
    {
     "name": "stdout",
     "output_type": "stream",
     "text": [
      "1\n",
      "1\n",
      "1\n",
      "1\n",
      "1\n",
      "1\n",
      "1\n",
      "1\n",
      "1\n",
      "1\n",
      "1\n",
      "1\n",
      "1\n",
      "1\n",
      "1\n"
     ]
    }
   ],
   "source": [
    "import nbformat\n",
    "\n",
    "# load the notebook\n",
    "nb = nbformat.read('reproduce-cases-original.ipynb', nbformat.NO_CONVERT)\n",
    "\n",
    "# iterate over each cell\n",
    "for cell in nb.cells:\n",
    "    # print(\"1\")\n",
    "    # check if the cell has metadata\n",
    "    if 'metadata' in cell and 'tags' in cell.metadata:\n",
    "        # check if the 'tags' metadata contains the string 'parameters'\n",
    "        if 'parameters' in cell.metadata.tags:\n",
    "            # print the contents of the cell\n",
    "            print(cell.source)\n"
   ]
  },
  {
   "cell_type": "code",
   "execution_count": null,
   "metadata": {},
   "outputs": [],
   "source": [
    "#eval\n",
    "#nbconvert\n",
    "#mean squared errors"
   ]
  },
  {
   "cell_type": "code",
   "execution_count": 17,
   "metadata": {},
   "outputs": [
    {
     "data": {
      "text/plain": [
       "array([[88.  , 88.09, 88.18, 88.27, 88.82, 88.  , 88.09, 88.18]])"
      ]
     },
     "execution_count": 17,
     "metadata": {},
     "output_type": "execute_result"
    }
   ],
   "source": [
    "import numpy as np\n",
    "eval(\"np.array([[88.  , 88.09, 88.18, 88.27, 88.82, 88.  , 88.09, 88.18]])\")"
   ]
  },
  {
   "cell_type": "code",
   "execution_count": 22,
   "metadata": {},
   "outputs": [],
   "source": [
    "# with open('example.txt', 'w') as file:\n",
    "#     file.write('Hello, world!\\n')\n",
    "#     file.write('This is a sample text file.')"
   ]
  },
  {
   "cell_type": "code",
   "execution_count": 4,
   "metadata": {},
   "outputs": [
    {
     "data": {
      "text/plain": [
       "dict"
      ]
     },
     "execution_count": 4,
     "metadata": {},
     "output_type": "execute_result"
    }
   ],
   "source": [
    "import json \n",
    "with open(\"reproduce-cases-original.ipynb\", mode = \"r\", encoding= \"utf-8\") as f:\n",
    "    fileoutput = json.loads(f.read())\n",
    "fileoutput\n",
    "#0feeacfb-4b64-416c-a232-3de290fac7e9 nb format"
   ]
  },
  {
   "cell_type": "code",
   "execution_count": 7,
   "metadata": {},
   "outputs": [],
   "source": [
    "import pandas as pd\n",
    "df = pd.DataFrame({\"A\": [\"a\", \"b\", \"c\", \"a\"]})\n",
    "\n",
    "df[\"B\"] = df[\"A\"].astype(\"category\")"
   ]
  },
  {
   "cell_type": "code",
   "execution_count": 13,
   "metadata": {},
   "outputs": [
    {
     "data": {
      "text/plain": [
       "264"
      ]
     },
     "execution_count": 13,
     "metadata": {},
     "output_type": "execute_result"
    }
   ],
   "source": [
    "df[\"B\"].memory_usage()"
   ]
  },
  {
   "cell_type": "code",
   "execution_count": 4,
   "metadata": {},
   "outputs": [
    {
     "name": "stderr",
     "output_type": "stream",
     "text": [
      "UsageError: Line magic function `%jupyter` not found.\n"
     ]
    }
   ],
   "source": [
    "raise Exception(\"Blah it runned\")"
   ]
  },
  {
   "cell_type": "code",
   "execution_count": 23,
   "metadata": {},
   "outputs": [
    {
     "name": "stdout",
     "output_type": "stream",
     "text": [
      "Unexpected exception formatting exception. Falling back to standard exception\n"
     ]
    },
    {
     "name": "stderr",
     "output_type": "stream",
     "text": [
      "Traceback (most recent call last):\n",
      "  File \"/Users/bhanukedhar/Library/Python/3.10/lib/python/site-packages/IPython/core/interactiveshell.py\", line 3378, in run_code\n",
      "    exec(code_obj, self.user_global_ns, self.user_ns)\n",
      "  File \"/var/folders/cd/60bgrl6d57gcpppm6fn4m4780000gn/T/ipykernel_56599/3601089795.py\", line 3, in <module>\n",
      "    if d[\"cell_type\"] == \"code\":\n",
      "TypeError: tuple indices must be integers or slices, not str\n",
      "\n",
      "During handling of the above exception, another exception occurred:\n",
      "\n",
      "Traceback (most recent call last):\n",
      "  File \"/Users/bhanukedhar/Library/Python/3.10/lib/python/site-packages/IPython/core/interactiveshell.py\", line 1997, in showtraceback\n",
      "    stb = self.InteractiveTB.structured_traceback(\n",
      "  File \"/Users/bhanukedhar/Library/Python/3.10/lib/python/site-packages/IPython/core/ultratb.py\", line 1112, in structured_traceback\n",
      "    return FormattedTB.structured_traceback(\n",
      "  File \"/Users/bhanukedhar/Library/Python/3.10/lib/python/site-packages/IPython/core/ultratb.py\", line 1006, in structured_traceback\n",
      "    return VerboseTB.structured_traceback(\n",
      "  File \"/Users/bhanukedhar/Library/Python/3.10/lib/python/site-packages/IPython/core/ultratb.py\", line 859, in structured_traceback\n",
      "    formatted_exception = self.format_exception_as_a_whole(etype, evalue, etb, number_of_lines_of_context,\n",
      "  File \"/Users/bhanukedhar/Library/Python/3.10/lib/python/site-packages/IPython/core/ultratb.py\", line 793, in format_exception_as_a_whole\n",
      "    self.get_records(etb, number_of_lines_of_context, tb_offset) if etb else []\n",
      "  File \"/Users/bhanukedhar/Library/Python/3.10/lib/python/site-packages/IPython/core/ultratb.py\", line 848, in get_records\n",
      "    return list(stack_data.FrameInfo.stack_data(etb, options=options))[tb_offset:]\n",
      "  File \"/Users/bhanukedhar/Library/Python/3.10/lib/python/site-packages/stack_data/core.py\", line 597, in stack_data\n",
      "    yield from collapse_repeated(\n",
      "  File \"/Users/bhanukedhar/Library/Python/3.10/lib/python/site-packages/stack_data/utils.py\", line 84, in collapse_repeated\n",
      "    yield from map(mapper, original_group)\n",
      "  File \"/Users/bhanukedhar/Library/Python/3.10/lib/python/site-packages/stack_data/core.py\", line 587, in mapper\n",
      "    return cls(f, options)\n",
      "  File \"/Users/bhanukedhar/Library/Python/3.10/lib/python/site-packages/stack_data/core.py\", line 551, in __init__\n",
      "    self.executing = Source.executing(frame_or_tb)\n",
      "  File \"/Users/bhanukedhar/Library/Python/3.10/lib/python/site-packages/executing/executing.py\", line 323, in executing\n",
      "    source = cls.for_frame(frame)\n",
      "  File \"/Users/bhanukedhar/Library/Python/3.10/lib/python/site-packages/executing/executing.py\", line 247, in for_frame\n",
      "    return cls.for_filename(frame.f_code.co_filename, frame.f_globals or {}, use_cache)\n",
      "  File \"/Users/bhanukedhar/Library/Python/3.10/lib/python/site-packages/executing/executing.py\", line 275, in for_filename\n",
      "    return cls._for_filename_and_lines(filename, lines)\n",
      "  File \"/Users/bhanukedhar/Library/Python/3.10/lib/python/site-packages/executing/executing.py\", line 285, in _for_filename_and_lines\n",
      "    result = source_cache[(filename, lines)] = cls(filename, lines)\n",
      "  File \"/Users/bhanukedhar/Library/Python/3.10/lib/python/site-packages/stack_data/core.py\", line 97, in __init__\n",
      "    self.asttokens()\n",
      "  File \"/Users/bhanukedhar/Library/Python/3.10/lib/python/site-packages/executing/executing.py\", line 387, in asttokens\n",
      "    return ASTTokens(\n",
      "  File \"/Users/bhanukedhar/Library/Python/3.10/lib/python/site-packages/asttokens/asttokens.py\", line 61, in __init__\n",
      "    source_text = six.ensure_text(source_text)\n",
      "AttributeError: module 'six' has no attribute 'ensure_text'\n"
     ]
    }
   ],
   "source": [
    "for d in zip(fileoutput[\"cells\"],):\n",
    "    # print(d)\n",
    "    if d[\"cell_type\"] == \"code\":\n",
    "        for o in d[\"outputs\"]:\n",
    "            print(o)\n",
    "        break"
   ]
  },
  {
   "cell_type": "code",
   "execution_count": 139,
   "metadata": {},
   "outputs": [
    {
     "data": {
      "text/plain": [
       "array([0, 1, 2])"
      ]
     },
     "execution_count": 139,
     "metadata": {},
     "output_type": "execute_result"
    }
   ],
   "source": [
    "np.array([1,2,3]) - np.array([1,1,1])"
   ]
  },
  {
   "cell_type": "code",
   "execution_count": 178,
   "metadata": {},
   "outputs": [
    {
     "data": {
      "text/plain": [
       "['Tropical Storm Warning ', 'September 27 at 5:04PM EDT', 'NWS Tallahassee FL']"
      ]
     },
     "execution_count": 178,
     "metadata": {},
     "output_type": "execute_result"
    }
   ],
   "source": [
    "import re\n",
    "s = \"Tropical Storm Warning issued September 27 at 5:04PM EDT by NWS Tallahassee FL\"\n",
    "re.split(\"issued\\s|\\sby\\s\", s)"
   ]
  },
  {
   "cell_type": "code",
   "execution_count": 198,
   "metadata": {},
   "outputs": [
    {
     "data": {
      "text/plain": [
       "'23456'"
      ]
     },
     "execution_count": 198,
     "metadata": {},
     "output_type": "execute_result"
    }
   ],
   "source": [
    "\"012345678\"[2: -2]"
   ]
  },
  {
   "cell_type": "code",
   "execution_count": 215,
   "metadata": {},
   "outputs": [
    {
     "name": "stdout",
     "output_type": "stream",
     "text": [
      "1900-09-27 17:04:00\n"
     ]
    }
   ],
   "source": [
    "import datetime\n",
    "\n",
    "date_string = \"September 27 at 5:04PM\"\n",
    "date_format = \"%B %d at %I:%M%p\"\n",
    "date = datetime.datetime.strptime(date_string, date_format)\n",
    "\n",
    "print(date)\n"
   ]
  },
  {
   "cell_type": "code",
   "execution_count": 219,
   "metadata": {},
   "outputs": [
    {
     "data": {
      "text/plain": [
       "[2, 3, 4, 5, 6]"
      ]
     },
     "execution_count": 219,
     "metadata": {},
     "output_type": "execute_result"
    }
   ],
   "source": [
    "x = [1,2,3,4,5]\n",
    "for count, i in enumerate(x):\n",
    "    x[count] = i +1\n",
    "x"
   ]
  },
  {
   "cell_type": "code",
   "execution_count": 236,
   "metadata": {},
   "outputs": [
    {
     "data": {
      "text/plain": [
       "'September 27 at 5:04PM'"
      ]
     },
     "execution_count": 236,
     "metadata": {},
     "output_type": "execute_result"
    }
   ],
   "source": [
    "\"September 27 at 5:04PM EDT\"[:-4]"
   ]
  },
  {
   "cell_type": "code",
   "execution_count": 23,
   "metadata": {},
   "outputs": [],
   "source": [
    "\n",
    "nws_centers = {\n",
    "'AL': ['NWS Birmingham AL', 'NWS Huntsville AL', 'NWS Mobile AL', 'NWS Tallahassee FL'],\n",
    "'AK': ['NWS Anchorage AK', 'NWS Fairbanks AK', 'NWS Juneau AK'],\n",
    "'AZ': ['NWS Flagstaff AZ', 'NWS Phoenix AZ', 'NWS Tucson AZ'],\n",
    "'AR': ['NWS Little Rock AR'],\n",
    "'CA': ['NWS Eureka CA', 'NWS Hanford CA', 'NWS Los Angeles/Oxnard CA', 'NWS Monterey CA',\n",
    "'NWS Sacramento CA', 'NWS San Diego CA', 'NWS San Francisco Bay Area/Monterey CA',\n",
    "'NWS San Joaquin Valley/Hanford CA'],\n",
    "'CO': ['NWS Boulder/Denver CO', 'NWS Grand Junction CO', 'NWS Pueblo CO'],\n",
    "'CT': ['NWS Boston/Norton MA'],\n",
    "'DE': ['NWS Wakefield VA'],\n",
    "'FL': ['NWS Jacksonville FL', 'NWS Key West FL', 'NWS Melbourne FL', 'NWS Miami FL',\n",
    "'NWS Tallahassee FL', 'NWS Tampa Bay Area/Ruskin FL'],\n",
    "'GA': ['NWS Atlanta GA'],\n",
    "'HI': ['NWS Honolulu HI'],\n",
    "'ID': ['NWS Boise ID', 'NWS Pocatello/Idaho Falls ID'],\n",
    "'IL': ['NWS Chicago IL', 'NWS Lincoln IL'],\n",
    "'IN': ['NWS Indianapolis IN'],\n",
    "'IA': ['NWS Des Moines IA'],\n",
    "'KS': ['NWS Dodge City KS', 'NWS Goodland KS', 'NWS Topeka KS', 'NWS Wichita KS'],\n",
    "'KY': ['NWS Jackson KY', 'NWS Louisville KY', 'NWS Paducah KY'],\n",
    "'LA': ['NWS Lake Charles LA', 'NWS New Orleans/Baton Rouge LA', 'NWS Shreveport LA'],\n",
    "'ME': ['NWS Gray ME'],\n",
    "'MD': ['NWS Baltimore/Washington DC'],\n",
    "'MA': ['NWS Boston/Norton MA'],\n",
    "'MI': ['NWS Detroit/Pontiac MI', 'NWS Gaylord MI', 'NWS Grand Rapids MI', 'NWS Marquette MI'],\n",
    "'MN': ['NWS Duluth MN', 'NWS Minneapolis MN'],\n",
    "'MS': ['NWS Jackson MS'],\n",
    "'MO': ['NWS Kansas City/Pleasant Hill MO', 'NWS Springfield MO', 'NWS St. Louis MO'],\n",
    "'MT': ['NWS Billings MT', 'NWS Glasgow MT', 'NWS Great Falls MT', 'NWS Missoula MT'],\n",
    "'NE': ['NWS Hastings NE', 'NWS North Platte NE', 'NWS Omaha/Valley NE'],\n",
    "'NV': ['NWS Elko NV', 'NWS Las Vegas NV', 'NWS Reno NV'],\n",
    "'NH': ['NWS Gray ME'],\n",
    "'NJ': ['NWS Philadelphia/Mount Holly NJ'],\n",
    "'NM': ['NWS Albuquerque NM', 'NWS El Paso TX/Santa Teresa NM'],\n",
    "'NY': ['NWS Albany NY', 'NWS Binghamton NY', 'NWS Buffalo NY', 'NWS New York NY',\n",
    "'NWS Upton NY'],\n",
    "'NC': ['NWS Newport/Morehead City NC', 'NWS Raleigh/Durham NC', 'NWS Wilmington NC'],\n",
    "'ND': ['NWS Bismarck ND']}\n",
    "\n",
    "\n",
    "\n",
    "\n"
   ]
  },
  {
   "cell_type": "code",
   "execution_count": 24,
   "metadata": {},
   "outputs": [],
   "source": [
    "types = [\"statement\", \"advisory\", \"warning\", \"watch\", \"outlook\", \"alert\"]\n",
    "\n",
    "all_warnings = \"\"\"Tornado Warning\n",
    "Severe Thunderstorm Warning\n",
    "Flash Flood Warning\n",
    "Flood Warning\n",
    "Hurricane Warning\n",
    "Hurricane Watch\n",
    "Tropical Storm Warning\n",
    "Tropical Storm Watch\n",
    "Winter Storm Warning\n",
    "Winter Storm Watch\n",
    "Blizzard Warning\n",
    "Dust Storm Warning\n",
    "Heat Advisory\n",
    "Excessive Heat Warning\n",
    "Freeze Warning\n",
    "Wind Chill Advisory\n",
    "Wind Chill Warning\n",
    "Special Weather Statement\n",
    "Air Quality Alert\n",
    "Fire Weather Warning\n",
    "Red Flag Warning\n",
    "Small Craft Advisory\n",
    "Gale Warning\n",
    "Storm Warning\n",
    "Hurricane Statement\n",
    "Public Information Statement\n",
    "Hazardous Seas Warning\n",
    "Beach Hazard Statement\n",
    "High Surf Advisory\n",
    "Lake Wind Advisory\n",
    "Winter Weather Advisory\n",
    "Freeze Watch\n",
    "Wind Advisory\n",
    "Dust Advisory\n",
    "Winter Weather Watch\n",
    "Coastal Flood Warning\n",
    "Flood Watch\n",
    "Flash Flood Watch\n",
    "Flood Advisory\n",
    "Hydrologic Outlook\n",
    "Air Stagnation Advisory\n",
    "Avalanche Warning\n",
    "Ice Storm Warning\n",
    "Ice Storm Watch\n",
    "Winter Storm Advisory\n",
    "Winter Storm Outlook\n",
    "High Wind Warning\n",
    "High Wind Watch\n",
    "Heat Watch\n",
    "Red Flag Advisory\n",
    "Coastal Flood Statement\n",
    "Coastal Flood Warning\n",
    "Flash Flood Statement\n",
    "Flash Flood Warning\n",
    "Flood Advisory\n",
    "Flood Statement\n",
    "Flood Warning\n",
    "High Surf Advisory\n",
    "High Surf Warning\n",
    "Hurricane Local Statement\n",
    "Hurricane Statement\n",
    "Lake Wind Advisory\n",
    "Marine Weather Statement\n",
    "Rip Current Statement\n",
    "Severe Thunderstorm Warning\n",
    "Severe Weather Statement\n",
    "Small Craft Advisory\n",
    "Special Marine Warning\n",
    "Special Weather Statement\n",
    "Storm Surge Warning\n",
    "Storm Surge Watch\n",
    "Tornado Warning\n",
    "Tornado Watch\n",
    "Tropical Storm Local Statement\n",
    "Tropical Storm Warning\n",
    "Tropical Storm Watch\n",
    "Tsunami Advisory\n",
    "Tsunami Warning\n",
    "Winter Weather Advisory\n",
    "Winter Storm Warning\n",
    "Winter Storm Watch\"\"\""
   ]
  },
  {
   "cell_type": "code",
   "execution_count": 195,
   "metadata": {},
   "outputs": [
    {
     "data": {
      "text/plain": [
       "['import urllib\\n',\n",
       " '\\n',\n",
       " \"local_fname = 'fl-weather-alerts.json'\\n\",\n",
       " \"urllib.request.urlretrieve('https://api.weather.gov/alerts/active?area=FL', local_fname)\"]"
      ]
     },
     "execution_count": 195,
     "metadata": {},
     "output_type": "execute_result"
    }
   ],
   "source": [
    "second_dict[10][0]"
   ]
  },
  {
   "cell_type": "code",
   "execution_count": null,
   "metadata": {},
   "outputs": [],
   "source": []
  },
  {
   "cell_type": "code",
   "execution_count": 34,
   "metadata": {},
   "outputs": [
    {
     "name": "stdout",
     "output_type": "stream",
     "text": [
      "yuy\n",
      "yuy\n",
      "yuy\n",
      "yuy\n",
      "Rating: 1.0\n"
     ]
    }
   ],
   "source": [
    "import urllib\n",
    "import json\n",
    "\n",
    "local_fname = 'fl-weather-alerts.json'\n",
    "urllib.request.urlretrieve('https://api.weather.gov/alerts/active?area=FL', local_fname)\n",
    "\n",
    "d = json.load(open(local_fname))\n",
    "\n",
    "# Define the cells to rate\n",
    "# cells = [\n",
    "#     \"import urllib\",\n",
    "#     f\"local_fname = '{local_fname}'\",\n",
    "#     \"urllib.request.urlretrieve('https://api.weather.gov/alerts/active?areaFL', local_fname)\",\n",
    "#     # \"d = json.load(open(local_fname))\",\n",
    "#     # \"len(d['features'])\",\n",
    "#     # \"[feat['properties']['headline'] for feat in d['features']]\"\n",
    "# ]\n",
    "\n",
    "cells = [i.strip() for i in second_dict[10][0]]\n",
    "\n",
    "# Rate the cells\n",
    "num_successful_cells = 0\n",
    "for cell in cells:\n",
    "    try:\n",
    "        exec(cell)\n",
    "        num_successful_cells += 1\n",
    "        print(\"yuy\")\n",
    "    except Exception as e:\n",
    "        print(f\"Error in cell: {cell}\")\n",
    "        print(f\"Error message: {e}\")\n",
    "        print(\"=\"*50)\n",
    "\n",
    "rating = num_successful_cells / len(cells)\n",
    "print(f\"Rating: {rating}\")\n"
   ]
  },
  {
   "cell_type": "code",
   "execution_count": 154,
   "metadata": {},
   "outputs": [],
   "source": [
    "v = exec(\"45+78\")"
   ]
  },
  {
   "cell_type": "code",
   "execution_count": 155,
   "metadata": {},
   "outputs": [],
   "source": [
    "v"
   ]
  },
  {
   "cell_type": "code",
   "execution_count": 156,
   "metadata": {},
   "outputs": [
    {
     "name": "stdout",
     "output_type": "stream",
     "text": [
      "None\n"
     ]
    }
   ],
   "source": [
    "# code = 'a = 10; b = 20; c = a + b; c'\n",
    "# result = exec(code)\n",
    "# print(result)"
   ]
  },
  {
   "cell_type": "code",
   "execution_count": 162,
   "metadata": {},
   "outputs": [
    {
     "data": {
      "text/plain": [
       "('fl-weather-alerts.json', <http.client.HTTPMessage at 0x14f862920>)"
      ]
     },
     "execution_count": 162,
     "metadata": {},
     "output_type": "execute_result"
    }
   ],
   "source": [
    "e =[\"import urllib\",\n",
    "\"local_fname = 'fl-weather-alerts.json'\",\n",
    "\"urllib.request.urlretrieve('https://api.weather.gov/alerts/active?area=FL', local_fname)\"]\n",
    "\n",
    "eval(e[2])"
   ]
  },
  {
   "cell_type": "code",
   "execution_count": 1,
   "metadata": {},
   "outputs": [],
   "source": [
    "t = [None, None, 1,2]"
   ]
  },
  {
   "cell_type": "code",
   "execution_count": 2,
   "metadata": {},
   "outputs": [
    {
     "data": {
      "text/plain": [
       "[None, None, 1, 2]"
      ]
     },
     "execution_count": 2,
     "metadata": {},
     "output_type": "execute_result"
    }
   ],
   "source": [
    "t"
   ]
  },
  {
   "cell_type": "code",
   "execution_count": null,
   "metadata": {},
   "outputs": [],
   "source": []
  }
 ],
 "metadata": {
  "kernelspec": {
   "display_name": "Python 3.10.0 64-bit",
   "language": "python",
   "name": "python3"
  },
  "language_info": {
   "codemirror_mode": {
    "name": "ipython",
    "version": 3
   },
   "file_extension": ".py",
   "mimetype": "text/x-python",
   "name": "python",
   "nbconvert_exporter": "python",
   "pygments_lexer": "ipython3",
   "version": "3.10.0"
  },
  "orig_nbformat": 4,
  "vscode": {
   "interpreter": {
    "hash": "aee8b7b246df8f9039afb4144a1f6fd8d2ca17a180786b69acc140d282b71a49"
   }
  }
 },
 "nbformat": 4,
 "nbformat_minor": 2
}
