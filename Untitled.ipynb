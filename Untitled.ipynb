{
 "cells": [
  {
   "cell_type": "code",
   "execution_count": 17,
   "id": "eac4155e",
   "metadata": {},
   "outputs": [],
   "source": [
    "import nbformat\n",
    "from nbformat.v4 import new_code_cell, new_markdown_cell, new_output\n",
    "from nbclient import NotebookClient\n",
    "from nbformat.v4 import new_notebook, new_code_cell\n",
    "\n",
    "# Load the notebook\n",
    "with open('reproduce-testing.ipynb') as f:\n",
    "    nb = nbformat.read(f, as_version=4)\n",
    "\n",
    "new_indexes = []\n",
    "for i, cell in enumerate(nb.cells):\n",
    "    if cell.get('outputs'):\n",
    "        cell = nb.cells[i]\n",
    "        source = cell.source.splitlines()\n",
    "        source = [line+\"\\n\" for line in source if line.strip() != '']\n",
    "        source = [s.replace('\\\\n', '\\n') for s in source]\n",
    "        s1 = []\n",
    "        for line in source:\n",
    "            if line.lstrip()[0] != \"#\":\n",
    "                s1.append(line)\n",
    "        if s1[-1][0] != \" \":\n",
    "            new_cell = new_code_cell()\n",
    "            new_cell.source = \"types[\" + str(i) +\"] = \" + \"get_types((\"+s1[-1].rstrip()+\"))\\n\"\n",
    "            nb.cells.insert(i+1, new_cell)\n",
    "            new_indexes.append(i+1)\n",
    "\n",
    "# Add get_types function in a new cell\n",
    "new_cell = new_code_cell()\n",
    "new_cell.source = \"\"\"\n",
    "types = dict()\n",
    "def get_types(obj):\n",
    "    if isinstance(obj, dict):\n",
    "        return {type(obj).__name__: {k: get_types(v) for k, v in obj.items()}}\n",
    "    elif isinstance(obj, (list, tuple, set)):\n",
    "        return {type(obj).__name__: [get_types(item) for item in obj]}\n",
    "    else:\n",
    "        return type(obj).__name__\n",
    "\"\"\"\n",
    "nb.cells.insert(0, new_cell)\n",
    "\n",
    "# Save the modified notebook\n",
    "with open('new_notebook2.ipynb', 'w') as f:\n",
    "    nbformat.write(nb, f)\n"
   ]
  },
  {
   "cell_type": "code",
   "execution_count": 18,
   "id": "28f8615d",
   "metadata": {},
   "outputs": [],
   "source": [
    "# !jupyter nbconvert --execute --to notebook --inplace new_notebook3.ipynb"
   ]
  },
  {
   "cell_type": "code",
   "execution_count": 19,
   "id": "e3ad25b1",
   "metadata": {},
   "outputs": [],
   "source": [
    "%run new_notebook2.ipynb"
   ]
  },
  {
   "cell_type": "code",
   "execution_count": 20,
   "id": "d48001c6",
   "metadata": {},
   "outputs": [
    {
     "name": "stdout",
     "output_type": "stream",
     "text": [
      "[NbConvertApp] Converting notebook new_notebook2.ipynb to notebook\n",
      "[NbConvertApp] ERROR | Notebook JSON is invalid: Additional properties are not allowed ('id' was unexpected)\n",
      "\n",
      "Failed validating 'additionalProperties' in code_cell:\n",
      "\n",
      "On instance['cells'][0]:\n",
      "{'cell_type': 'code',\n",
      " 'execution_count': None,\n",
      " 'id': '203b87e4',\n",
      " 'metadata': {},\n",
      " 'outputs': ['...0 outputs...'],\n",
      " 'source': '\\n'\n",
      "           'types = dict()\\n'\n",
      "           'def get_types(obj):\\n'\n",
      "           '    if isinstance(obj, dict)...'}\n",
      "0.00s - Debugger warning: It seems that frozen modules are being used, which may\n",
      "0.00s - make the debugger miss breakpoints. Please pass -Xfrozen_modules=off\n",
      "0.00s - to python to disable frozen modules.\n",
      "0.00s - Note: Debugging will proceed. Set PYDEVD_DISABLE_FILE_VALIDATION=1 to disable this validation.\n",
      "0.00s - Debugger warning: It seems that frozen modules are being used, which may\n",
      "0.00s - make the debugger miss breakpoints. Please pass -Xfrozen_modules=off\n",
      "0.00s - to python to disable frozen modules.\n",
      "0.00s - Note: Debugging will proceed. Set PYDEVD_DISABLE_FILE_VALIDATION=1 to disable this validation.\n",
      "[NbConvertApp] Writing 3008 bytes to new_notebook2.ipynb\n"
     ]
    }
   ],
   "source": [
    "!jupyter nbconvert --execute --to notebook --inplace new_notebook2.ipynb"
   ]
  },
  {
   "cell_type": "code",
   "execution_count": 21,
   "id": "4b9e59be",
   "metadata": {},
   "outputs": [
    {
     "data": {
      "text/plain": [
       "{0: {'tuple': ['MyMultiset', 'MyMultiset']}}"
      ]
     },
     "execution_count": 21,
     "metadata": {},
     "output_type": "execute_result"
    }
   ],
   "source": [
    "types"
   ]
  },
  {
   "cell_type": "code",
   "execution_count": 22,
   "id": "936832cc",
   "metadata": {},
   "outputs": [],
   "source": [
    "import json\n",
    "with open(\"new_notebook2.ipynb\", \"r\") as f:\n",
    "    nb1 = nbformat.read(f, as_version=4)"
   ]
  },
  {
   "cell_type": "code",
   "execution_count": 23,
   "id": "d58d5714",
   "metadata": {},
   "outputs": [],
   "source": [
    "import json\n",
    "with open(\"reproduce-testing.ipynb\", \"r\") as f:\n",
    "    first = nbformat.read(f, as_version=4)"
   ]
  },
  {
   "cell_type": "code",
   "execution_count": 24,
   "id": "3fad572e",
   "metadata": {},
   "outputs": [],
   "source": [
    "tps = []\n",
    "testing_outputs = []\n",
    "for i, ce in enumerate(nb1.cells):\n",
    "    if i in new_indexes and ce[\"cell_type\"] == \"code\":\n",
    "        tps.append(ce[\"outputs\"][0][\"data\"][\"text/plain\"])\n",
    "    elif ce[\"cell_type\"] == \"code\" and ce.get(\"outputs\"):\n",
    "        testing_outputs.append(ce[\"outputs\"][0][\"data\"][\"text/plain\"])"
   ]
  },
  {
   "cell_type": "code",
   "execution_count": 27,
   "id": "1e3d3ef2",
   "metadata": {},
   "outputs": [
    {
     "data": {
      "text/plain": [
       "[1]"
      ]
     },
     "execution_count": 27,
     "metadata": {},
     "output_type": "execute_result"
    }
   ],
   "source": [
    "new_indexes"
   ]
  },
  {
   "cell_type": "code",
   "execution_count": 32,
   "id": "adc18939",
   "metadata": {},
   "outputs": [
    {
     "data": {
      "text/plain": [
       "([\"({'a', 'a', 'b'}, {'a', 'b', 'c', 'c'})\"],\n",
       " {0: {'tuple': ['MyMultiset', 'MyMultiset']}})"
      ]
     },
     "execution_count": 32,
     "metadata": {},
     "output_type": "execute_result"
    }
   ],
   "source": [
    "tps, types"
   ]
  },
  {
   "cell_type": "code",
   "execution_count": 34,
   "id": "9e9cdd9a",
   "metadata": {},
   "outputs": [],
   "source": [
    "# for k, k1 in zip(tps.keys(), types.keys()):\n",
    "import ast\n",
    "r = ast.literal_eval(tps[0])"
   ]
  },
  {
   "cell_type": "code",
   "execution_count": 36,
   "id": "e32f26b7",
   "metadata": {},
   "outputs": [
    {
     "data": {
      "text/plain": [
       "({'a', 'b'}, {'a', 'b', 'c'})"
      ]
     },
     "execution_count": 36,
     "metadata": {},
     "output_type": "execute_result"
    }
   ],
   "source": [
    "r"
   ]
  },
  {
   "cell_type": "code",
   "execution_count": 42,
   "id": "89fe818e",
   "metadata": {},
   "outputs": [
    {
     "name": "stdout",
     "output_type": "stream",
     "text": [
      "{b, a}\n",
      "{c, b, a}\n"
     ]
    }
   ],
   "source": [
    "for i in range(len(r)):\n",
    "    print(MyMultiset(r[i]))\n",
    "#   r[i] = MyMultiset(*r[i])\n"
   ]
  },
  {
   "cell_type": "code",
   "execution_count": null,
   "id": "8b9d4765",
   "metadata": {},
   "outputs": [],
   "source": []
  },
  {
   "cell_type": "code",
   "execution_count": 20,
   "id": "081ba61d",
   "metadata": {},
   "outputs": [
    {
     "name": "stdout",
     "output_type": "stream",
     "text": [
      "[{\"name\": \"Alice\", \"age\": 30}, {\"name\": \"Bob\", \"age\": 25}]\n"
     ]
    }
   ],
   "source": [
    "import json\n",
    "\n",
    "class MyObject:\n",
    "    def __init__(self, name, age):\n",
    "        self.name = name\n",
    "        self.age = age\n",
    "    \n",
    "    def to_dict(self):\n",
    "        return {\"name\": self.name, \"age\": self.age}\n",
    "    \n",
    "    @classmethod\n",
    "    def from_dict(cls, dict_):\n",
    "        return cls(dict_[\"name\"], dict_[\"age\"])\n",
    "        \n",
    "my_list = [MyObject(\"Alice\", 30), MyObject(\"Bob\", 25), [1,2,3]]\n",
    "\n",
    "# Convert the list to a string\n",
    "json_string = json.dumps([obj.to_dict() for obj in my_list if isinstance(obj, MyObject)])\n",
    "print(json_string)\n",
    "# Convert the string back to a list of objects\n",
    "dict_list = json.loads(json_string)\n",
    "my_list = [MyObject.from_dict(obj_dict) for obj_dict in dict_list]\n"
   ]
  },
  {
   "cell_type": "code",
   "execution_count": null,
   "id": "945f9233",
   "metadata": {},
   "outputs": [],
   "source": []
  }
 ],
 "metadata": {
  "kernelspec": {
   "display_name": "Python 3 (ipykernel)",
   "language": "python",
   "name": "python3"
  },
  "language_info": {
   "codemirror_mode": {
    "name": "ipython",
    "version": 3
   },
   "file_extension": ".py",
   "mimetype": "text/x-python",
   "name": "python",
   "nbconvert_exporter": "python",
   "pygments_lexer": "ipython3",
   "version": "3.11.3"
  }
 },
 "nbformat": 4,
 "nbformat_minor": 5
}
