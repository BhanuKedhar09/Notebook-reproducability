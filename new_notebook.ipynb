{
 "cells": [
  {
   "cell_type": "markdown",
   "id": "54992f8c-c2b4-4a58-8c38-a271f0c4a07e",
   "metadata": {},
   "source": [
    "## Large Arrays"
   ]
  },
  {
   "cell_type": "code",
   "execution_count": 1,
   "id": "0feeacfb-4b64-416c-a232-3de290fac7e9",
   "metadata": {
    "execution": {
     "iopub.execute_input": "2023-04-17T16:53:50.844088Z",
     "iopub.status.busy": "2023-04-17T16:53:50.843677Z",
     "iopub.status.idle": "2023-04-17T16:53:51.300786Z",
     "shell.execute_reply": "2023-04-17T16:53:51.300141Z"
    }
   },
   "outputs": [
    {
     "data": {
      "text/plain": [
       "('weather-buoy-data.txt.gz', <http.client.HTTPMessage at 0x1054bea90>)"
      ]
     },
     "execution_count": 1,
     "metadata": {},
     "output_type": "execute_result"
    }
   ],
   "source": [
    "import urllib\n",
    "\n",
    "local_fname = 'weather-buoy-data.txt.gz'\n",
    "urllib.request.urlretrieve('https://www.ndbc.noaa.gov/data/historical/stdmet/42040h2021.txt.gz', local_fname)\n",
    "\n",
    "# np.__version__\n",
    "# !python -V\n",
    "# iii\n",
    "# !python4 -V"
   ]
  },
  {
   "cell_type": "code",
   "execution_count": 2,
   "id": "fe148292",
   "metadata": {
    "execution": {
     "iopub.execute_input": "2023-04-17T16:53:51.304385Z",
     "iopub.status.busy": "2023-04-17T16:53:51.304018Z",
     "iopub.status.idle": "2023-04-17T16:53:51.534702Z",
     "shell.execute_reply": "2023-04-17T16:53:51.533959Z"
    }
   },
   "outputs": [
    {
     "data": {
      "text/plain": [
       "tuple"
      ]
     },
     "execution_count": 2,
     "metadata": {},
     "output_type": "execute_result"
    }
   ],
   "source": [
    "type((urllib.request.urlretrieve('https://www.ndbc.noaa.gov/data/historical/stdmet/42040h2021.txt.gz', local_fname)))\n"
   ]
  },
  {
   "cell_type": "code",
   "execution_count": 3,
   "id": "aa19697d-850f-42ad-8d56-ab81d33281e1",
   "metadata": {
    "execution": {
     "iopub.execute_input": "2023-04-17T16:53:51.538358Z",
     "iopub.status.busy": "2023-04-17T16:53:51.538022Z",
     "iopub.status.idle": "2023-04-17T16:53:51.602655Z",
     "shell.execute_reply": "2023-04-17T16:53:51.602250Z"
    }
   },
   "outputs": [],
   "source": [
    "import gzip\n",
    "\n",
    "f = (gzip.open('weather-buoy-data.txt.gz'))\n",
    "next(f)\n",
    "next(f)\n",
    "vals = []\n",
    "for line in f:\n",
    "    vals.append(float(line.split()[5]))\n"
   ]
  },
  {
   "cell_type": "code",
   "execution_count": 4,
   "id": "ade59537-f921-4ecb-95f4-83360baa2119",
   "metadata": {
    "execution": {
     "iopub.execute_input": "2023-04-17T16:53:51.604451Z",
     "iopub.status.busy": "2023-04-17T16:53:51.604297Z",
     "iopub.status.idle": "2023-04-17T16:53:51.730786Z",
     "shell.execute_reply": "2023-04-17T16:53:51.730283Z"
    }
   },
   "outputs": [
    {
     "data": {
      "text/plain": [
       "array([[88.        , 88.09090909, 88.18181818, ..., 88.        ,\n",
       "        88.09090909, 88.18181818],\n",
       "       [88.27272727, 88.36363636, 88.45454545, ..., 88.27272727,\n",
       "        88.36363636, 88.45454545],\n",
       "       [88.54545455, 88.63636364, 88.72727273, ..., 88.54545455,\n",
       "        88.63636364, 88.72727273],\n",
       "       ...,\n",
       "       [88.81818182, 88.        , 88.09090909, ..., 88.81818182,\n",
       "        88.        , 88.09090909],\n",
       "       [88.18181818, 88.27272727, 88.36363636, ..., 88.18181818,\n",
       "        88.27272727, 88.36363636],\n",
       "       [88.45454545, 88.54545455, 88.63636364, ..., 88.45454545,\n",
       "        88.54545455, 88.63636364]])"
      ]
     },
     "execution_count": 4,
     "metadata": {},
     "output_type": "execute_result"
    }
   ],
   "source": [
    "import numpy as np\n",
    "\n",
    "orig = (vals[0] + (np.arange(len(vals)) % 10) / 11).reshape((16,2333))\n",
    "# np.set_printoptions(edgeitems = 3)\n",
    "# np.core.arrayprint._line_width = 180\n",
    "# len(\"array([[88.     , 88.09091, 88.18182, 88.27273, ..., 88.81818, 88.     \")\n",
    "orig"
   ]
  },
  {
   "cell_type": "code",
   "execution_count": 5,
   "id": "157a00ad",
   "metadata": {
    "execution": {
     "iopub.execute_input": "2023-04-17T16:53:51.733278Z",
     "iopub.status.busy": "2023-04-17T16:53:51.732884Z",
     "iopub.status.idle": "2023-04-17T16:53:51.736348Z",
     "shell.execute_reply": "2023-04-17T16:53:51.735833Z"
    }
   },
   "outputs": [
    {
     "data": {
      "text/plain": [
       "numpy.ndarray"
      ]
     },
     "execution_count": 5,
     "metadata": {},
     "output_type": "execute_result"
    }
   ],
   "source": [
    "type((orig))\n"
   ]
  },
  {
   "cell_type": "code",
   "execution_count": 6,
   "id": "02956456-f862-4ffc-80a5-f3c778f7d4ad",
   "metadata": {
    "execution": {
     "iopub.execute_input": "2023-04-17T16:53:51.738296Z",
     "iopub.status.busy": "2023-04-17T16:53:51.738146Z",
     "iopub.status.idle": "2023-04-17T16:53:51.742166Z",
     "shell.execute_reply": "2023-04-17T16:53:51.741755Z"
    }
   },
   "outputs": [
    {
     "data": {
      "text/plain": [
       "array([[88.  , 88.09, 88.18, ..., 88.  , 88.09, 88.18],\n",
       "       [88.27, 88.36, 88.45, ..., 88.27, 88.36, 88.45],\n",
       "       [88.55, 88.64, 88.73, ..., 88.55, 88.64, 88.73],\n",
       "       ...,\n",
       "       [88.82, 88.  , 88.09, ..., 88.82, 88.  , 88.09],\n",
       "       [88.18, 88.27, 88.36, ..., 88.18, 88.27, 88.36],\n",
       "       [88.45, 88.55, 88.64, ..., 88.45, 88.55, 88.64]])"
      ]
     },
     "execution_count": 6,
     "metadata": {},
     "output_type": "execute_result"
    }
   ],
   "source": [
    "import numpy as np\n",
    "a = np.round(orig, 2)\n",
    "a"
   ]
  },
  {
   "cell_type": "code",
   "execution_count": 7,
   "id": "1613bc95",
   "metadata": {
    "execution": {
     "iopub.execute_input": "2023-04-17T16:53:51.743913Z",
     "iopub.status.busy": "2023-04-17T16:53:51.743736Z",
     "iopub.status.idle": "2023-04-17T16:53:51.746802Z",
     "shell.execute_reply": "2023-04-17T16:53:51.746350Z"
    }
   },
   "outputs": [
    {
     "data": {
      "text/plain": [
       "numpy.ndarray"
      ]
     },
     "execution_count": 7,
     "metadata": {},
     "output_type": "execute_result"
    }
   ],
   "source": [
    "type((a))\n"
   ]
  },
  {
   "cell_type": "code",
   "execution_count": 8,
   "id": "51bb045f-c544-4b61-b4dc-2efcdeb42961",
   "metadata": {
    "execution": {
     "iopub.execute_input": "2023-04-17T16:53:51.748605Z",
     "iopub.status.busy": "2023-04-17T16:53:51.748425Z",
     "iopub.status.idle": "2023-04-17T16:53:51.751992Z",
     "shell.execute_reply": "2023-04-17T16:53:51.751591Z"
    }
   },
   "outputs": [
    {
     "data": {
      "text/plain": [
       "array([[88.  , 88.09, 88.18, ..., 88.  , 88.09, 88.18],\n",
       "       [88.27, 88.36, 88.45, ..., 88.27, 88.36, 88.45],\n",
       "       [88.54, 88.63, 88.72, ..., 88.54, 88.63, 88.72],\n",
       "       ...,\n",
       "       [88.81, 88.  , 88.09, ..., 88.81, 88.  , 88.09],\n",
       "       [88.18, 88.27, 88.36, ..., 88.18, 88.27, 88.36],\n",
       "       [88.45, 88.54, 88.63, ..., 88.45, 88.54, 88.63]])"
      ]
     },
     "execution_count": 8,
     "metadata": {},
     "output_type": "execute_result"
    }
   ],
   "source": [
    "b = np.floor(orig*100)/100\n",
    "b"
   ]
  },
  {
   "cell_type": "code",
   "execution_count": 9,
   "id": "a6eb7b62",
   "metadata": {
    "execution": {
     "iopub.execute_input": "2023-04-17T16:53:51.753688Z",
     "iopub.status.busy": "2023-04-17T16:53:51.753515Z",
     "iopub.status.idle": "2023-04-17T16:53:51.756554Z",
     "shell.execute_reply": "2023-04-17T16:53:51.756153Z"
    }
   },
   "outputs": [
    {
     "data": {
      "text/plain": [
       "numpy.ndarray"
      ]
     },
     "execution_count": 9,
     "metadata": {},
     "output_type": "execute_result"
    }
   ],
   "source": [
    "type((b))\n"
   ]
  },
  {
   "cell_type": "code",
   "execution_count": 10,
   "id": "5b1a8aec-1cbf-4ca3-bb52-2504b0b43e74",
   "metadata": {
    "execution": {
     "iopub.execute_input": "2023-04-17T16:53:51.758753Z",
     "iopub.status.busy": "2023-04-17T16:53:51.758571Z",
     "iopub.status.idle": "2023-04-17T16:53:51.762280Z",
     "shell.execute_reply": "2023-04-17T16:53:51.761840Z"
    }
   },
   "outputs": [
    {
     "data": {
      "text/plain": [
       "array([[88.  , 88.09, 88.18, ..., 88.  , 88.09, 88.18],\n",
       "       [88.27, 88.36, 88.45, ..., 88.27, 88.36, 88.45],\n",
       "       [88.55, 88.64, 88.73, ..., 88.55, 88.64, 88.73],\n",
       "       ...,\n",
       "       [88.82, 88.  , 88.09, ..., 88.82, 88.  , 88.09],\n",
       "       [88.18, 88.27, 88.36, ..., 88.18, 88.27, 88.36],\n",
       "       [88.45, 88.55, 88.64, ..., 88.45, 88.55, 88.64]])"
      ]
     },
     "execution_count": 10,
     "metadata": {},
     "output_type": "execute_result"
    }
   ],
   "source": [
    "c = np.delete(a, 5, 1)\n",
    "c"
   ]
  },
  {
   "cell_type": "code",
   "execution_count": 11,
   "id": "ba2f6865",
   "metadata": {
    "execution": {
     "iopub.execute_input": "2023-04-17T16:53:51.764210Z",
     "iopub.status.busy": "2023-04-17T16:53:51.764030Z",
     "iopub.status.idle": "2023-04-17T16:53:51.767468Z",
     "shell.execute_reply": "2023-04-17T16:53:51.766901Z"
    }
   },
   "outputs": [
    {
     "data": {
      "text/plain": [
       "numpy.ndarray"
      ]
     },
     "execution_count": 11,
     "metadata": {},
     "output_type": "execute_result"
    }
   ],
   "source": [
    "type((c))\n"
   ]
  },
  {
   "cell_type": "code",
   "execution_count": 12,
   "id": "b06e6f5e-c805-4435-85d3-430744ca15c8",
   "metadata": {
    "execution": {
     "iopub.execute_input": "2023-04-17T16:53:51.769215Z",
     "iopub.status.busy": "2023-04-17T16:53:51.769074Z",
     "iopub.status.idle": "2023-04-17T16:53:51.772439Z",
     "shell.execute_reply": "2023-04-17T16:53:51.771884Z"
    }
   },
   "outputs": [
    {
     "data": {
      "text/plain": [
       "False"
      ]
     },
     "execution_count": 12,
     "metadata": {},
     "output_type": "execute_result"
    }
   ],
   "source": [
    "np.array_equal(a,c)"
   ]
  },
  {
   "cell_type": "code",
   "execution_count": 13,
   "id": "6190a532",
   "metadata": {
    "execution": {
     "iopub.execute_input": "2023-04-17T16:53:51.774399Z",
     "iopub.status.busy": "2023-04-17T16:53:51.774222Z",
     "iopub.status.idle": "2023-04-17T16:53:51.778375Z",
     "shell.execute_reply": "2023-04-17T16:53:51.777854Z"
    }
   },
   "outputs": [
    {
     "data": {
      "text/plain": [
       "bool"
      ]
     },
     "execution_count": 13,
     "metadata": {},
     "output_type": "execute_result"
    }
   ],
   "source": [
    "type((np.array_equal(a,c)))\n"
   ]
  },
  {
   "cell_type": "code",
   "execution_count": 14,
   "id": "a63120a7-7626-4692-938c-f90e01d93d9b",
   "metadata": {
    "execution": {
     "iopub.execute_input": "2023-04-17T16:53:51.780549Z",
     "iopub.status.busy": "2023-04-17T16:53:51.780332Z",
     "iopub.status.idle": "2023-04-17T16:53:51.783912Z",
     "shell.execute_reply": "2023-04-17T16:53:51.783452Z"
    }
   },
   "outputs": [
    {
     "data": {
      "text/plain": [
       "((16, 2333), (16, 2333), (16, 2332))"
      ]
     },
     "execution_count": 14,
     "metadata": {},
     "output_type": "execute_result"
    }
   ],
   "source": [
    "a.shape, b.shape, c.shape"
   ]
  },
  {
   "cell_type": "code",
   "execution_count": 15,
   "id": "5162f64e",
   "metadata": {
    "execution": {
     "iopub.execute_input": "2023-04-17T16:53:51.785908Z",
     "iopub.status.busy": "2023-04-17T16:53:51.785739Z",
     "iopub.status.idle": "2023-04-17T16:53:51.789290Z",
     "shell.execute_reply": "2023-04-17T16:53:51.788662Z"
    }
   },
   "outputs": [
    {
     "data": {
      "text/plain": [
       "tuple"
      ]
     },
     "execution_count": 15,
     "metadata": {},
     "output_type": "execute_result"
    }
   ],
   "source": [
    "type((a.shape, b.shape, c.shape))\n"
   ]
  },
  {
   "cell_type": "markdown",
   "id": "e1854ad0-0b11-4317-a025-84a31087f089",
   "metadata": {},
   "source": [
    "## Real-Time Data"
   ]
  },
  {
   "cell_type": "code",
   "execution_count": 16,
   "id": "ab24461a-a74b-4b24-a49b-c9682426906e",
   "metadata": {
    "execution": {
     "iopub.execute_input": "2023-04-17T16:53:51.791063Z",
     "iopub.status.busy": "2023-04-17T16:53:51.790918Z",
     "iopub.status.idle": "2023-04-17T16:53:51.961955Z",
     "shell.execute_reply": "2023-04-17T16:53:51.961622Z"
    }
   },
   "outputs": [
    {
     "data": {
      "text/plain": [
       "('fl-weather-alerts.json', <http.client.HTTPMessage at 0x105fc6590>)"
      ]
     },
     "execution_count": 16,
     "metadata": {},
     "output_type": "execute_result"
    }
   ],
   "source": [
    "import urllib\n",
    "\n",
    "local_fname = 'fl-weather-alerts.json'\n",
    "urllib.request.urlretrieve('https://api.weather.gov/alerts/active?area=FL', local_fname)"
   ]
  },
  {
   "cell_type": "code",
   "execution_count": 17,
   "id": "dd3ed069",
   "metadata": {
    "execution": {
     "iopub.execute_input": "2023-04-17T16:53:51.963501Z",
     "iopub.status.busy": "2023-04-17T16:53:51.963376Z",
     "iopub.status.idle": "2023-04-17T16:53:52.038034Z",
     "shell.execute_reply": "2023-04-17T16:53:52.037729Z"
    }
   },
   "outputs": [
    {
     "data": {
      "text/plain": [
       "tuple"
      ]
     },
     "execution_count": 17,
     "metadata": {},
     "output_type": "execute_result"
    }
   ],
   "source": [
    "type((urllib.request.urlretrieve('https://api.weather.gov/alerts/active?area=FL', local_fname)))\n"
   ]
  },
  {
   "cell_type": "code",
   "execution_count": 18,
   "id": "2477e9a1-c60d-4619-97c1-c8aaa218509a",
   "metadata": {
    "execution": {
     "iopub.execute_input": "2023-04-17T16:53:52.039423Z",
     "iopub.status.busy": "2023-04-17T16:53:52.039306Z",
     "iopub.status.idle": "2023-04-17T16:53:52.041433Z",
     "shell.execute_reply": "2023-04-17T16:53:52.041153Z"
    }
   },
   "outputs": [],
   "source": [
    "import json\n",
    "d = json.load(open(local_fname));"
   ]
  },
  {
   "cell_type": "code",
   "execution_count": 19,
   "id": "ff516426-38e8-40e1-9728-ff85ee668631",
   "metadata": {
    "execution": {
     "iopub.execute_input": "2023-04-17T16:53:52.042744Z",
     "iopub.status.busy": "2023-04-17T16:53:52.042627Z",
     "iopub.status.idle": "2023-04-17T16:53:52.044954Z",
     "shell.execute_reply": "2023-04-17T16:53:52.044675Z"
    }
   },
   "outputs": [
    {
     "data": {
      "text/plain": [
       "2"
      ]
     },
     "execution_count": 19,
     "metadata": {},
     "output_type": "execute_result"
    }
   ],
   "source": [
    "len(d['features'])"
   ]
  },
  {
   "cell_type": "code",
   "execution_count": 20,
   "id": "bb5c60a2",
   "metadata": {
    "execution": {
     "iopub.execute_input": "2023-04-17T16:53:52.046197Z",
     "iopub.status.busy": "2023-04-17T16:53:52.046096Z",
     "iopub.status.idle": "2023-04-17T16:53:52.048516Z",
     "shell.execute_reply": "2023-04-17T16:53:52.048223Z"
    }
   },
   "outputs": [
    {
     "data": {
      "text/plain": [
       "int"
      ]
     },
     "execution_count": 20,
     "metadata": {},
     "output_type": "execute_result"
    }
   ],
   "source": [
    "type((len(d['features'])))\n"
   ]
  },
  {
   "cell_type": "code",
   "execution_count": 21,
   "id": "3e99559e-ce3d-4b0c-96fb-4529a89bb7d8",
   "metadata": {
    "execution": {
     "iopub.execute_input": "2023-04-17T16:53:52.049723Z",
     "iopub.status.busy": "2023-04-17T16:53:52.049628Z",
     "iopub.status.idle": "2023-04-17T16:53:52.052144Z",
     "shell.execute_reply": "2023-04-17T16:53:52.051877Z"
    }
   },
   "outputs": [
    {
     "data": {
      "text/plain": [
       "['Beach Hazards Statement issued April 17 at 4:58AM EDT until April 18 at 4:00AM EDT by NWS Melbourne FL',\n",
       " 'Rip Current Statement issued April 17 at 2:21AM EDT until April 17 at 8:00PM EDT by NWS Tallahassee FL']"
      ]
     },
     "execution_count": 21,
     "metadata": {},
     "output_type": "execute_result"
    }
   ],
   "source": [
    "[feat['properties']['headline'] for feat in d['features']]"
   ]
  },
  {
   "cell_type": "code",
   "execution_count": 22,
   "id": "be9a19ef",
   "metadata": {
    "execution": {
     "iopub.execute_input": "2023-04-17T16:53:52.053372Z",
     "iopub.status.busy": "2023-04-17T16:53:52.053280Z",
     "iopub.status.idle": "2023-04-17T16:53:52.055696Z",
     "shell.execute_reply": "2023-04-17T16:53:52.055416Z"
    }
   },
   "outputs": [
    {
     "data": {
      "text/plain": [
       "list"
      ]
     },
     "execution_count": 22,
     "metadata": {},
     "output_type": "execute_result"
    }
   ],
   "source": [
    "type(([feat['properties']['headline'] for feat in d['features']]))\n"
   ]
  },
  {
   "cell_type": "code",
   "execution_count": null,
   "id": "c1394719-1453-4afb-98f3-7bb60e76637c",
   "metadata": {},
   "outputs": [],
   "source": []
  },
  {
   "cell_type": "code",
   "execution_count": null,
   "id": "1f007519",
   "metadata": {},
   "outputs": [],
   "source": []
  }
 ],
 "metadata": {
  "kernelspec": {
   "display_name": "Python 3.10.0 64-bit",
   "language": "python",
   "name": "python3"
  },
  "language_info": {
   "codemirror_mode": {
    "name": "ipython",
    "version": 3
   },
   "file_extension": ".py",
   "mimetype": "text/x-python",
   "name": "python",
   "nbconvert_exporter": "python",
   "pygments_lexer": "ipython3",
   "version": "3.11.3"
  },
  "vscode": {
   "interpreter": {
    "hash": "aee8b7b246df8f9039afb4144a1f6fd8d2ca17a180786b69acc140d282b71a49"
   }
  }
 },
 "nbformat": 4,
 "nbformat_minor": 5
}
