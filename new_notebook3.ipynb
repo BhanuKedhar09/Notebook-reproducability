{
 "cells": [
  {
   "cell_type": "code",
   "execution_count": 1,
   "id": "ddce76d7",
   "metadata": {
    "execution": {
     "iopub.execute_input": "2023-04-14T15:18:37.308319Z",
     "iopub.status.busy": "2023-04-14T15:18:37.307809Z",
     "iopub.status.idle": "2023-04-14T15:18:37.322600Z",
     "shell.execute_reply": "2023-04-14T15:18:37.322227Z"
    }
   },
   "outputs": [],
   "source": [
    "\n",
    "types = dict()\n",
    "def get_types(obj):\n",
    "    if isinstance(obj, dict):\n",
    "        return {type(obj).__name__: {k: get_types(v) for k, v in obj.items()}}\n",
    "    elif isinstance(obj, (list, tuple, set)):\n",
    "        return {type(obj).__name__: [get_types(item) for item in obj]}\n",
    "    else:\n",
    "        return type(obj).__name__\n"
   ]
  },
  {
   "cell_type": "code",
   "execution_count": 2,
   "metadata": {
    "execution": {
     "iopub.execute_input": "2023-04-14T15:18:37.325388Z",
     "iopub.status.busy": "2023-04-14T15:18:37.325139Z",
     "iopub.status.idle": "2023-04-14T15:18:37.331967Z",
     "shell.execute_reply": "2023-04-14T15:18:37.331650Z"
    }
   },
   "outputs": [
    {
     "data": {
      "text/plain": [
       "({'a', 'a', 'b'}, {'a', 'b', 'c', 'c'})"
      ]
     },
     "execution_count": 2,
     "metadata": {},
     "output_type": "execute_result"
    }
   ],
   "source": [
    "from multiset import Multiset\n",
    "\n",
    "class MyMultiset(Multiset):\n",
    "    def __repr__(self):\n",
    "        return '{%s}' % ', '.join(map(repr, self.__iter__()))\n",
    "\n",
    "set1 = MyMultiset('aab')\n",
    "set2 = MyMultiset('abcc')\n",
    "(set1, set2)"
   ]
  },
  {
   "cell_type": "code",
   "execution_count": 3,
   "id": "aeb9513a",
   "metadata": {
    "execution": {
     "iopub.execute_input": "2023-04-14T15:18:37.359423Z",
     "iopub.status.busy": "2023-04-14T15:18:37.359098Z",
     "iopub.status.idle": "2023-04-14T15:18:37.361459Z",
     "shell.execute_reply": "2023-04-14T15:18:37.361145Z"
    }
   },
   "outputs": [],
   "source": [
    "types[0] = get_types(((set1, set2)))\n"
   ]
  },
  {
   "cell_type": "code",
   "execution_count": null,
   "metadata": {},
   "outputs": [],
   "source": []
  },
  {
   "cell_type": "code",
   "execution_count": null,
   "metadata": {},
   "outputs": [],
   "source": []
  },
  {
   "cell_type": "code",
   "execution_count": null,
   "metadata": {},
   "outputs": [],
   "source": []
  }
 ],
 "metadata": {
  "kernelspec": {
   "display_name": "Python 3.11.3 64-bit",
   "language": "python",
   "name": "python3"
  },
  "language_info": {
   "codemirror_mode": {
    "name": "ipython",
    "version": 3
   },
   "file_extension": ".py",
   "mimetype": "text/x-python",
   "name": "python",
   "nbconvert_exporter": "python",
   "pygments_lexer": "ipython3",
   "version": "3.11.3"
  },
  "vscode": {
   "interpreter": {
    "hash": "aee8b7b246df8f9039afb4144a1f6fd8d2ca17a180786b69acc140d282b71a49"
   }
  }
 },
 "nbformat": 4,
 "nbformat_minor": 2
}
