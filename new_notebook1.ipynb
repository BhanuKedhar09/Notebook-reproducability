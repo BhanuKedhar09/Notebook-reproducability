{
 "cells": [
  {
   "cell_type": "markdown",
   "id": "54992f8c-c2b4-4a58-8c38-a271f0c4a07e",
   "metadata": {},
   "source": [
    "## Large Arrays"
   ]
  },
  {
   "cell_type": "code",
   "execution_count": 1,
   "id": "0feeacfb-4b64-416c-a232-3de290fac7e9",
   "metadata": {
    "execution": {
     "iopub.execute_input": "2023-04-10T01:54:22.730441Z",
     "iopub.status.busy": "2023-04-10T01:54:22.730080Z",
     "iopub.status.idle": "2023-04-10T01:54:23.296431Z",
     "shell.execute_reply": "2023-04-10T01:54:23.295756Z"
    }
   },
   "outputs": [
    {
     "data": {
      "text/plain": [
       "('weather-buoy-data.txt.gz', <http.client.HTTPMessage at 0x10835b010>)"
      ]
     },
     "execution_count": 1,
     "metadata": {},
     "output_type": "execute_result"
    }
   ],
   "source": [
    "import urllib\n",
    "\n",
    "local_fname = 'weather-buoy-data.txt.gz'\n",
    "urllib.request.urlretrieve('https://www.ndbc.noaa.gov/data/historical/stdmet/42040h2021.txt.gz', local_fname)\n",
    "\n",
    "# np.__version__\n",
    "# !python -V\n",
    "# iii\n",
    "# !python4 -V"
   ]
  },
  {
   "cell_type": "code",
   "execution_count": 2,
   "id": "aa19697d-850f-42ad-8d56-ab81d33281e1",
   "metadata": {
    "execution": {
     "iopub.execute_input": "2023-04-10T01:54:23.899282Z",
     "iopub.status.busy": "2023-04-10T01:54:23.898768Z",
     "iopub.status.idle": "2023-04-10T01:54:23.962536Z",
     "shell.execute_reply": "2023-04-10T01:54:23.962133Z"
    }
   },
   "outputs": [],
   "source": [
    "import gzip\n",
    "\n",
    "f = (gzip.open('weather-buoy-data.txt.gz'))\n",
    "next(f)\n",
    "next(f)\n",
    "vals = []\n",
    "for line in f:\n",
    "    vals.append(float(line.split()[5]))\n"
   ]
  },
  {
   "cell_type": "code",
   "execution_count": 3,
   "id": "ade59537-f921-4ecb-95f4-83360baa2119",
   "metadata": {
    "execution": {
     "iopub.execute_input": "2023-04-10T01:54:23.964390Z",
     "iopub.status.busy": "2023-04-10T01:54:23.964241Z",
     "iopub.status.idle": "2023-04-10T01:54:24.026947Z",
     "shell.execute_reply": "2023-04-10T01:54:24.026216Z"
    }
   },
   "outputs": [
    {
     "data": {
      "text/plain": [
       "array([[88.        , 88.09090909, 88.18181818, ..., 88.        ,\n",
       "        88.09090909, 88.18181818],\n",
       "       [88.27272727, 88.36363636, 88.45454545, ..., 88.27272727,\n",
       "        88.36363636, 88.45454545],\n",
       "       [88.54545455, 88.63636364, 88.72727273, ..., 88.54545455,\n",
       "        88.63636364, 88.72727273],\n",
       "       ...,\n",
       "       [88.81818182, 88.        , 88.09090909, ..., 88.81818182,\n",
       "        88.        , 88.09090909],\n",
       "       [88.18181818, 88.27272727, 88.36363636, ..., 88.18181818,\n",
       "        88.27272727, 88.36363636],\n",
       "       [88.45454545, 88.54545455, 88.63636364, ..., 88.45454545,\n",
       "        88.54545455, 88.63636364]])"
      ]
     },
     "execution_count": 3,
     "metadata": {},
     "output_type": "execute_result"
    }
   ],
   "source": [
    "import numpy as np\n",
    "\n",
    "orig = (vals[0] + (np.arange(len(vals)) % 10) / 11).reshape((16,2333))\n",
    "# np.set_printoptions(edgeitems = 3)\n",
    "# np.core.arrayprint._line_width = 180\n",
    "# len(\"array([[88.     , 88.09091, 88.18182, 88.27273, ..., 88.81818, 88.     \")\n",
    "orig"
   ]
  },
  {
   "cell_type": "code",
   "execution_count": 4,
   "id": "02956456-f862-4ffc-80a5-f3c778f7d4ad",
   "metadata": {
    "execution": {
     "iopub.execute_input": "2023-04-10T01:54:24.042775Z",
     "iopub.status.busy": "2023-04-10T01:54:24.042586Z",
     "iopub.status.idle": "2023-04-10T01:54:24.047327Z",
     "shell.execute_reply": "2023-04-10T01:54:24.046893Z"
    }
   },
   "outputs": [
    {
     "data": {
      "text/plain": [
       "array([[88.  , 88.09, 88.18, ..., 88.  , 88.09, 88.18],\n",
       "       [88.27, 88.36, 88.45, ..., 88.27, 88.36, 88.45],\n",
       "       [88.55, 88.64, 88.73, ..., 88.55, 88.64, 88.73],\n",
       "       ...,\n",
       "       [88.82, 88.  , 88.09, ..., 88.82, 88.  , 88.09],\n",
       "       [88.18, 88.27, 88.36, ..., 88.18, 88.27, 88.36],\n",
       "       [88.45, 88.55, 88.64, ..., 88.45, 88.55, 88.64]])"
      ]
     },
     "execution_count": 4,
     "metadata": {},
     "output_type": "execute_result"
    }
   ],
   "source": [
    "import numpy as np\n",
    "a = np.round(orig, 2)\n",
    "a"
   ]
  },
  {
   "cell_type": "code",
   "execution_count": 5,
   "id": "51bb045f-c544-4b61-b4dc-2efcdeb42961",
   "metadata": {
    "execution": {
     "iopub.execute_input": "2023-04-10T01:54:24.062867Z",
     "iopub.status.busy": "2023-04-10T01:54:24.062733Z",
     "iopub.status.idle": "2023-04-10T01:54:24.067956Z",
     "shell.execute_reply": "2023-04-10T01:54:24.067485Z"
    }
   },
   "outputs": [
    {
     "data": {
      "text/plain": [
       "array([[88.  , 88.09, 88.18, ..., 88.  , 88.09, 88.18],\n",
       "       [88.27, 88.36, 88.45, ..., 88.27, 88.36, 88.45],\n",
       "       [88.54, 88.63, 88.72, ..., 88.54, 88.63, 88.72],\n",
       "       ...,\n",
       "       [88.81, 88.  , 88.09, ..., 88.81, 88.  , 88.09],\n",
       "       [88.18, 88.27, 88.36, ..., 88.18, 88.27, 88.36],\n",
       "       [88.45, 88.54, 88.63, ..., 88.45, 88.54, 88.63]])"
      ]
     },
     "execution_count": 5,
     "metadata": {},
     "output_type": "execute_result"
    }
   ],
   "source": [
    "b = np.floor(orig*100)/100\n",
    "b"
   ]
  },
  {
   "cell_type": "code",
   "execution_count": 6,
   "id": "5b1a8aec-1cbf-4ca3-bb52-2504b0b43e74",
   "metadata": {
    "execution": {
     "iopub.execute_input": "2023-04-10T01:54:24.084443Z",
     "iopub.status.busy": "2023-04-10T01:54:24.084283Z",
     "iopub.status.idle": "2023-04-10T01:54:24.089513Z",
     "shell.execute_reply": "2023-04-10T01:54:24.089070Z"
    }
   },
   "outputs": [
    {
     "data": {
      "text/plain": [
       "array([[88.  , 88.09, 88.18, ..., 88.  , 88.09, 88.18],\n",
       "       [88.27, 88.36, 88.45, ..., 88.27, 88.36, 88.45],\n",
       "       [88.55, 88.64, 88.73, ..., 88.55, 88.64, 88.73],\n",
       "       ...,\n",
       "       [88.82, 88.  , 88.09, ..., 88.82, 88.  , 88.09],\n",
       "       [88.18, 88.27, 88.36, ..., 88.18, 88.27, 88.36],\n",
       "       [88.45, 88.55, 88.64, ..., 88.45, 88.55, 88.64]])"
      ]
     },
     "execution_count": 6,
     "metadata": {},
     "output_type": "execute_result"
    }
   ],
   "source": [
    "c = np.delete(a, 5, 1)\n",
    "c"
   ]
  },
  {
   "cell_type": "code",
   "execution_count": 7,
   "id": "b06e6f5e-c805-4435-85d3-430744ca15c8",
   "metadata": {
    "execution": {
     "iopub.execute_input": "2023-04-10T01:54:24.104264Z",
     "iopub.status.busy": "2023-04-10T01:54:24.104090Z",
     "iopub.status.idle": "2023-04-10T01:54:24.108445Z",
     "shell.execute_reply": "2023-04-10T01:54:24.108018Z"
    }
   },
   "outputs": [
    {
     "data": {
      "text/plain": [
       "False"
      ]
     },
     "execution_count": 7,
     "metadata": {},
     "output_type": "execute_result"
    }
   ],
   "source": [
    "np.array_equal(a,c)"
   ]
  },
  {
   "cell_type": "code",
   "execution_count": 8,
   "id": "a63120a7-7626-4692-938c-f90e01d93d9b",
   "metadata": {
    "execution": {
     "iopub.execute_input": "2023-04-10T01:54:24.124127Z",
     "iopub.status.busy": "2023-04-10T01:54:24.123954Z",
     "iopub.status.idle": "2023-04-10T01:54:24.130031Z",
     "shell.execute_reply": "2023-04-10T01:54:24.129551Z"
    }
   },
   "outputs": [
    {
     "data": {
      "text/plain": [
       "((16, 2333), (16, 2333), (16, 2332))"
      ]
     },
     "execution_count": 8,
     "metadata": {},
     "output_type": "execute_result"
    }
   ],
   "source": [
    "a.shape, b.shape, c.shape"
   ]
  },
  {
   "cell_type": "markdown",
   "id": "e1854ad0-0b11-4317-a025-84a31087f089",
   "metadata": {},
   "source": [
    "## Real-Time Data"
   ]
  },
  {
   "cell_type": "code",
   "execution_count": 9,
   "id": "ab24461a-a74b-4b24-a49b-c9682426906e",
   "metadata": {
    "execution": {
     "iopub.execute_input": "2023-04-10T01:54:24.148226Z",
     "iopub.status.busy": "2023-04-10T01:54:24.148055Z",
     "iopub.status.idle": "2023-04-10T01:54:25.344901Z",
     "shell.execute_reply": "2023-04-10T01:54:25.344304Z"
    }
   },
   "outputs": [
    {
     "data": {
      "text/plain": [
       "('fl-weather-alerts.json', <http.client.HTTPMessage at 0x10835bf10>)"
      ]
     },
     "execution_count": 9,
     "metadata": {},
     "output_type": "execute_result"
    }
   ],
   "source": [
    "import urllib\n",
    "\n",
    "local_fname = 'fl-weather-alerts.json'\n",
    "urllib.request.urlretrieve('https://api.weather.gov/alerts/active?area=FL', local_fname)"
   ]
  },
  {
   "cell_type": "code",
   "execution_count": 10,
   "id": "2477e9a1-c60d-4619-97c1-c8aaa218509a",
   "metadata": {
    "execution": {
     "iopub.execute_input": "2023-04-10T01:54:25.883546Z",
     "iopub.status.busy": "2023-04-10T01:54:25.883312Z",
     "iopub.status.idle": "2023-04-10T01:54:25.887451Z",
     "shell.execute_reply": "2023-04-10T01:54:25.886914Z"
    }
   },
   "outputs": [],
   "source": [
    "import json\n",
    "d = json.load(open(local_fname));"
   ]
  },
  {
   "cell_type": "code",
   "execution_count": 11,
   "id": "ff516426-38e8-40e1-9728-ff85ee668631",
   "metadata": {
    "execution": {
     "iopub.execute_input": "2023-04-10T01:54:25.889733Z",
     "iopub.status.busy": "2023-04-10T01:54:25.889555Z",
     "iopub.status.idle": "2023-04-10T01:54:25.893298Z",
     "shell.execute_reply": "2023-04-10T01:54:25.892835Z"
    }
   },
   "outputs": [
    {
     "data": {
      "text/plain": [
       "18"
      ]
     },
     "execution_count": 11,
     "metadata": {},
     "output_type": "execute_result"
    }
   ],
   "source": [
    "len(d['features'])"
   ]
  },
  {
   "cell_type": "code",
   "execution_count": 12,
   "id": "3e99559e-ce3d-4b0c-96fb-4529a89bb7d8",
   "metadata": {
    "execution": {
     "iopub.execute_input": "2023-04-10T01:54:25.909245Z",
     "iopub.status.busy": "2023-04-10T01:54:25.909062Z",
     "iopub.status.idle": "2023-04-10T01:54:25.913484Z",
     "shell.execute_reply": "2023-04-10T01:54:25.913005Z"
    }
   },
   "outputs": [
    {
     "data": {
      "text/plain": [
       "['Rip Current Statement issued April 9 at 9:01PM EDT until April 13 at 3:00AM EDT by NWS Jacksonville FL',\n",
       " 'Coastal Flood Advisory issued April 9 at 9:01PM EDT until April 12 at 5:00AM EDT by NWS Jacksonville FL',\n",
       " 'High Surf Advisory issued April 9 at 9:01PM EDT until April 12 at 5:00AM EDT by NWS Jacksonville FL',\n",
       " 'Coastal Flood Warning issued April 9 at 9:01PM EDT until April 11 at 5:00AM EDT by NWS Jacksonville FL',\n",
       " 'Rip Current Statement issued April 9 at 7:15PM EDT until April 12 at 8:00AM EDT by NWS Miami FL',\n",
       " 'Rip Current Statement issued April 9 at 7:15PM EDT until April 12 at 8:00AM EDT by NWS Miami FL',\n",
       " 'High Surf Advisory issued April 9 at 7:15PM EDT until April 12 at 8:00AM EDT by NWS Miami FL',\n",
       " 'High Surf Advisory issued April 9 at 7:15PM EDT until April 12 at 8:00AM EDT by NWS Miami FL',\n",
       " 'Rip Current Statement issued April 9 at 2:41PM EDT until April 9 at 10:00PM EDT by NWS Tallahassee FL',\n",
       " 'Wind Advisory issued April 9 at 2:00PM EDT until April 10 at 8:00PM EDT by NWS Jacksonville FL',\n",
       " 'Wind Advisory issued April 9 at 4:14AM EDT until April 10 at 4:00AM EDT by NWS Melbourne FL',\n",
       " 'High Surf Advisory issued April 9 at 4:08AM EDT until April 11 at 4:00PM EDT by NWS Melbourne FL',\n",
       " 'High Surf Advisory issued April 9 at 4:08AM EDT until April 11 at 4:00PM EDT by NWS Melbourne FL',\n",
       " 'Coastal Flood Warning issued April 9 at 4:08AM EDT until April 11 at 4:00AM EDT by NWS Melbourne FL',\n",
       " 'Coastal Flood Advisory issued April 9 at 4:08AM EDT until April 11 at 4:00AM EDT by NWS Melbourne FL',\n",
       " 'Beach Hazards Statement issued April 9 at 4:08AM EDT until April 10 at 4:00AM EDT by NWS Melbourne FL',\n",
       " 'Beach Hazards Statement issued April 9 at 4:08AM EDT until April 10 at 4:00AM EDT by NWS Melbourne FL',\n",
       " 'Beach Hazards Statement issued April 9 at 4:08AM EDT until April 10 at 4:00AM EDT by NWS Melbourne FL']"
      ]
     },
     "execution_count": 12,
     "metadata": {},
     "output_type": "execute_result"
    }
   ],
   "source": [
    "[feat['properties']['headline'] for feat in d['features']]"
   ]
  },
  {
   "cell_type": "code",
   "execution_count": null,
   "id": "c1394719-1453-4afb-98f3-7bb60e76637c",
   "metadata": {},
   "outputs": [],
   "source": []
  },
  {
   "cell_type": "code",
   "execution_count": null,
   "id": "1f007519",
   "metadata": {},
   "outputs": [],
   "source": []
  }
 ],
 "metadata": {
  "kernelspec": {
   "display_name": "Python 3.10.0 64-bit",
   "language": "python",
   "name": "python3"
  },
  "language_info": {
   "codemirror_mode": {
    "name": "ipython",
    "version": 3
   },
   "file_extension": ".py",
   "mimetype": "text/x-python",
   "name": "python",
   "nbconvert_exporter": "python",
   "pygments_lexer": "ipython3",
   "version": "3.11.3"
  },
  "vscode": {
   "interpreter": {
    "hash": "aee8b7b246df8f9039afb4144a1f6fd8d2ca17a180786b69acc140d282b71a49"
   }
  }
 },
 "nbformat": 4,
 "nbformat_minor": 5
}
