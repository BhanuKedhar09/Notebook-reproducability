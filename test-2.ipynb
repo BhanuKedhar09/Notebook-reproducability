{
 "cells": [
  {
   "cell_type": "code",
   "execution_count": 31,
   "metadata": {},
   "outputs": [
    {
     "data": {
      "text/plain": [
       "{'cells': [{'cell_type': 'markdown',\n",
       "   'id': '54992f8c-c2b4-4a58-8c38-a271f0c4a07e',\n",
       "   'metadata': {},\n",
       "   'source': '## Large Arrays'},\n",
       "  {'cell_type': 'code',\n",
       "   'execution_count': 57,\n",
       "   'id': '0feeacfb-4b64-416c-a232-3de290fac7e9',\n",
       "   'metadata': {},\n",
       "   'outputs': [{'data': {'text/plain': \"('weather-buoy-data.txt.gz', <http.client.HTTPMessage at 0x10a16be20>)\"},\n",
       "     'execution_count': 57,\n",
       "     'metadata': {},\n",
       "     'output_type': 'execute_result'}],\n",
       "   'source': \"import urllib\\n\\nlocal_fname = 'weather-buoy-data.txt.gz'\\nurllib.request.urlretrieve('https://www.ndbc.noaa.gov/data/historical/stdmet/42040h2021.txt.gz', local_fname)\\n\\n# np.__version__\\n# !python -V\\n# iii\\n# !python4 -V\"},\n",
       "  {'cell_type': 'code',\n",
       "   'execution_count': 58,\n",
       "   'id': 'aa19697d-850f-42ad-8d56-ab81d33281e1',\n",
       "   'metadata': {},\n",
       "   'outputs': [],\n",
       "   'source': \"import gzip\\n\\nf = (gzip.open('weather-buoy-data.txt.gz'))\\nnext(f)\\nnext(f)\\nvals = []\\nfor line in f:\\n    vals.append(float(line.split()[5]))\\n\"},\n",
       "  {'cell_type': 'code',\n",
       "   'execution_count': 69,\n",
       "   'id': 'ade59537-f921-4ecb-95f4-83360baa2119',\n",
       "   'metadata': {},\n",
       "   'outputs': [{'data': {'text/plain': 'array([[88.        , 88.09090909, 88.18181818, ..., 88.        ,\\n        88.09090909, 88.18181818],\\n       [88.27272727, 88.36363636, 88.45454545, ..., 88.27272727,\\n        88.36363636, 88.45454545],\\n       [88.54545455, 88.63636364, 88.72727273, ..., 88.54545455,\\n        88.63636364, 88.72727273],\\n       ...,\\n       [88.81818182, 88.        , 88.09090909, ..., 88.81818182,\\n        88.        , 88.09090909],\\n       [88.18181818, 88.27272727, 88.36363636, ..., 88.18181818,\\n        88.27272727, 88.36363636],\\n       [88.45454545, 88.54545455, 88.63636364, ..., 88.45454545,\\n        88.54545455, 88.63636364]])'},\n",
       "     'execution_count': 69,\n",
       "     'metadata': {},\n",
       "     'output_type': 'execute_result'}],\n",
       "   'source': 'import numpy as np\\n\\norig = (vals[0] + (np.arange(len(vals)) % 10) / 11).reshape((16,2333))\\nnp.set_printoptions(edgeitems = 3)\\nnp.core.arrayprint._line_width = 180\\n# len(\"array([[88.     , 88.09091, 88.18182, 88.27273, ..., 88.81818, 88.     \")\\norig'},\n",
       "  {'cell_type': 'code',\n",
       "   'execution_count': 60,\n",
       "   'id': '02956456-f862-4ffc-80a5-f3c778f7d4ad',\n",
       "   'metadata': {},\n",
       "   'outputs': [{'data': {'text/plain': 'array([[88.  , 88.09, 88.18, 88.27, ..., 88.82, 88.  , 88.09, 88.18],\\n       [88.27, 88.36, 88.45, 88.55, ..., 88.18, 88.27, 88.36, 88.45],\\n       [88.55, 88.64, 88.73, 88.82, ..., 88.45, 88.55, 88.64, 88.73],\\n       [88.82, 88.  , 88.09, 88.18, ..., 88.73, 88.82, 88.  , 88.09],\\n       ...,\\n       [88.55, 88.64, 88.73, 88.82, ..., 88.45, 88.55, 88.64, 88.73],\\n       [88.82, 88.  , 88.09, 88.18, ..., 88.73, 88.82, 88.  , 88.09],\\n       [88.18, 88.27, 88.36, 88.45, ..., 88.09, 88.18, 88.27, 88.36],\\n       [88.45, 88.55, 88.64, 88.73, ..., 88.36, 88.45, 88.55, 88.64]])'},\n",
       "     'execution_count': 60,\n",
       "     'metadata': {},\n",
       "     'output_type': 'execute_result'}],\n",
       "   'source': 'import numpy as np\\na = np.round(orig, 2)\\na'},\n",
       "  {'cell_type': 'code',\n",
       "   'execution_count': 61,\n",
       "   'id': '51bb045f-c544-4b61-b4dc-2efcdeb42961',\n",
       "   'metadata': {},\n",
       "   'outputs': [{'data': {'text/plain': 'array([[88.  , 88.09, 88.18, 88.27, ..., 88.81, 88.  , 88.09, 88.18],\\n       [88.27, 88.36, 88.45, 88.54, ..., 88.18, 88.27, 88.36, 88.45],\\n       [88.54, 88.63, 88.72, 88.81, ..., 88.45, 88.54, 88.63, 88.72],\\n       [88.81, 88.  , 88.09, 88.18, ..., 88.72, 88.81, 88.  , 88.09],\\n       ...,\\n       [88.54, 88.63, 88.72, 88.81, ..., 88.45, 88.54, 88.63, 88.72],\\n       [88.81, 88.  , 88.09, 88.18, ..., 88.72, 88.81, 88.  , 88.09],\\n       [88.18, 88.27, 88.36, 88.45, ..., 88.09, 88.18, 88.27, 88.36],\\n       [88.45, 88.54, 88.63, 88.72, ..., 88.36, 88.45, 88.54, 88.63]])'},\n",
       "     'execution_count': 61,\n",
       "     'metadata': {},\n",
       "     'output_type': 'execute_result'}],\n",
       "   'source': 'b = np.floor(orig*100)/100\\nb'},\n",
       "  {'cell_type': 'code',\n",
       "   'execution_count': 62,\n",
       "   'id': '5b1a8aec-1cbf-4ca3-bb52-2504b0b43e74',\n",
       "   'metadata': {},\n",
       "   'outputs': [{'data': {'text/plain': 'array([[88.  , 88.09, 88.18, 88.27, ..., 88.82, 88.  , 88.09, 88.18],\\n       [88.27, 88.36, 88.45, 88.55, ..., 88.18, 88.27, 88.36, 88.45],\\n       [88.55, 88.64, 88.73, 88.82, ..., 88.45, 88.55, 88.64, 88.73],\\n       [88.82, 88.  , 88.09, 88.18, ..., 88.73, 88.82, 88.  , 88.09],\\n       ...,\\n       [88.55, 88.64, 88.73, 88.82, ..., 88.45, 88.55, 88.64, 88.73],\\n       [88.82, 88.  , 88.09, 88.18, ..., 88.73, 88.82, 88.  , 88.09],\\n       [88.18, 88.27, 88.36, 88.45, ..., 88.09, 88.18, 88.27, 88.36],\\n       [88.45, 88.55, 88.64, 88.73, ..., 88.36, 88.45, 88.55, 88.64]])'},\n",
       "     'execution_count': 62,\n",
       "     'metadata': {},\n",
       "     'output_type': 'execute_result'}],\n",
       "   'source': 'c = np.delete(a, 5, 1)\\nc'},\n",
       "  {'cell_type': 'code',\n",
       "   'execution_count': 63,\n",
       "   'id': 'b06e6f5e-c805-4435-85d3-430744ca15c8',\n",
       "   'metadata': {},\n",
       "   'outputs': [{'data': {'text/plain': 'False'},\n",
       "     'execution_count': 63,\n",
       "     'metadata': {},\n",
       "     'output_type': 'execute_result'}],\n",
       "   'source': 'np.array_equal(a,c)'},\n",
       "  {'cell_type': 'code',\n",
       "   'execution_count': 64,\n",
       "   'id': 'a63120a7-7626-4692-938c-f90e01d93d9b',\n",
       "   'metadata': {},\n",
       "   'outputs': [{'data': {'text/plain': '((16, 2333), (16, 2333), (16, 2332))'},\n",
       "     'execution_count': 64,\n",
       "     'metadata': {},\n",
       "     'output_type': 'execute_result'}],\n",
       "   'source': 'a.shape, b.shape, c.shape'},\n",
       "  {'cell_type': 'markdown',\n",
       "   'id': 'e1854ad0-0b11-4317-a025-84a31087f089',\n",
       "   'metadata': {},\n",
       "   'source': '## Real-Time Data'},\n",
       "  {'cell_type': 'code',\n",
       "   'execution_count': 65,\n",
       "   'id': 'ab24461a-a74b-4b24-a49b-c9682426906e',\n",
       "   'metadata': {},\n",
       "   'outputs': [{'data': {'text/plain': \"('fl-weather-alerts.json', <http.client.HTTPMessage at 0x10b3b7df0>)\"},\n",
       "     'execution_count': 65,\n",
       "     'metadata': {},\n",
       "     'output_type': 'execute_result'}],\n",
       "   'source': \"import urllib\\n\\nlocal_fname = 'fl-weather-alerts.json'\\nurllib.request.urlretrieve('https://api.weather.gov/alerts/active?area=FL', local_fname)\"},\n",
       "  {'cell_type': 'code',\n",
       "   'execution_count': 66,\n",
       "   'id': '2477e9a1-c60d-4619-97c1-c8aaa218509a',\n",
       "   'metadata': {},\n",
       "   'outputs': [],\n",
       "   'source': 'import json\\nd = json.load(open(local_fname));'},\n",
       "  {'cell_type': 'code',\n",
       "   'execution_count': 67,\n",
       "   'id': 'ff516426-38e8-40e1-9728-ff85ee668631',\n",
       "   'metadata': {},\n",
       "   'outputs': [{'data': {'text/plain': '2'},\n",
       "     'execution_count': 67,\n",
       "     'metadata': {},\n",
       "     'output_type': 'execute_result'}],\n",
       "   'source': \"len(d['features'])\"},\n",
       "  {'cell_type': 'code',\n",
       "   'execution_count': 68,\n",
       "   'id': '3e99559e-ce3d-4b0c-96fb-4529a89bb7d8',\n",
       "   'metadata': {},\n",
       "   'outputs': [{'data': {'text/plain': \"['Rip Current Statement issued March 5 at 2:12AM EST until March 7 at 7:00AM EST by NWS Tallahassee FL',\\n 'Rip Current Statement issued March 5 at 2:12AM EST until March 7 at 7:00AM EST by NWS Tallahassee FL']\"},\n",
       "     'execution_count': 68,\n",
       "     'metadata': {},\n",
       "     'output_type': 'execute_result'}],\n",
       "   'source': \"[feat['properties']['headline'] for feat in d['features']]\"},\n",
       "  {'cell_type': 'code',\n",
       "   'execution_count': None,\n",
       "   'id': 'c1394719-1453-4afb-98f3-7bb60e76637c',\n",
       "   'metadata': {},\n",
       "   'outputs': [],\n",
       "   'source': ''},\n",
       "  {'cell_type': 'code',\n",
       "   'execution_count': None,\n",
       "   'id': '1f007519',\n",
       "   'metadata': {},\n",
       "   'outputs': [],\n",
       "   'source': ''}],\n",
       " 'metadata': {'kernelspec': {'display_name': 'Python 3.10.0 64-bit',\n",
       "   'language': 'python',\n",
       "   'name': 'python3'},\n",
       "  'language_info': {'codemirror_mode': {'name': 'ipython', 'version': 3},\n",
       "   'file_extension': '.py',\n",
       "   'mimetype': 'text/x-python',\n",
       "   'name': 'python',\n",
       "   'nbconvert_exporter': 'python',\n",
       "   'pygments_lexer': 'ipython3',\n",
       "   'version': '3.10.0'},\n",
       "  'vscode': {'interpreter': {'hash': 'aee8b7b246df8f9039afb4144a1f6fd8d2ca17a180786b69acc140d282b71a49'}}},\n",
       " 'nbformat': 4,\n",
       " 'nbformat_minor': 5}"
      ]
     },
     "execution_count": 31,
     "metadata": {},
     "output_type": "execute_result"
    }
   ],
   "source": [
    "import nbformat\n",
    "with open(\"reproduce-cases.ipynb\", \"r\") as f:\n",
    "    data = nbformat.read(f, as_version=nbformat.NO_CONVERT)\n",
    "\n",
    "import nbformat\n",
    "with open(\"reproduce-cases-testing.ipynb\", \"r\") as f:\n",
    "    data1 = nbformat.read(f, as_version=nbformat.NO_CONVERT)\n",
    "data1"
   ]
  },
  {
   "cell_type": "code",
   "execution_count": 15,
   "metadata": {},
   "outputs": [],
   "source": [
    "# data, data1\n",
    "data3 = []\n",
    "data4 = []"
   ]
  },
  {
   "cell_type": "code",
   "execution_count": 36,
   "metadata": {},
   "outputs": [
    {
     "data": {
      "text/plain": [
       "({'cell_type': 'code',\n",
       "  'execution_count': 90,\n",
       "  'id': '0feeacfb-4b64-416c-a232-3de290fac7e9',\n",
       "  'metadata': {},\n",
       "  'outputs': [{'data': {'text/plain': \"('weather-buoy-data.txt.gz', <http.client.HTTPMessage at 0x117339bd0>)\"},\n",
       "    'execution_count': 90,\n",
       "    'metadata': {},\n",
       "    'output_type': 'execute_result'}],\n",
       "  'source': \"import urllib\\n\\nlocal_fname = 'weather-buoy-data.txt.gz'\\nurllib.request.urlretrieve('https://www.ndbc.noaa.gov/data/historical/stdmet/42040h2021.txt.gz', local_fname)\"},\n",
       " {'cell_type': 'code',\n",
       "  'execution_count': 57,\n",
       "  'id': '0feeacfb-4b64-416c-a232-3de290fac7e9',\n",
       "  'metadata': {},\n",
       "  'outputs': [{'data': {'text/plain': \"('weather-buoy-data.txt.gz', <http.client.HTTPMessage at 0x10a16be20>)\"},\n",
       "    'execution_count': 57,\n",
       "    'metadata': {},\n",
       "    'output_type': 'execute_result'}],\n",
       "  'source': \"import urllib\\n\\nlocal_fname = 'weather-buoy-data.txt.gz'\\nurllib.request.urlretrieve('https://www.ndbc.noaa.gov/data/historical/stdmet/42040h2021.txt.gz', local_fname)\\n\\n# np.__version__\\n# !python -V\\n# iii\\n# !python4 -V\"})"
      ]
     },
     "execution_count": 36,
     "metadata": {},
     "output_type": "execute_result"
    }
   ],
   "source": [
    "o = 0\n",
    "for d1, d2 in zip(data[\"cells\"], data1[\"cells\"]):\n",
    "    # for d3, d4 in zip(data[d1],data1[d2]):\n",
    "    # print(d1, d2)\n",
    "    o = o+1\n",
    "    # print(o)\n",
    "    if d1[\"cell_type\"] == \"code\" and d2[\"cell_type\"] == \"code\":\n",
    "        data3.append(d1)\n",
    "        data4.append(d2)\n",
    "\n",
    "len(data3), len(data4)\n",
    "data3[0], data4[0]"
   ]
  },
  {
   "cell_type": "code",
   "execution_count": 38,
   "metadata": {},
   "outputs": [
    {
     "data": {
      "text/plain": [
       "[]"
      ]
     },
     "execution_count": 38,
     "metadata": {},
     "output_type": "execute_result"
    }
   ],
   "source": []
  },
  {
   "cell_type": "code",
   "execution_count": null,
   "metadata": {},
   "outputs": [],
   "source": []
  }
 ],
 "metadata": {
  "kernelspec": {
   "display_name": "Python 3.10.0 64-bit",
   "language": "python",
   "name": "python3"
  },
  "language_info": {
   "codemirror_mode": {
    "name": "ipython",
    "version": 3
   },
   "file_extension": ".py",
   "mimetype": "text/x-python",
   "name": "python",
   "nbconvert_exporter": "python",
   "pygments_lexer": "ipython3",
   "version": "3.11.3"
  },
  "orig_nbformat": 4,
  "vscode": {
   "interpreter": {
    "hash": "aee8b7b246df8f9039afb4144a1f6fd8d2ca17a180786b69acc140d282b71a49"
   }
  }
 },
 "nbformat": 4,
 "nbformat_minor": 2
}
